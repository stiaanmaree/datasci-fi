{
 "cells": [
  {
   "cell_type": "markdown",
   "metadata": {},
   "source": [
    "# Lesson 6 // Bag-of-words models\n",
    "\n",
    "In a bag-of-words model, a text document is represented by the set of words used in the document. This is a simplified representation that ignores much of the more subtle structure of text, like the order that words appear in and grammar. Frequency counts of the words used in a document can be used to cluster documents or as features in predictive modelling.\n",
    "\n",
    "For example, say we have a collection of newspaper articles drawn from entertainment and business categories. The set of documents is known as the *corpus*. The set of all unique words used in any of the articles consitutes our bag-of-words, also called the *vocabulary*. We can represent this data as a matrix, in which each article is a row, each word is a column, and the entry in row *i* and column *j* contains the number of times word *j* appears in document *i* (many of these values will be zero, so we have a sparse matrix). A final column contains our response variable, indicating the type of article (entertainment or business). We could use the word frequencies as features to build a model that, on the basis of frequencies of different words, predicts whether an article is about business or entertainment. This is a typical kind of use for a bag-of-words model. Some hypothetical data is shown below.\n",
    "\n",
    "|document | sing | money | the | happy | dividend |... | response\n",
    "|---------|-----|-----|-----|-------|-----|----------\n",
    "|1 | 5 | 0 | 15 | 0 | 0 | ... | ent\n",
    "|2 | 0 | 5 | 12 | 2 | 0 |... | bus\n",
    "|3 | 0 | 0 | 3 | 0 | 6 | ... | bus\n",
    "|... | ... | ... | ... | ... | ... | ... | ...\n",
    "|100 | 10 | 0 | 13 | 10 | 2 | ... | ent\n",
    "\n",
    "This notebook covers bag-of-words models. In the notebook we:\n",
    "\n",
    "1. Show how to extract bag-of-words features from a text document.\n",
    "2. Build a classification tree with bag-of-words to predict whether a Trump tweet was made before or after he became president, on the basis of the content of that tweet.\n",
    "3. Show how to test that model using in- and out-of-sample validation.\n",
    "4. Introduce *tf-idf* (term frequency-inverse-document-frequency), a way of weighting word frequencies that adjusts for how common a word is across documents (and hence how \"special\" a word is to a particular document).\n",
    "5. Build another classification tree, based on tf-idf weighted bag-of-words features, and see whether we get more accurate predictions.\n",
    "\n",
    "[Chapter 3](http://tidytextmining.com/tfidf.html) of TMR covers tf-idf and related topics."
   ]
  },
  {
   "cell_type": "markdown",
   "metadata": {},
   "source": [
    "We'll start by loading the packages we need, loading the data containing the tweets, and doing some wrangling. Most of this is the same as before - we\n",
    "* parse the date the tweet was created, \n",
    "* make a new variable indicating whether the tweet was made while president, \n",
    "* do some cleaning of the tweets to remove links, retweets. Note that this time we do **not** remove stop words as we handle these via the downweighting performed by tf-idf. The relevant line of code has been commented out below - you can remove the comment and hence remove stop words (there is nothing \"wrong\" with doing this) and see what happens.\n",
    "* turn the data into tidy text data by tokenization by word (plus some stuff important to tweets, like hashtags). \n",
    "\n",
    "This is mostly the same as what we did in previous notebooks, so refer back to them if anything is not clear.\n",
    "\n",
    "In addition, we take a sample of 1000 tweets before and after he became president. That will be enough to build a model later - you can always use more data if you want."
   ]
  },
  {
   "cell_type": "code",
   "execution_count": 1,
   "metadata": {
    "collapsed": false
   },
   "outputs": [
    {
     "name": "stderr",
     "output_type": "stream",
     "text": [
      "Loading tidyverse: ggplot2\n",
      "Loading tidyverse: tibble\n",
      "Loading tidyverse: tidyr\n",
      "Loading tidyverse: readr\n",
      "Loading tidyverse: purrr\n",
      "Loading tidyverse: dplyr\n",
      "Conflicts with tidy packages ---------------------------------------------------\n",
      "filter(): dplyr, stats\n",
      "lag():    dplyr, stats\n",
      "\n",
      "Attaching package: 'lubridate'\n",
      "\n",
      "The following object is masked from 'package:base':\n",
      "\n",
      "    date\n",
      "\n"
     ]
    }
   ],
   "source": [
    "library(tidyverse)\n",
    "library(stringr)\n",
    "library(lubridate)\n",
    "library(tidytext)\n",
    "library(rpart) \n",
    "\n",
    "options(repr.plot.width=4, repr.plot.height=3) # set plot size in the notebook\n",
    "\n",
    "load(\"data/trump-tweets.RData\")\n",
    "\n",
    "# make data a tibble\n",
    "tweets <- as.tibble(tweets)\n",
    "\n",
    "# parse the date and add some date related variables\n",
    "tweets <- tweets %>% \n",
    "  mutate(date = parse_datetime(str_sub(tweets$created_at,5,30), \"%b %d %H:%M:%S %z %Y\")) %>% \n",
    "  mutate(is_prez = (date > ymd(20161108))) %>%\n",
    "  mutate(month = make_date(year(date), month(date)))\n",
    "\n",
    "# take a random sample of 1000 tweets before and after became president\n",
    "set.seed(98) #100\n",
    "tweets <- tweets %>% group_by(is_prez) %>% sample_n(1000)\n",
    "\n",
    "# turn into tidy text \n",
    "replace_reg <- \"(https?:.*?([\\\\s]|[a-zA-Z0-9]$))|(www:.*?([\\\\s]|[a-zA-Z0-9]$))|&amp;|&lt;|&gt;|RT\"\n",
    "unnest_reg <- \"[^A-Za-z_\\\\d#@']\"\n",
    "tidy_tweets <- tweets %>% \n",
    "    filter(!str_detect(text, \"^RT\")) %>% # remove retweets\n",
    "    mutate(text = str_replace_all(text, replace_reg, \"\")) %>% # remove stuff we don't want like links\n",
    "    unnest_tokens(word, text, token = \"regex\", pattern = unnest_reg) %>% # tokenize\n",
    "    # filter(!word %in% stop_words$word, str_detect(word, \"[a-z]\")) %>% # WE LEAVE THE STOP WORDS IN THIS TIME\n",
    "    filter(!str_detect(word, \"@realdonaldtrump\")) %>% # remove @realdonald trump, which we know is highly predictive\n",
    "    select(date,word,is_prez,favorite_count,id_str,month) # choose the variables we need"
   ]
  },
  {
   "cell_type": "markdown",
   "metadata": {},
   "source": [
    "Let's look at the most popular words:"
   ]
  },
  {
   "cell_type": "code",
   "execution_count": 2,
   "metadata": {
    "collapsed": false
   },
   "outputs": [
    {
     "data": {
      "text/html": [
       "<table>\n",
       "<thead><tr><th scope=col>date</th><th scope=col>word</th><th scope=col>is_prez</th><th scope=col>favorite_count</th><th scope=col>id_str</th><th scope=col>month</th></tr></thead>\n",
       "<tbody>\n",
       "\t<tr><td>2012-10-31 03:56:31</td><td>watch              </td><td>FALSE              </td><td> 23                </td><td>263489601975504896 </td><td>2012-10-01         </td></tr>\n",
       "\t<tr><td>2012-10-31 03:56:31</td><td>me                 </td><td>FALSE              </td><td> 23                </td><td>263489601975504896 </td><td>2012-10-01         </td></tr>\n",
       "\t<tr><td>2012-10-31 03:56:31</td><td>tonight            </td><td>FALSE              </td><td> 23                </td><td>263489601975504896 </td><td>2012-10-01         </td></tr>\n",
       "\t<tr><td>2012-10-31 03:56:31</td><td>on                 </td><td>FALSE              </td><td> 23                </td><td>263489601975504896 </td><td>2012-10-01         </td></tr>\n",
       "\t<tr><td>2012-10-31 03:56:31</td><td>late               </td><td>FALSE              </td><td> 23                </td><td>263489601975504896 </td><td>2012-10-01         </td></tr>\n",
       "\t<tr><td>2012-10-31 03:56:31</td><td>night              </td><td>FALSE              </td><td> 23                </td><td>263489601975504896 </td><td>2012-10-01         </td></tr>\n",
       "\t<tr><td>2012-10-31 03:56:31</td><td>with               </td><td>FALSE              </td><td> 23                </td><td>263489601975504896 </td><td>2012-10-01         </td></tr>\n",
       "\t<tr><td>2012-10-31 03:56:31</td><td>jimmy              </td><td>FALSE              </td><td> 23                </td><td>263489601975504896 </td><td>2012-10-01         </td></tr>\n",
       "\t<tr><td>2012-10-31 03:56:31</td><td>fallon             </td><td>FALSE              </td><td> 23                </td><td>263489601975504896 </td><td>2012-10-01         </td></tr>\n",
       "\t<tr><td>2012-10-31 03:56:31</td><td>photo              </td><td>FALSE              </td><td> 23                </td><td>263489601975504896 </td><td>2012-10-01         </td></tr>\n",
       "\t<tr><td>2012-10-31 03:56:31</td><td>lloyd              </td><td>FALSE              </td><td> 23                </td><td>263489601975504896 </td><td>2012-10-01         </td></tr>\n",
       "\t<tr><td>2012-10-31 03:56:31</td><td>bishop             </td><td>FALSE              </td><td> 23                </td><td>263489601975504896 </td><td>2012-10-01         </td></tr>\n",
       "\t<tr><td>2012-10-31 03:56:31</td><td>nbc                </td><td>FALSE              </td><td> 23                </td><td>263489601975504896 </td><td>2012-10-01         </td></tr>\n",
       "\t<tr><td>2012-11-01 16:40:00</td><td>press              </td><td>FALSE              </td><td> 93                </td><td>264044128134893568 </td><td>2012-11-01         </td></tr>\n",
       "\t<tr><td>2012-11-01 16:40:00</td><td>release            </td><td>FALSE              </td><td> 93                </td><td>264044128134893568 </td><td>2012-11-01         </td></tr>\n",
       "\t<tr><td>2012-11-01 16:40:00</td><td>video              </td><td>FALSE              </td><td> 93                </td><td>264044128134893568 </td><td>2012-11-01         </td></tr>\n",
       "\t<tr><td>2012-11-01 16:40:00</td><td>response           </td><td>FALSE              </td><td> 93                </td><td>264044128134893568 </td><td>2012-11-01         </td></tr>\n",
       "\t<tr><td>2012-11-01 16:40:00</td><td>to                 </td><td>FALSE              </td><td> 93                </td><td>264044128134893568 </td><td>2012-11-01         </td></tr>\n",
       "\t<tr><td>2012-11-01 16:40:00</td><td>follow             </td><td>FALSE              </td><td> 93                </td><td>264044128134893568 </td><td>2012-11-01         </td></tr>\n",
       "\t<tr><td>2013-01-17 20:29:53</td><td>miss               </td><td>FALSE              </td><td> 54                </td><td>292005847326916608 </td><td>2013-01-01         </td></tr>\n",
       "\t<tr><td>2013-01-17 20:29:53</td><td>alabama            </td><td>FALSE              </td><td> 54                </td><td>292005847326916608 </td><td>2013-01-01         </td></tr>\n",
       "\t<tr><td>2013-01-17 20:29:53</td><td>@_katherinewebb    </td><td>FALSE              </td><td> 54                </td><td>292005847326916608 </td><td>2013-01-01         </td></tr>\n",
       "\t<tr><td>2013-01-17 20:29:53</td><td>stopped            </td><td>FALSE              </td><td> 54                </td><td>292005847326916608 </td><td>2013-01-01         </td></tr>\n",
       "\t<tr><td>2013-01-17 20:29:53</td><td>by                 </td><td>FALSE              </td><td> 54                </td><td>292005847326916608 </td><td>2013-01-01         </td></tr>\n",
       "\t<tr><td>2013-01-17 20:29:53</td><td>to                 </td><td>FALSE              </td><td> 54                </td><td>292005847326916608 </td><td>2013-01-01         </td></tr>\n",
       "\t<tr><td>2013-01-17 20:29:53</td><td>say                </td><td>FALSE              </td><td> 54                </td><td>292005847326916608 </td><td>2013-01-01         </td></tr>\n",
       "\t<tr><td>2013-01-17 20:29:53</td><td>hello              </td><td>FALSE              </td><td> 54                </td><td>292005847326916608 </td><td>2013-01-01         </td></tr>\n",
       "\t<tr><td>2013-01-17 20:29:53</td><td>today              </td><td>FALSE              </td><td> 54                </td><td>292005847326916608 </td><td>2013-01-01         </td></tr>\n",
       "\t<tr><td>2013-01-31 18:03:24</td><td>little             </td><td>FALSE              </td><td>135                </td><td>297042413078319105 </td><td>2013-01-01         </td></tr>\n",
       "\t<tr><td>2013-01-31 18:03:24</td><td>@macmiller         </td><td>FALSE              </td><td>135                </td><td>297042413078319105 </td><td>2013-01-01         </td></tr>\n",
       "\t<tr><td>...</td><td>...</td><td>...</td><td>...</td><td>...</td><td>...</td></tr>\n",
       "\t<tr><td>2011-07-12 13:18:24</td><td>ball               </td><td>FALSE              </td><td>  1                </td><td>90771995893043201  </td><td>2011-07-01         </td></tr>\n",
       "\t<tr><td>2011-07-12 13:18:24</td><td>rolling            </td><td>FALSE              </td><td>  1                </td><td>90771995893043201  </td><td>2011-07-01         </td></tr>\n",
       "\t<tr><td>2011-07-12 20:08:55</td><td>@macmiller         </td><td>FALSE              </td><td>633                </td><td>90875305119592448  </td><td>2011-07-01         </td></tr>\n",
       "\t<tr><td>2011-07-12 20:08:55</td><td>donald             </td><td>FALSE              </td><td>633                </td><td>90875305119592448  </td><td>2011-07-01         </td></tr>\n",
       "\t<tr><td>2011-07-12 20:08:55</td><td>trump              </td><td>FALSE              </td><td>633                </td><td>90875305119592448  </td><td>2011-07-01         </td></tr>\n",
       "\t<tr><td>2011-07-12 20:08:55</td><td>the                </td><td>FALSE              </td><td>633                </td><td>90875305119592448  </td><td>2011-07-01         </td></tr>\n",
       "\t<tr><td>2011-07-12 20:08:55</td><td>song               </td><td>FALSE              </td><td>633                </td><td>90875305119592448  </td><td>2011-07-01         </td></tr>\n",
       "\t<tr><td>2011-07-12 20:08:55</td><td>gets               </td><td>FALSE              </td><td>633                </td><td>90875305119592448  </td><td>2011-07-01         </td></tr>\n",
       "\t<tr><td>2011-07-12 20:08:55</td><td>16m                </td><td>FALSE              </td><td>633                </td><td>90875305119592448  </td><td>2011-07-01         </td></tr>\n",
       "\t<tr><td>2011-07-12 20:08:55</td><td>hits               </td><td>FALSE              </td><td>633                </td><td>90875305119592448  </td><td>2011-07-01         </td></tr>\n",
       "\t<tr><td>2011-07-12 20:08:55</td><td>on                 </td><td>FALSE              </td><td>633                </td><td>90875305119592448  </td><td>2011-07-01         </td></tr>\n",
       "\t<tr><td>2011-07-12 20:08:55</td><td>youtube            </td><td>FALSE              </td><td>633                </td><td>90875305119592448  </td><td>2011-07-01         </td></tr>\n",
       "\t<tr><td>2011-07-12 20:08:55</td><td>who                </td><td>FALSE              </td><td>633                </td><td>90875305119592448  </td><td>2011-07-01         </td></tr>\n",
       "\t<tr><td>2011-07-12 20:08:55</td><td>wouldn't           </td><td>FALSE              </td><td>633                </td><td>90875305119592448  </td><td>2011-07-01         </td></tr>\n",
       "\t<tr><td>2011-07-12 20:08:55</td><td>be                 </td><td>FALSE              </td><td>633                </td><td>90875305119592448  </td><td>2011-07-01         </td></tr>\n",
       "\t<tr><td>2011-07-12 20:08:55</td><td>flattered          </td><td>FALSE              </td><td>633                </td><td>90875305119592448  </td><td>2011-07-01         </td></tr>\n",
       "\t<tr><td>2011-07-25 19:41:31</td><td>the                </td><td>FALSE              </td><td> 11                </td><td>95579450183385090  </td><td>2011-07-01         </td></tr>\n",
       "\t<tr><td>2011-07-25 19:41:31</td><td>pressure           </td><td>FALSE              </td><td> 11                </td><td>95579450183385090  </td><td>2011-07-01         </td></tr>\n",
       "\t<tr><td>2011-07-25 19:41:31</td><td>on                 </td><td>FALSE              </td><td> 11                </td><td>95579450183385090  </td><td>2011-07-01         </td></tr>\n",
       "\t<tr><td>2011-07-25 19:41:31</td><td>the                </td><td>FALSE              </td><td> 11                </td><td>95579450183385090  </td><td>2011-07-01         </td></tr>\n",
       "\t<tr><td>2011-07-25 19:41:31</td><td>debt               </td><td>FALSE              </td><td> 11                </td><td>95579450183385090  </td><td>2011-07-01         </td></tr>\n",
       "\t<tr><td>2011-07-25 19:41:31</td><td>ceiling            </td><td>FALSE              </td><td> 11                </td><td>95579450183385090  </td><td>2011-07-01         </td></tr>\n",
       "\t<tr><td>2011-07-25 19:41:31</td><td>is                 </td><td>FALSE              </td><td> 11                </td><td>95579450183385090  </td><td>2011-07-01         </td></tr>\n",
       "\t<tr><td>2011-07-25 19:41:31</td><td>on                 </td><td>FALSE              </td><td> 11                </td><td>95579450183385090  </td><td>2011-07-01         </td></tr>\n",
       "\t<tr><td>2011-07-25 19:41:31</td><td>@barackobama       </td><td>FALSE              </td><td> 11                </td><td>95579450183385090  </td><td>2011-07-01         </td></tr>\n",
       "\t<tr><td>2011-07-25 19:41:31</td><td>#trumpvlog         </td><td>FALSE              </td><td> 11                </td><td>95579450183385090  </td><td>2011-07-01         </td></tr>\n",
       "\t<tr><td>2013-08-19 18:17:28</td><td>#trumpvine         </td><td>FALSE              </td><td> 72                </td><td>369523525817602048 </td><td>2013-08-01         </td></tr>\n",
       "\t<tr><td>2013-08-19 18:17:28</td><td>opinion            </td><td>FALSE              </td><td> 72                </td><td>369523525817602048 </td><td>2013-08-01         </td></tr>\n",
       "\t<tr><td>2013-08-19 18:17:28</td><td>on                 </td><td>FALSE              </td><td> 72                </td><td>369523525817602048 </td><td>2013-08-01         </td></tr>\n",
       "\t<tr><td>2013-08-19 18:17:28</td><td>egypt              </td><td>FALSE              </td><td> 72                </td><td>369523525817602048 </td><td>2013-08-01         </td></tr>\n",
       "</tbody>\n",
       "</table>\n"
      ],
      "text/latex": [
       "\\begin{tabular}{r|llllll}\n",
       " date & word & is\\_prez & favorite\\_count & id\\_str & month\\\\\n",
       "\\hline\n",
       "\t 2012-10-31 03:56:31 & watch               & FALSE               &  23                 & 263489601975504896  & 2012-10-01         \\\\\n",
       "\t 2012-10-31 03:56:31 & me                  & FALSE               &  23                 & 263489601975504896  & 2012-10-01         \\\\\n",
       "\t 2012-10-31 03:56:31 & tonight             & FALSE               &  23                 & 263489601975504896  & 2012-10-01         \\\\\n",
       "\t 2012-10-31 03:56:31 & on                  & FALSE               &  23                 & 263489601975504896  & 2012-10-01         \\\\\n",
       "\t 2012-10-31 03:56:31 & late                & FALSE               &  23                 & 263489601975504896  & 2012-10-01         \\\\\n",
       "\t 2012-10-31 03:56:31 & night               & FALSE               &  23                 & 263489601975504896  & 2012-10-01         \\\\\n",
       "\t 2012-10-31 03:56:31 & with                & FALSE               &  23                 & 263489601975504896  & 2012-10-01         \\\\\n",
       "\t 2012-10-31 03:56:31 & jimmy               & FALSE               &  23                 & 263489601975504896  & 2012-10-01         \\\\\n",
       "\t 2012-10-31 03:56:31 & fallon              & FALSE               &  23                 & 263489601975504896  & 2012-10-01         \\\\\n",
       "\t 2012-10-31 03:56:31 & photo               & FALSE               &  23                 & 263489601975504896  & 2012-10-01         \\\\\n",
       "\t 2012-10-31 03:56:31 & lloyd               & FALSE               &  23                 & 263489601975504896  & 2012-10-01         \\\\\n",
       "\t 2012-10-31 03:56:31 & bishop              & FALSE               &  23                 & 263489601975504896  & 2012-10-01         \\\\\n",
       "\t 2012-10-31 03:56:31 & nbc                 & FALSE               &  23                 & 263489601975504896  & 2012-10-01         \\\\\n",
       "\t 2012-11-01 16:40:00 & press               & FALSE               &  93                 & 264044128134893568  & 2012-11-01         \\\\\n",
       "\t 2012-11-01 16:40:00 & release             & FALSE               &  93                 & 264044128134893568  & 2012-11-01         \\\\\n",
       "\t 2012-11-01 16:40:00 & video               & FALSE               &  93                 & 264044128134893568  & 2012-11-01         \\\\\n",
       "\t 2012-11-01 16:40:00 & response            & FALSE               &  93                 & 264044128134893568  & 2012-11-01         \\\\\n",
       "\t 2012-11-01 16:40:00 & to                  & FALSE               &  93                 & 264044128134893568  & 2012-11-01         \\\\\n",
       "\t 2012-11-01 16:40:00 & follow              & FALSE               &  93                 & 264044128134893568  & 2012-11-01         \\\\\n",
       "\t 2013-01-17 20:29:53 & miss                & FALSE               &  54                 & 292005847326916608  & 2013-01-01         \\\\\n",
       "\t 2013-01-17 20:29:53 & alabama             & FALSE               &  54                 & 292005847326916608  & 2013-01-01         \\\\\n",
       "\t 2013-01-17 20:29:53 & @\\_katherinewebb   & FALSE               &  54                 & 292005847326916608  & 2013-01-01         \\\\\n",
       "\t 2013-01-17 20:29:53 & stopped             & FALSE               &  54                 & 292005847326916608  & 2013-01-01         \\\\\n",
       "\t 2013-01-17 20:29:53 & by                  & FALSE               &  54                 & 292005847326916608  & 2013-01-01         \\\\\n",
       "\t 2013-01-17 20:29:53 & to                  & FALSE               &  54                 & 292005847326916608  & 2013-01-01         \\\\\n",
       "\t 2013-01-17 20:29:53 & say                 & FALSE               &  54                 & 292005847326916608  & 2013-01-01         \\\\\n",
       "\t 2013-01-17 20:29:53 & hello               & FALSE               &  54                 & 292005847326916608  & 2013-01-01         \\\\\n",
       "\t 2013-01-17 20:29:53 & today               & FALSE               &  54                 & 292005847326916608  & 2013-01-01         \\\\\n",
       "\t 2013-01-31 18:03:24 & little              & FALSE               & 135                 & 297042413078319105  & 2013-01-01         \\\\\n",
       "\t 2013-01-31 18:03:24 & @macmiller          & FALSE               & 135                 & 297042413078319105  & 2013-01-01         \\\\\n",
       "\t ... & ... & ... & ... & ... & ...\\\\\n",
       "\t 2011-07-12 13:18:24 & ball                & FALSE               &   1                 & 90771995893043201   & 2011-07-01         \\\\\n",
       "\t 2011-07-12 13:18:24 & rolling             & FALSE               &   1                 & 90771995893043201   & 2011-07-01         \\\\\n",
       "\t 2011-07-12 20:08:55 & @macmiller          & FALSE               & 633                 & 90875305119592448   & 2011-07-01         \\\\\n",
       "\t 2011-07-12 20:08:55 & donald              & FALSE               & 633                 & 90875305119592448   & 2011-07-01         \\\\\n",
       "\t 2011-07-12 20:08:55 & trump               & FALSE               & 633                 & 90875305119592448   & 2011-07-01         \\\\\n",
       "\t 2011-07-12 20:08:55 & the                 & FALSE               & 633                 & 90875305119592448   & 2011-07-01         \\\\\n",
       "\t 2011-07-12 20:08:55 & song                & FALSE               & 633                 & 90875305119592448   & 2011-07-01         \\\\\n",
       "\t 2011-07-12 20:08:55 & gets                & FALSE               & 633                 & 90875305119592448   & 2011-07-01         \\\\\n",
       "\t 2011-07-12 20:08:55 & 16m                 & FALSE               & 633                 & 90875305119592448   & 2011-07-01         \\\\\n",
       "\t 2011-07-12 20:08:55 & hits                & FALSE               & 633                 & 90875305119592448   & 2011-07-01         \\\\\n",
       "\t 2011-07-12 20:08:55 & on                  & FALSE               & 633                 & 90875305119592448   & 2011-07-01         \\\\\n",
       "\t 2011-07-12 20:08:55 & youtube             & FALSE               & 633                 & 90875305119592448   & 2011-07-01         \\\\\n",
       "\t 2011-07-12 20:08:55 & who                 & FALSE               & 633                 & 90875305119592448   & 2011-07-01         \\\\\n",
       "\t 2011-07-12 20:08:55 & wouldn't            & FALSE               & 633                 & 90875305119592448   & 2011-07-01         \\\\\n",
       "\t 2011-07-12 20:08:55 & be                  & FALSE               & 633                 & 90875305119592448   & 2011-07-01         \\\\\n",
       "\t 2011-07-12 20:08:55 & flattered           & FALSE               & 633                 & 90875305119592448   & 2011-07-01         \\\\\n",
       "\t 2011-07-25 19:41:31 & the                 & FALSE               &  11                 & 95579450183385090   & 2011-07-01         \\\\\n",
       "\t 2011-07-25 19:41:31 & pressure            & FALSE               &  11                 & 95579450183385090   & 2011-07-01         \\\\\n",
       "\t 2011-07-25 19:41:31 & on                  & FALSE               &  11                 & 95579450183385090   & 2011-07-01         \\\\\n",
       "\t 2011-07-25 19:41:31 & the                 & FALSE               &  11                 & 95579450183385090   & 2011-07-01         \\\\\n",
       "\t 2011-07-25 19:41:31 & debt                & FALSE               &  11                 & 95579450183385090   & 2011-07-01         \\\\\n",
       "\t 2011-07-25 19:41:31 & ceiling             & FALSE               &  11                 & 95579450183385090   & 2011-07-01         \\\\\n",
       "\t 2011-07-25 19:41:31 & is                  & FALSE               &  11                 & 95579450183385090   & 2011-07-01         \\\\\n",
       "\t 2011-07-25 19:41:31 & on                  & FALSE               &  11                 & 95579450183385090   & 2011-07-01         \\\\\n",
       "\t 2011-07-25 19:41:31 & @barackobama        & FALSE               &  11                 & 95579450183385090   & 2011-07-01         \\\\\n",
       "\t 2011-07-25 19:41:31 & \\#trumpvlog        & FALSE               &  11                 & 95579450183385090   & 2011-07-01         \\\\\n",
       "\t 2013-08-19 18:17:28 & \\#trumpvine        & FALSE               &  72                 & 369523525817602048  & 2013-08-01         \\\\\n",
       "\t 2013-08-19 18:17:28 & opinion             & FALSE               &  72                 & 369523525817602048  & 2013-08-01         \\\\\n",
       "\t 2013-08-19 18:17:28 & on                  & FALSE               &  72                 & 369523525817602048  & 2013-08-01         \\\\\n",
       "\t 2013-08-19 18:17:28 & egypt               & FALSE               &  72                 & 369523525817602048  & 2013-08-01         \\\\\n",
       "\\end{tabular}\n"
      ],
      "text/markdown": [
       "\n",
       "date | word | is_prez | favorite_count | id_str | month | \n",
       "|---|---|---|---|---|---|---|---|---|---|---|---|---|---|---|---|---|---|---|---|---|---|---|---|---|---|---|---|---|---|---|---|---|---|---|---|---|---|---|---|---|---|---|---|---|---|---|---|---|---|---|---|---|---|---|---|---|---|---|---|---|\n",
       "| 2012-10-31 03:56:31 | watch               | FALSE               |  23                 | 263489601975504896  | 2012-10-01          | \n",
       "| 2012-10-31 03:56:31 | me                  | FALSE               |  23                 | 263489601975504896  | 2012-10-01          | \n",
       "| 2012-10-31 03:56:31 | tonight             | FALSE               |  23                 | 263489601975504896  | 2012-10-01          | \n",
       "| 2012-10-31 03:56:31 | on                  | FALSE               |  23                 | 263489601975504896  | 2012-10-01          | \n",
       "| 2012-10-31 03:56:31 | late                | FALSE               |  23                 | 263489601975504896  | 2012-10-01          | \n",
       "| 2012-10-31 03:56:31 | night               | FALSE               |  23                 | 263489601975504896  | 2012-10-01          | \n",
       "| 2012-10-31 03:56:31 | with                | FALSE               |  23                 | 263489601975504896  | 2012-10-01          | \n",
       "| 2012-10-31 03:56:31 | jimmy               | FALSE               |  23                 | 263489601975504896  | 2012-10-01          | \n",
       "| 2012-10-31 03:56:31 | fallon              | FALSE               |  23                 | 263489601975504896  | 2012-10-01          | \n",
       "| 2012-10-31 03:56:31 | photo               | FALSE               |  23                 | 263489601975504896  | 2012-10-01          | \n",
       "| 2012-10-31 03:56:31 | lloyd               | FALSE               |  23                 | 263489601975504896  | 2012-10-01          | \n",
       "| 2012-10-31 03:56:31 | bishop              | FALSE               |  23                 | 263489601975504896  | 2012-10-01          | \n",
       "| 2012-10-31 03:56:31 | nbc                 | FALSE               |  23                 | 263489601975504896  | 2012-10-01          | \n",
       "| 2012-11-01 16:40:00 | press               | FALSE               |  93                 | 264044128134893568  | 2012-11-01          | \n",
       "| 2012-11-01 16:40:00 | release             | FALSE               |  93                 | 264044128134893568  | 2012-11-01          | \n",
       "| 2012-11-01 16:40:00 | video               | FALSE               |  93                 | 264044128134893568  | 2012-11-01          | \n",
       "| 2012-11-01 16:40:00 | response            | FALSE               |  93                 | 264044128134893568  | 2012-11-01          | \n",
       "| 2012-11-01 16:40:00 | to                  | FALSE               |  93                 | 264044128134893568  | 2012-11-01          | \n",
       "| 2012-11-01 16:40:00 | follow              | FALSE               |  93                 | 264044128134893568  | 2012-11-01          | \n",
       "| 2013-01-17 20:29:53 | miss                | FALSE               |  54                 | 292005847326916608  | 2013-01-01          | \n",
       "| 2013-01-17 20:29:53 | alabama             | FALSE               |  54                 | 292005847326916608  | 2013-01-01          | \n",
       "| 2013-01-17 20:29:53 | @_katherinewebb     | FALSE               |  54                 | 292005847326916608  | 2013-01-01          | \n",
       "| 2013-01-17 20:29:53 | stopped             | FALSE               |  54                 | 292005847326916608  | 2013-01-01          | \n",
       "| 2013-01-17 20:29:53 | by                  | FALSE               |  54                 | 292005847326916608  | 2013-01-01          | \n",
       "| 2013-01-17 20:29:53 | to                  | FALSE               |  54                 | 292005847326916608  | 2013-01-01          | \n",
       "| 2013-01-17 20:29:53 | say                 | FALSE               |  54                 | 292005847326916608  | 2013-01-01          | \n",
       "| 2013-01-17 20:29:53 | hello               | FALSE               |  54                 | 292005847326916608  | 2013-01-01          | \n",
       "| 2013-01-17 20:29:53 | today               | FALSE               |  54                 | 292005847326916608  | 2013-01-01          | \n",
       "| 2013-01-31 18:03:24 | little              | FALSE               | 135                 | 297042413078319105  | 2013-01-01          | \n",
       "| 2013-01-31 18:03:24 | @macmiller          | FALSE               | 135                 | 297042413078319105  | 2013-01-01          | \n",
       "| ... | ... | ... | ... | ... | ... | \n",
       "| 2011-07-12 13:18:24 | ball                | FALSE               |   1                 | 90771995893043201   | 2011-07-01          | \n",
       "| 2011-07-12 13:18:24 | rolling             | FALSE               |   1                 | 90771995893043201   | 2011-07-01          | \n",
       "| 2011-07-12 20:08:55 | @macmiller          | FALSE               | 633                 | 90875305119592448   | 2011-07-01          | \n",
       "| 2011-07-12 20:08:55 | donald              | FALSE               | 633                 | 90875305119592448   | 2011-07-01          | \n",
       "| 2011-07-12 20:08:55 | trump               | FALSE               | 633                 | 90875305119592448   | 2011-07-01          | \n",
       "| 2011-07-12 20:08:55 | the                 | FALSE               | 633                 | 90875305119592448   | 2011-07-01          | \n",
       "| 2011-07-12 20:08:55 | song                | FALSE               | 633                 | 90875305119592448   | 2011-07-01          | \n",
       "| 2011-07-12 20:08:55 | gets                | FALSE               | 633                 | 90875305119592448   | 2011-07-01          | \n",
       "| 2011-07-12 20:08:55 | 16m                 | FALSE               | 633                 | 90875305119592448   | 2011-07-01          | \n",
       "| 2011-07-12 20:08:55 | hits                | FALSE               | 633                 | 90875305119592448   | 2011-07-01          | \n",
       "| 2011-07-12 20:08:55 | on                  | FALSE               | 633                 | 90875305119592448   | 2011-07-01          | \n",
       "| 2011-07-12 20:08:55 | youtube             | FALSE               | 633                 | 90875305119592448   | 2011-07-01          | \n",
       "| 2011-07-12 20:08:55 | who                 | FALSE               | 633                 | 90875305119592448   | 2011-07-01          | \n",
       "| 2011-07-12 20:08:55 | wouldn't            | FALSE               | 633                 | 90875305119592448   | 2011-07-01          | \n",
       "| 2011-07-12 20:08:55 | be                  | FALSE               | 633                 | 90875305119592448   | 2011-07-01          | \n",
       "| 2011-07-12 20:08:55 | flattered           | FALSE               | 633                 | 90875305119592448   | 2011-07-01          | \n",
       "| 2011-07-25 19:41:31 | the                 | FALSE               |  11                 | 95579450183385090   | 2011-07-01          | \n",
       "| 2011-07-25 19:41:31 | pressure            | FALSE               |  11                 | 95579450183385090   | 2011-07-01          | \n",
       "| 2011-07-25 19:41:31 | on                  | FALSE               |  11                 | 95579450183385090   | 2011-07-01          | \n",
       "| 2011-07-25 19:41:31 | the                 | FALSE               |  11                 | 95579450183385090   | 2011-07-01          | \n",
       "| 2011-07-25 19:41:31 | debt                | FALSE               |  11                 | 95579450183385090   | 2011-07-01          | \n",
       "| 2011-07-25 19:41:31 | ceiling             | FALSE               |  11                 | 95579450183385090   | 2011-07-01          | \n",
       "| 2011-07-25 19:41:31 | is                  | FALSE               |  11                 | 95579450183385090   | 2011-07-01          | \n",
       "| 2011-07-25 19:41:31 | on                  | FALSE               |  11                 | 95579450183385090   | 2011-07-01          | \n",
       "| 2011-07-25 19:41:31 | @barackobama        | FALSE               |  11                 | 95579450183385090   | 2011-07-01          | \n",
       "| 2011-07-25 19:41:31 | #trumpvlog          | FALSE               |  11                 | 95579450183385090   | 2011-07-01          | \n",
       "| 2013-08-19 18:17:28 | #trumpvine          | FALSE               |  72                 | 369523525817602048  | 2013-08-01          | \n",
       "| 2013-08-19 18:17:28 | opinion             | FALSE               |  72                 | 369523525817602048  | 2013-08-01          | \n",
       "| 2013-08-19 18:17:28 | on                  | FALSE               |  72                 | 369523525817602048  | 2013-08-01          | \n",
       "| 2013-08-19 18:17:28 | egypt               | FALSE               |  72                 | 369523525817602048  | 2013-08-01          | \n",
       "\n",
       "\n"
      ],
      "text/plain": [
       "      date                word            is_prez favorite_count\n",
       "1     2012-10-31 03:56:31 watch           FALSE    23           \n",
       "2     2012-10-31 03:56:31 me              FALSE    23           \n",
       "3     2012-10-31 03:56:31 tonight         FALSE    23           \n",
       "4     2012-10-31 03:56:31 on              FALSE    23           \n",
       "5     2012-10-31 03:56:31 late            FALSE    23           \n",
       "6     2012-10-31 03:56:31 night           FALSE    23           \n",
       "7     2012-10-31 03:56:31 with            FALSE    23           \n",
       "8     2012-10-31 03:56:31 jimmy           FALSE    23           \n",
       "9     2012-10-31 03:56:31 fallon          FALSE    23           \n",
       "10    2012-10-31 03:56:31 photo           FALSE    23           \n",
       "11    2012-10-31 03:56:31 lloyd           FALSE    23           \n",
       "12    2012-10-31 03:56:31 bishop          FALSE    23           \n",
       "13    2012-10-31 03:56:31 nbc             FALSE    23           \n",
       "14    2012-11-01 16:40:00 press           FALSE    93           \n",
       "15    2012-11-01 16:40:00 release         FALSE    93           \n",
       "16    2012-11-01 16:40:00 video           FALSE    93           \n",
       "17    2012-11-01 16:40:00 response        FALSE    93           \n",
       "18    2012-11-01 16:40:00 to              FALSE    93           \n",
       "19    2012-11-01 16:40:00 follow          FALSE    93           \n",
       "20    2013-01-17 20:29:53 miss            FALSE    54           \n",
       "21    2013-01-17 20:29:53 alabama         FALSE    54           \n",
       "22    2013-01-17 20:29:53 @_katherinewebb FALSE    54           \n",
       "23    2013-01-17 20:29:53 stopped         FALSE    54           \n",
       "24    2013-01-17 20:29:53 by              FALSE    54           \n",
       "25    2013-01-17 20:29:53 to              FALSE    54           \n",
       "26    2013-01-17 20:29:53 say             FALSE    54           \n",
       "27    2013-01-17 20:29:53 hello           FALSE    54           \n",
       "28    2013-01-17 20:29:53 today           FALSE    54           \n",
       "29    2013-01-31 18:03:24 little          FALSE   135           \n",
       "30    2013-01-31 18:03:24 @macmiller      FALSE   135           \n",
       "...   ...                 ...             ...     ...           \n",
       "33434 2011-07-12 13:18:24 ball            FALSE     1           \n",
       "33435 2011-07-12 13:18:24 rolling         FALSE     1           \n",
       "33436 2011-07-12 20:08:55 @macmiller      FALSE   633           \n",
       "33437 2011-07-12 20:08:55 donald          FALSE   633           \n",
       "33438 2011-07-12 20:08:55 trump           FALSE   633           \n",
       "33439 2011-07-12 20:08:55 the             FALSE   633           \n",
       "33440 2011-07-12 20:08:55 song            FALSE   633           \n",
       "33441 2011-07-12 20:08:55 gets            FALSE   633           \n",
       "33442 2011-07-12 20:08:55 16m             FALSE   633           \n",
       "33443 2011-07-12 20:08:55 hits            FALSE   633           \n",
       "33444 2011-07-12 20:08:55 on              FALSE   633           \n",
       "33445 2011-07-12 20:08:55 youtube         FALSE   633           \n",
       "33446 2011-07-12 20:08:55 who             FALSE   633           \n",
       "33447 2011-07-12 20:08:55 wouldn't        FALSE   633           \n",
       "33448 2011-07-12 20:08:55 be              FALSE   633           \n",
       "33449 2011-07-12 20:08:55 flattered       FALSE   633           \n",
       "33450 2011-07-25 19:41:31 the             FALSE    11           \n",
       "33451 2011-07-25 19:41:31 pressure        FALSE    11           \n",
       "33452 2011-07-25 19:41:31 on              FALSE    11           \n",
       "33453 2011-07-25 19:41:31 the             FALSE    11           \n",
       "33454 2011-07-25 19:41:31 debt            FALSE    11           \n",
       "33455 2011-07-25 19:41:31 ceiling         FALSE    11           \n",
       "33456 2011-07-25 19:41:31 is              FALSE    11           \n",
       "33457 2011-07-25 19:41:31 on              FALSE    11           \n",
       "33458 2011-07-25 19:41:31 @barackobama    FALSE    11           \n",
       "33459 2011-07-25 19:41:31 #trumpvlog      FALSE    11           \n",
       "33460 2013-08-19 18:17:28 #trumpvine      FALSE    72           \n",
       "33461 2013-08-19 18:17:28 opinion         FALSE    72           \n",
       "33462 2013-08-19 18:17:28 on              FALSE    72           \n",
       "33463 2013-08-19 18:17:28 egypt           FALSE    72           \n",
       "      id_str             month     \n",
       "1     263489601975504896 2012-10-01\n",
       "2     263489601975504896 2012-10-01\n",
       "3     263489601975504896 2012-10-01\n",
       "4     263489601975504896 2012-10-01\n",
       "5     263489601975504896 2012-10-01\n",
       "6     263489601975504896 2012-10-01\n",
       "7     263489601975504896 2012-10-01\n",
       "8     263489601975504896 2012-10-01\n",
       "9     263489601975504896 2012-10-01\n",
       "10    263489601975504896 2012-10-01\n",
       "11    263489601975504896 2012-10-01\n",
       "12    263489601975504896 2012-10-01\n",
       "13    263489601975504896 2012-10-01\n",
       "14    264044128134893568 2012-11-01\n",
       "15    264044128134893568 2012-11-01\n",
       "16    264044128134893568 2012-11-01\n",
       "17    264044128134893568 2012-11-01\n",
       "18    264044128134893568 2012-11-01\n",
       "19    264044128134893568 2012-11-01\n",
       "20    292005847326916608 2013-01-01\n",
       "21    292005847326916608 2013-01-01\n",
       "22    292005847326916608 2013-01-01\n",
       "23    292005847326916608 2013-01-01\n",
       "24    292005847326916608 2013-01-01\n",
       "25    292005847326916608 2013-01-01\n",
       "26    292005847326916608 2013-01-01\n",
       "27    292005847326916608 2013-01-01\n",
       "28    292005847326916608 2013-01-01\n",
       "29    297042413078319105 2013-01-01\n",
       "30    297042413078319105 2013-01-01\n",
       "...   ...                ...       \n",
       "33434 90771995893043201  2011-07-01\n",
       "33435 90771995893043201  2011-07-01\n",
       "33436 90875305119592448  2011-07-01\n",
       "33437 90875305119592448  2011-07-01\n",
       "33438 90875305119592448  2011-07-01\n",
       "33439 90875305119592448  2011-07-01\n",
       "33440 90875305119592448  2011-07-01\n",
       "33441 90875305119592448  2011-07-01\n",
       "33442 90875305119592448  2011-07-01\n",
       "33443 90875305119592448  2011-07-01\n",
       "33444 90875305119592448  2011-07-01\n",
       "33445 90875305119592448  2011-07-01\n",
       "33446 90875305119592448  2011-07-01\n",
       "33447 90875305119592448  2011-07-01\n",
       "33448 90875305119592448  2011-07-01\n",
       "33449 90875305119592448  2011-07-01\n",
       "33450 95579450183385090  2011-07-01\n",
       "33451 95579450183385090  2011-07-01\n",
       "33452 95579450183385090  2011-07-01\n",
       "33453 95579450183385090  2011-07-01\n",
       "33454 95579450183385090  2011-07-01\n",
       "33455 95579450183385090  2011-07-01\n",
       "33456 95579450183385090  2011-07-01\n",
       "33457 95579450183385090  2011-07-01\n",
       "33458 95579450183385090  2011-07-01\n",
       "33459 95579450183385090  2011-07-01\n",
       "33460 369523525817602048 2013-08-01\n",
       "33461 369523525817602048 2013-08-01\n",
       "33462 369523525817602048 2013-08-01\n",
       "33463 369523525817602048 2013-08-01"
      ]
     },
     "metadata": {},
     "output_type": "display_data"
    }
   ],
   "source": [
    "tidy_tweets"
   ]
  },
  {
   "cell_type": "code",
   "execution_count": 3,
   "metadata": {
    "collapsed": false
   },
   "outputs": [
    {
     "data": {
      "text/html": [
       "<table>\n",
       "<thead><tr><th scope=col>word</th><th scope=col>n</th></tr></thead>\n",
       "<tbody>\n",
       "\t<tr><td>the </td><td>1378</td></tr>\n",
       "\t<tr><td>to  </td><td> 901</td></tr>\n",
       "\t<tr><td>and </td><td> 605</td></tr>\n",
       "\t<tr><td>a   </td><td> 569</td></tr>\n",
       "\t<tr><td>of  </td><td> 550</td></tr>\n",
       "\t<tr><td>in  </td><td> 542</td></tr>\n",
       "\t<tr><td>is  </td><td> 497</td></tr>\n",
       "\t<tr><td>i   </td><td> 403</td></tr>\n",
       "\t<tr><td>for </td><td> 384</td></tr>\n",
       "\t<tr><td>on  </td><td> 344</td></tr>\n",
       "</tbody>\n",
       "</table>\n"
      ],
      "text/latex": [
       "\\begin{tabular}{r|ll}\n",
       " word & n\\\\\n",
       "\\hline\n",
       "\t the  & 1378\\\\\n",
       "\t to   &  901\\\\\n",
       "\t and  &  605\\\\\n",
       "\t a    &  569\\\\\n",
       "\t of   &  550\\\\\n",
       "\t in   &  542\\\\\n",
       "\t is   &  497\\\\\n",
       "\t i    &  403\\\\\n",
       "\t for  &  384\\\\\n",
       "\t on   &  344\\\\\n",
       "\\end{tabular}\n"
      ],
      "text/markdown": [
       "\n",
       "word | n | \n",
       "|---|---|---|---|---|---|---|---|---|---|\n",
       "| the  | 1378 | \n",
       "| to   |  901 | \n",
       "| and  |  605 | \n",
       "| a    |  569 | \n",
       "| of   |  550 | \n",
       "| in   |  542 | \n",
       "| is   |  497 | \n",
       "| i    |  403 | \n",
       "| for  |  384 | \n",
       "| on   |  344 | \n",
       "\n",
       "\n"
      ],
      "text/plain": [
       "   word n   \n",
       "1  the  1378\n",
       "2  to    901\n",
       "3  and   605\n",
       "4  a     569\n",
       "5  of    550\n",
       "6  in    542\n",
       "7  is    497\n",
       "8  i     403\n",
       "9  for   384\n",
       "10 on    344"
      ]
     },
     "metadata": {},
     "output_type": "display_data"
    }
   ],
   "source": [
    "tidy_tweets %>%\n",
    "  group_by(word) %>%\n",
    "  count() %>%\n",
    "  ungroup() %>% \n",
    "  arrange(desc(n)) %>%\n",
    "  filter(rank(desc(n)) <= 10)"
   ]
  },
  {
   "cell_type": "markdown",
   "metadata": {},
   "source": [
    "## Extracting bag-of-words data from text\n",
    "\n",
    "We now put our data into \"bag-of-words\" form, by \n",
    "\n",
    "* finding all unique words used in 2000 tweets,\n",
    "* counting how many times each of these words was used in each tweet.\n",
    "\n",
    "Here we simplify things by looking only at the frequency of the 200 most popular words. We first find out what the 200 most commonly used words are. We're doing this a slightly different way to the previous block of code, where we first sorted (by the count variable `n`, using `arrange`), and then filtered by rank. Here we use the `top_n()` , a convenience function that selects the top or bottom entries in each group, ordered by `wt`.   "
   ]
  },
  {
   "cell_type": "code",
   "execution_count": 4,
   "metadata": {
    "collapsed": true
   },
   "outputs": [],
   "source": [
    "word_bag <- tidy_tweets %>%\n",
    "  group_by(word) %>%\n",
    "  count() %>%\n",
    "  ungroup() %>%\n",
    "  top_n(200, wt = n) %>%\n",
    "  select(-n)"
   ]
  },
  {
   "cell_type": "markdown",
   "metadata": {},
   "source": [
    "We actually end up with more than 200 words, because the 200 in `top_n()` refers to the rank of the last observation that gets included. All words tied for the last rank (200) get included, and we end up with more than 200 words. That's really not a problem here - because the main goal of the subsetting is just to reduce the full problem to something more manageable in the notebook, we don't really care if we have exactly 200 words to use as features."
   ]
  },
  {
   "cell_type": "code",
   "execution_count": 5,
   "metadata": {
    "collapsed": false
   },
   "outputs": [
    {
     "data": {
      "text/html": [
       "201"
      ],
      "text/latex": [
       "201"
      ],
      "text/markdown": [
       "201"
      ],
      "text/plain": [
       "[1] 201"
      ]
     },
     "metadata": {},
     "output_type": "display_data"
    }
   ],
   "source": [
    "nrow(word_bag)"
   ]
  },
  {
   "cell_type": "markdown",
   "metadata": {},
   "source": [
    "Now we calculate the number of times each of these words was used in each of the 2000 tweets. Note that because we're using a subset of words, we might find that some tweets don't contain *any* of these words in them. These observations are dropped from the analysis. "
   ]
  },
  {
   "cell_type": "code",
   "execution_count": 6,
   "metadata": {
    "collapsed": false
   },
   "outputs": [
    {
     "name": "stderr",
     "output_type": "stream",
     "text": [
      "Joining, by = \"word\"\n"
     ]
    }
   ],
   "source": [
    "tweets_tdf <- tidy_tweets %>%\n",
    "  inner_join(word_bag) %>%\n",
    "  group_by(id_str,word) %>%\n",
    "  count() %>%  \n",
    "  group_by(id_str) %>%\n",
    "  mutate(total = sum(n)) %>%\n",
    "  ungroup()"
   ]
  },
  {
   "cell_type": "code",
   "execution_count": 7,
   "metadata": {
    "collapsed": false
   },
   "outputs": [
    {
     "data": {
      "text/html": [
       "<table>\n",
       "<thead><tr><th scope=col>id_str</th><th scope=col>word</th><th scope=col>n</th><th scope=col>total</th></tr></thead>\n",
       "<tbody>\n",
       "\t<tr><td>107091854092279808</td><td>and               </td><td>1                 </td><td>10                </td></tr>\n",
       "\t<tr><td>107091854092279808</td><td>did               </td><td>1                 </td><td>10                </td></tr>\n",
       "\t<tr><td>107091854092279808</td><td>his               </td><td>1                 </td><td>10                </td></tr>\n",
       "\t<tr><td>107091854092279808</td><td>love              </td><td>1                 </td><td>10                </td></tr>\n",
       "\t<tr><td>107091854092279808</td><td>on                </td><td>1                 </td><td>10                </td></tr>\n",
       "\t<tr><td>107091854092279808</td><td>the               </td><td>1                 </td><td>10                </td></tr>\n",
       "\t<tr><td>107091854092279808</td><td>they              </td><td>1                 </td><td>10                </td></tr>\n",
       "\t<tr><td>107091854092279808</td><td>to                </td><td>2                 </td><td>10                </td></tr>\n",
       "\t<tr><td>107091854092279808</td><td>why               </td><td>1                 </td><td>10                </td></tr>\n",
       "\t<tr><td>108920528286400512</td><td>and               </td><td>1                 </td><td> 5                </td></tr>\n",
       "\t<tr><td>108920528286400512</td><td>his               </td><td>1                 </td><td> 5                </td></tr>\n",
       "\t<tr><td>108920528286400512</td><td>my                </td><td>1                 </td><td> 5                </td></tr>\n",
       "\t<tr><td>108920528286400512</td><td>new               </td><td>1                 </td><td> 5                </td></tr>\n",
       "\t<tr><td>108920528286400512</td><td>on                </td><td>1                 </td><td> 5                </td></tr>\n",
       "\t<tr><td>109323379978403840</td><td>a                 </td><td>1                 </td><td>12                </td></tr>\n",
       "\t<tr><td>109323379978403840</td><td>he                </td><td>1                 </td><td>12                </td></tr>\n",
       "\t<tr><td>109323379978403840</td><td>i                 </td><td>1                 </td><td>12                </td></tr>\n",
       "\t<tr><td>109323379978403840</td><td>in                </td><td>1                 </td><td>12                </td></tr>\n",
       "\t<tr><td>109323379978403840</td><td>is                </td><td>1                 </td><td>12                </td></tr>\n",
       "\t<tr><td>109323379978403840</td><td>just              </td><td>1                 </td><td>12                </td></tr>\n",
       "\t<tr><td>109323379978403840</td><td>made              </td><td>1                 </td><td>12                </td></tr>\n",
       "\t<tr><td>109323379978403840</td><td>on                </td><td>1                 </td><td>12                </td></tr>\n",
       "\t<tr><td>109323379978403840</td><td>so                </td><td>1                 </td><td>12                </td></tr>\n",
       "\t<tr><td>109323379978403840</td><td>that              </td><td>1                 </td><td>12                </td></tr>\n",
       "\t<tr><td>109323379978403840</td><td>the               </td><td>1                 </td><td>12                </td></tr>\n",
       "\t<tr><td>109323379978403840</td><td>think             </td><td>1                 </td><td>12                </td></tr>\n",
       "\t<tr><td>111464722683002880</td><td>a                 </td><td>1                 </td><td> 8                </td></tr>\n",
       "\t<tr><td>111464722683002880</td><td>and               </td><td>1                 </td><td> 8                </td></tr>\n",
       "\t<tr><td>111464722683002880</td><td>how               </td><td>1                 </td><td> 8                </td></tr>\n",
       "\t<tr><td>111464722683002880</td><td>is                </td><td>1                 </td><td> 8                </td></tr>\n",
       "\t<tr><td>...</td><td>...</td><td>...</td><td>...</td></tr>\n",
       "\t<tr><td>90875305119592448</td><td>donald           </td><td>1                </td><td> 6               </td></tr>\n",
       "\t<tr><td>90875305119592448</td><td>on               </td><td>1                </td><td> 6               </td></tr>\n",
       "\t<tr><td>90875305119592448</td><td>the              </td><td>1                </td><td> 6               </td></tr>\n",
       "\t<tr><td>90875305119592448</td><td>trump            </td><td>1                </td><td> 6               </td></tr>\n",
       "\t<tr><td>90875305119592448</td><td>who              </td><td>1                </td><td> 6               </td></tr>\n",
       "\t<tr><td>95579450183385090</td><td>is               </td><td>1                </td><td> 5               </td></tr>\n",
       "\t<tr><td>95579450183385090</td><td>on               </td><td>2                </td><td> 5               </td></tr>\n",
       "\t<tr><td>95579450183385090</td><td>the              </td><td>2                </td><td> 5               </td></tr>\n",
       "\t<tr><td>96213917306597377</td><td>and              </td><td>1                </td><td>15               </td></tr>\n",
       "\t<tr><td>96213917306597377</td><td>can't            </td><td>1                </td><td>15               </td></tr>\n",
       "\t<tr><td>96213917306597377</td><td>china            </td><td>1                </td><td>15               </td></tr>\n",
       "\t<tr><td>96213917306597377</td><td>has              </td><td>1                </td><td>15               </td></tr>\n",
       "\t<tr><td>96213917306597377</td><td>in               </td><td>1                </td><td>15               </td></tr>\n",
       "\t<tr><td>96213917306597377</td><td>much             </td><td>1                </td><td>15               </td></tr>\n",
       "\t<tr><td>96213917306597377</td><td>of               </td><td>1                </td><td>15               </td></tr>\n",
       "\t<tr><td>96213917306597377</td><td>our              </td><td>2                </td><td>15               </td></tr>\n",
       "\t<tr><td>96213917306597377</td><td>so               </td><td>1                </td><td>15               </td></tr>\n",
       "\t<tr><td>96213917306597377</td><td>that             </td><td>1                </td><td>15               </td></tr>\n",
       "\t<tr><td>96213917306597377</td><td>they             </td><td>1                </td><td>15               </td></tr>\n",
       "\t<tr><td>96213917306597377</td><td>us               </td><td>2                </td><td>15               </td></tr>\n",
       "\t<tr><td>96213917306597377</td><td>w                </td><td>1                </td><td>15               </td></tr>\n",
       "\t<tr><td>98038667460886529</td><td>a                </td><td>1                </td><td> 9               </td></tr>\n",
       "\t<tr><td>98038667460886529</td><td>and              </td><td>1                </td><td> 9               </td></tr>\n",
       "\t<tr><td>98038667460886529</td><td>dems             </td><td>1                </td><td> 9               </td></tr>\n",
       "\t<tr><td>98038667460886529</td><td>in               </td><td>1                </td><td> 9               </td></tr>\n",
       "\t<tr><td>98038667460886529</td><td>is               </td><td>1                </td><td> 9               </td></tr>\n",
       "\t<tr><td>98038667460886529</td><td>obama            </td><td>1                </td><td> 9               </td></tr>\n",
       "\t<tr><td>98038667460886529</td><td>the              </td><td>1                </td><td> 9               </td></tr>\n",
       "\t<tr><td>98038667460886529</td><td>to               </td><td>1                </td><td> 9               </td></tr>\n",
       "\t<tr><td>98038667460886529</td><td>year             </td><td>1                </td><td> 9               </td></tr>\n",
       "</tbody>\n",
       "</table>\n"
      ],
      "text/latex": [
       "\\begin{tabular}{r|llll}\n",
       " id\\_str & word & n & total\\\\\n",
       "\\hline\n",
       "\t 107091854092279808 & and                & 1                  & 10                \\\\\n",
       "\t 107091854092279808 & did                & 1                  & 10                \\\\\n",
       "\t 107091854092279808 & his                & 1                  & 10                \\\\\n",
       "\t 107091854092279808 & love               & 1                  & 10                \\\\\n",
       "\t 107091854092279808 & on                 & 1                  & 10                \\\\\n",
       "\t 107091854092279808 & the                & 1                  & 10                \\\\\n",
       "\t 107091854092279808 & they               & 1                  & 10                \\\\\n",
       "\t 107091854092279808 & to                 & 2                  & 10                \\\\\n",
       "\t 107091854092279808 & why                & 1                  & 10                \\\\\n",
       "\t 108920528286400512 & and                & 1                  &  5                \\\\\n",
       "\t 108920528286400512 & his                & 1                  &  5                \\\\\n",
       "\t 108920528286400512 & my                 & 1                  &  5                \\\\\n",
       "\t 108920528286400512 & new                & 1                  &  5                \\\\\n",
       "\t 108920528286400512 & on                 & 1                  &  5                \\\\\n",
       "\t 109323379978403840 & a                  & 1                  & 12                \\\\\n",
       "\t 109323379978403840 & he                 & 1                  & 12                \\\\\n",
       "\t 109323379978403840 & i                  & 1                  & 12                \\\\\n",
       "\t 109323379978403840 & in                 & 1                  & 12                \\\\\n",
       "\t 109323379978403840 & is                 & 1                  & 12                \\\\\n",
       "\t 109323379978403840 & just               & 1                  & 12                \\\\\n",
       "\t 109323379978403840 & made               & 1                  & 12                \\\\\n",
       "\t 109323379978403840 & on                 & 1                  & 12                \\\\\n",
       "\t 109323379978403840 & so                 & 1                  & 12                \\\\\n",
       "\t 109323379978403840 & that               & 1                  & 12                \\\\\n",
       "\t 109323379978403840 & the                & 1                  & 12                \\\\\n",
       "\t 109323379978403840 & think              & 1                  & 12                \\\\\n",
       "\t 111464722683002880 & a                  & 1                  &  8                \\\\\n",
       "\t 111464722683002880 & and                & 1                  &  8                \\\\\n",
       "\t 111464722683002880 & how                & 1                  &  8                \\\\\n",
       "\t 111464722683002880 & is                 & 1                  &  8                \\\\\n",
       "\t ... & ... & ... & ...\\\\\n",
       "\t 90875305119592448 & donald            & 1                 &  6               \\\\\n",
       "\t 90875305119592448 & on                & 1                 &  6               \\\\\n",
       "\t 90875305119592448 & the               & 1                 &  6               \\\\\n",
       "\t 90875305119592448 & trump             & 1                 &  6               \\\\\n",
       "\t 90875305119592448 & who               & 1                 &  6               \\\\\n",
       "\t 95579450183385090 & is                & 1                 &  5               \\\\\n",
       "\t 95579450183385090 & on                & 2                 &  5               \\\\\n",
       "\t 95579450183385090 & the               & 2                 &  5               \\\\\n",
       "\t 96213917306597377 & and               & 1                 & 15               \\\\\n",
       "\t 96213917306597377 & can't             & 1                 & 15               \\\\\n",
       "\t 96213917306597377 & china             & 1                 & 15               \\\\\n",
       "\t 96213917306597377 & has               & 1                 & 15               \\\\\n",
       "\t 96213917306597377 & in                & 1                 & 15               \\\\\n",
       "\t 96213917306597377 & much              & 1                 & 15               \\\\\n",
       "\t 96213917306597377 & of                & 1                 & 15               \\\\\n",
       "\t 96213917306597377 & our               & 2                 & 15               \\\\\n",
       "\t 96213917306597377 & so                & 1                 & 15               \\\\\n",
       "\t 96213917306597377 & that              & 1                 & 15               \\\\\n",
       "\t 96213917306597377 & they              & 1                 & 15               \\\\\n",
       "\t 96213917306597377 & us                & 2                 & 15               \\\\\n",
       "\t 96213917306597377 & w                 & 1                 & 15               \\\\\n",
       "\t 98038667460886529 & a                 & 1                 &  9               \\\\\n",
       "\t 98038667460886529 & and               & 1                 &  9               \\\\\n",
       "\t 98038667460886529 & dems              & 1                 &  9               \\\\\n",
       "\t 98038667460886529 & in                & 1                 &  9               \\\\\n",
       "\t 98038667460886529 & is                & 1                 &  9               \\\\\n",
       "\t 98038667460886529 & obama             & 1                 &  9               \\\\\n",
       "\t 98038667460886529 & the               & 1                 &  9               \\\\\n",
       "\t 98038667460886529 & to                & 1                 &  9               \\\\\n",
       "\t 98038667460886529 & year              & 1                 &  9               \\\\\n",
       "\\end{tabular}\n"
      ],
      "text/markdown": [
       "\n",
       "id_str | word | n | total | \n",
       "|---|---|---|---|---|---|---|---|---|---|---|---|---|---|---|---|---|---|---|---|---|---|---|---|---|---|---|---|---|---|---|---|---|---|---|---|---|---|---|---|---|---|---|---|---|---|---|---|---|---|---|---|---|---|---|---|---|---|---|---|---|\n",
       "| 107091854092279808 | and                | 1                  | 10                 | \n",
       "| 107091854092279808 | did                | 1                  | 10                 | \n",
       "| 107091854092279808 | his                | 1                  | 10                 | \n",
       "| 107091854092279808 | love               | 1                  | 10                 | \n",
       "| 107091854092279808 | on                 | 1                  | 10                 | \n",
       "| 107091854092279808 | the                | 1                  | 10                 | \n",
       "| 107091854092279808 | they               | 1                  | 10                 | \n",
       "| 107091854092279808 | to                 | 2                  | 10                 | \n",
       "| 107091854092279808 | why                | 1                  | 10                 | \n",
       "| 108920528286400512 | and                | 1                  |  5                 | \n",
       "| 108920528286400512 | his                | 1                  |  5                 | \n",
       "| 108920528286400512 | my                 | 1                  |  5                 | \n",
       "| 108920528286400512 | new                | 1                  |  5                 | \n",
       "| 108920528286400512 | on                 | 1                  |  5                 | \n",
       "| 109323379978403840 | a                  | 1                  | 12                 | \n",
       "| 109323379978403840 | he                 | 1                  | 12                 | \n",
       "| 109323379978403840 | i                  | 1                  | 12                 | \n",
       "| 109323379978403840 | in                 | 1                  | 12                 | \n",
       "| 109323379978403840 | is                 | 1                  | 12                 | \n",
       "| 109323379978403840 | just               | 1                  | 12                 | \n",
       "| 109323379978403840 | made               | 1                  | 12                 | \n",
       "| 109323379978403840 | on                 | 1                  | 12                 | \n",
       "| 109323379978403840 | so                 | 1                  | 12                 | \n",
       "| 109323379978403840 | that               | 1                  | 12                 | \n",
       "| 109323379978403840 | the                | 1                  | 12                 | \n",
       "| 109323379978403840 | think              | 1                  | 12                 | \n",
       "| 111464722683002880 | a                  | 1                  |  8                 | \n",
       "| 111464722683002880 | and                | 1                  |  8                 | \n",
       "| 111464722683002880 | how                | 1                  |  8                 | \n",
       "| 111464722683002880 | is                 | 1                  |  8                 | \n",
       "| ... | ... | ... | ... | \n",
       "| 90875305119592448 | donald            | 1                 |  6                | \n",
       "| 90875305119592448 | on                | 1                 |  6                | \n",
       "| 90875305119592448 | the               | 1                 |  6                | \n",
       "| 90875305119592448 | trump             | 1                 |  6                | \n",
       "| 90875305119592448 | who               | 1                 |  6                | \n",
       "| 95579450183385090 | is                | 1                 |  5                | \n",
       "| 95579450183385090 | on                | 2                 |  5                | \n",
       "| 95579450183385090 | the               | 2                 |  5                | \n",
       "| 96213917306597377 | and               | 1                 | 15                | \n",
       "| 96213917306597377 | can't             | 1                 | 15                | \n",
       "| 96213917306597377 | china             | 1                 | 15                | \n",
       "| 96213917306597377 | has               | 1                 | 15                | \n",
       "| 96213917306597377 | in                | 1                 | 15                | \n",
       "| 96213917306597377 | much              | 1                 | 15                | \n",
       "| 96213917306597377 | of                | 1                 | 15                | \n",
       "| 96213917306597377 | our               | 2                 | 15                | \n",
       "| 96213917306597377 | so                | 1                 | 15                | \n",
       "| 96213917306597377 | that              | 1                 | 15                | \n",
       "| 96213917306597377 | they              | 1                 | 15                | \n",
       "| 96213917306597377 | us                | 2                 | 15                | \n",
       "| 96213917306597377 | w                 | 1                 | 15                | \n",
       "| 98038667460886529 | a                 | 1                 |  9                | \n",
       "| 98038667460886529 | and               | 1                 |  9                | \n",
       "| 98038667460886529 | dems              | 1                 |  9                | \n",
       "| 98038667460886529 | in                | 1                 |  9                | \n",
       "| 98038667460886529 | is                | 1                 |  9                | \n",
       "| 98038667460886529 | obama             | 1                 |  9                | \n",
       "| 98038667460886529 | the               | 1                 |  9                | \n",
       "| 98038667460886529 | to                | 1                 |  9                | \n",
       "| 98038667460886529 | year              | 1                 |  9                | \n",
       "\n",
       "\n"
      ],
      "text/plain": [
       "      id_str             word   n   total\n",
       "1     107091854092279808 and    1   10   \n",
       "2     107091854092279808 did    1   10   \n",
       "3     107091854092279808 his    1   10   \n",
       "4     107091854092279808 love   1   10   \n",
       "5     107091854092279808 on     1   10   \n",
       "6     107091854092279808 the    1   10   \n",
       "7     107091854092279808 they   1   10   \n",
       "8     107091854092279808 to     2   10   \n",
       "9     107091854092279808 why    1   10   \n",
       "10    108920528286400512 and    1    5   \n",
       "11    108920528286400512 his    1    5   \n",
       "12    108920528286400512 my     1    5   \n",
       "13    108920528286400512 new    1    5   \n",
       "14    108920528286400512 on     1    5   \n",
       "15    109323379978403840 a      1   12   \n",
       "16    109323379978403840 he     1   12   \n",
       "17    109323379978403840 i      1   12   \n",
       "18    109323379978403840 in     1   12   \n",
       "19    109323379978403840 is     1   12   \n",
       "20    109323379978403840 just   1   12   \n",
       "21    109323379978403840 made   1   12   \n",
       "22    109323379978403840 on     1   12   \n",
       "23    109323379978403840 so     1   12   \n",
       "24    109323379978403840 that   1   12   \n",
       "25    109323379978403840 the    1   12   \n",
       "26    109323379978403840 think  1   12   \n",
       "27    111464722683002880 a      1    8   \n",
       "28    111464722683002880 and    1    8   \n",
       "29    111464722683002880 how    1    8   \n",
       "30    111464722683002880 is     1    8   \n",
       "...   ...                ...    ... ...  \n",
       "16881 90875305119592448  donald 1    6   \n",
       "16882 90875305119592448  on     1    6   \n",
       "16883 90875305119592448  the    1    6   \n",
       "16884 90875305119592448  trump  1    6   \n",
       "16885 90875305119592448  who    1    6   \n",
       "16886 95579450183385090  is     1    5   \n",
       "16887 95579450183385090  on     2    5   \n",
       "16888 95579450183385090  the    2    5   \n",
       "16889 96213917306597377  and    1   15   \n",
       "16890 96213917306597377  can't  1   15   \n",
       "16891 96213917306597377  china  1   15   \n",
       "16892 96213917306597377  has    1   15   \n",
       "16893 96213917306597377  in     1   15   \n",
       "16894 96213917306597377  much   1   15   \n",
       "16895 96213917306597377  of     1   15   \n",
       "16896 96213917306597377  our    2   15   \n",
       "16897 96213917306597377  so     1   15   \n",
       "16898 96213917306597377  that   1   15   \n",
       "16899 96213917306597377  they   1   15   \n",
       "16900 96213917306597377  us     2   15   \n",
       "16901 96213917306597377  w      1   15   \n",
       "16902 98038667460886529  a      1    9   \n",
       "16903 98038667460886529  and    1    9   \n",
       "16904 98038667460886529  dems   1    9   \n",
       "16905 98038667460886529  in     1    9   \n",
       "16906 98038667460886529  is     1    9   \n",
       "16907 98038667460886529  obama  1    9   \n",
       "16908 98038667460886529  the    1    9   \n",
       "16909 98038667460886529  to     1    9   \n",
       "16910 98038667460886529  year   1    9   "
      ]
     },
     "metadata": {},
     "output_type": "display_data"
    }
   ],
   "source": [
    "tweets_tdf"
   ]
  },
  {
   "cell_type": "markdown",
   "metadata": {},
   "source": [
    "We now reshape the dataset to get it into traditional format for predictive modelling, using `spread()`. This means that each tweet will be in its own row, and each word in its own column. Note that we're moving here from a tidy to untidy format, because that is the format required by **rpart** the classification tree package we're going to use to do further modelling."
   ]
  },
  {
   "cell_type": "code",
   "execution_count": 8,
   "metadata": {
    "collapsed": false
   },
   "outputs": [
    {
     "name": "stderr",
     "output_type": "stream",
     "text": [
      "Joining, by = \"id_str\"\n"
     ]
    },
    {
     "data": {
      "text/html": [
       "1851"
      ],
      "text/latex": [
       "1851"
      ],
      "text/markdown": [
       "1851"
      ],
      "text/plain": [
       "[1] 1851"
      ]
     },
     "metadata": {},
     "output_type": "display_data"
    },
    {
     "data": {
      "text/html": [
       "203"
      ],
      "text/latex": [
       "203"
      ],
      "text/markdown": [
       "203"
      ],
      "text/plain": [
       "[1] 203"
      ]
     },
     "metadata": {},
     "output_type": "display_data"
    }
   ],
   "source": [
    "bag_of_words <- tweets_tdf %>% \n",
    "  select(id_str,word,n) %>% \n",
    "  spread(key = word, value = n, fill = 0) %>%\n",
    "  left_join(tweets %>% select(id_str,is_prez)) %>%\n",
    "  select(id_str, is_prez, everything())\n",
    "\n",
    "# number of tweets\n",
    "nrow(bag_of_words)\n",
    "# number of variables (words, plus id and response)\n",
    "ncol(bag_of_words)"
   ]
  },
  {
   "cell_type": "markdown",
   "metadata": {},
   "source": [
    "Losing some tweets is actually a bit of a problem. There are two reasons we want the same number of tweets in both \"before\" and \"after\" classes of the response. First, many predictive modelling approaches do better with balanced data. Second, it gives us an easy benchmark (50%) to evaluate our results against. So we should check whether the dropped tweets have come disproportionately from one response class. Or equivalently, if the classes are still baalnced."
   ]
  },
  {
   "cell_type": "code",
   "execution_count": 9,
   "metadata": {
    "collapsed": false
   },
   "outputs": [
    {
     "data": {
      "text/plain": [
       "\n",
       "FALSE  TRUE \n",
       "  974   877 "
      ]
     },
     "metadata": {},
     "output_type": "display_data"
    }
   ],
   "source": [
    "table(bag_of_words$is_prez)"
   ]
  },
  {
   "cell_type": "markdown",
   "metadata": {},
   "source": [
    "The classes are close to an even split, so we probably don't need to worry too much but, to be precise, we will drop the excess observations from the larger class at random."
   ]
  },
  {
   "cell_type": "code",
   "execution_count": 10,
   "metadata": {
    "collapsed": false
   },
   "outputs": [
    {
     "data": {
      "text/plain": [
       "\n",
       "FALSE  TRUE \n",
       "  877   877 "
      ]
     },
     "metadata": {},
     "output_type": "display_data"
    }
   ],
   "source": [
    "min_class_size <- min(table(bag_of_words$is_prez))\n",
    "bag_of_words <- bag_of_words %>% group_by(is_prez) %>% sample_n(min_class_size) %>% ungroup()\n",
    "table(bag_of_words$is_prez)"
   ]
  },
  {
   "cell_type": "markdown",
   "metadata": {},
   "source": [
    "## Building a bag-of-words classifier \n",
    "\n",
    "Now we'd like to know whether we can use these word frequencies to predict whether a Trump tweet was made while he was president or not. We have a binary response, and continuous (integer) predictors, so we can use a variety of approaches to model this problem. Here we'll use a binary classification tree constructed using the CART algorithm, implemented in the **rpart** package. \n",
    "\n",
    "Before building the tree, we split our data into training and test sets. I've included 70% of the data in the training set and left the rest for testing."
   ]
  },
  {
   "cell_type": "code",
   "execution_count": 11,
   "metadata": {
    "collapsed": true
   },
   "outputs": [],
   "source": [
    "set.seed(321)\n",
    "training_ids <- bag_of_words %>% \n",
    "  group_by(is_prez) %>% \n",
    "  sample_frac(0.7) %>% \n",
    "  ungroup() %>%\n",
    "  select(id_str)\n",
    "\n",
    "training_tweets <- bag_of_words %>% \n",
    "  right_join(training_ids, by = \"id_str\") %>%\n",
    "  select(-id_str)\n",
    "\n",
    "test_tweets <- bag_of_words %>% \n",
    "  anti_join(training_ids, by = \"id_str\") %>%\n",
    "  select(-id_str)"
   ]
  },
  {
   "cell_type": "markdown",
   "metadata": {},
   "source": [
    "We then fit a tree to the training data."
   ]
  },
  {
   "cell_type": "code",
   "execution_count": 12,
   "metadata": {
    "collapsed": true
   },
   "outputs": [],
   "source": [
    "fit <- rpart(factor(is_prez) ~ ., training_tweets)"
   ]
  },
  {
   "cell_type": "markdown",
   "metadata": {},
   "source": [
    "And plot the full tree."
   ]
  },
  {
   "cell_type": "code",
   "execution_count": 13,
   "metadata": {
    "collapsed": false
   },
   "outputs": [
    {
     "data": {
      "image/png": "[encoded data removed]",
      "text/plain": [
       "Plot with title \"Full Classification Tree\""
      ]
     },
     "metadata": {},
     "output_type": "display_data"
    }
   ],
   "source": [
    "options(repr.plot.width=8, repr.plot.height=10)\n",
    "plot(fit, main=\"Full Classification Tree\")\n",
    "text(fit, use.n=TRUE, all=TRUE, cex=.8)"
   ]
  },
  {
   "cell_type": "markdown",
   "metadata": {},
   "source": [
    "We can assess the accuracy in training dataset by extracting a cross-table of predicted against observed classifications, and calculating the percentage of classification the model got correct. Because we have balanced class sizes (the same number of tweets before and after presidency)"
   ]
  },
  {
   "cell_type": "code",
   "execution_count": 14,
   "metadata": {
    "collapsed": false
   },
   "outputs": [
    {
     "data": {
      "text/plain": [
       "       fittedtrain\n",
       "        FALSE TRUE\n",
       "  FALSE   387  227\n",
       "  TRUE    150  464"
      ]
     },
     "metadata": {},
     "output_type": "display_data"
    },
    {
     "data": {
      "text/html": [
       "0.69299674267101"
      ],
      "text/latex": [
       "0.69299674267101"
      ],
      "text/markdown": [
       "0.69299674267101"
      ],
      "text/plain": [
       "[1] 0.6929967"
      ]
     },
     "metadata": {},
     "output_type": "display_data"
    }
   ],
   "source": [
    "fittedtrain <- predict(fit,type=\"class\")\n",
    "predtrain <- table(training_tweets$is_prez,fittedtrain)\n",
    "predtrain\n",
    "sum(diag(predtrain))/sum(predtrain) # training accuracy"
   ]
  },
  {
   "cell_type": "markdown",
   "metadata": {},
   "source": [
    "We can do the same in the test dataset - this is the accuracy we would be most interested in."
   ]
  },
  {
   "cell_type": "code",
   "execution_count": 15,
   "metadata": {
    "collapsed": false
   },
   "outputs": [
    {
     "data": {
      "text/plain": [
       "       fittedtest\n",
       "        FALSE TRUE\n",
       "  FALSE   150  113\n",
       "  TRUE     71  192"
      ]
     },
     "metadata": {},
     "output_type": "display_data"
    },
    {
     "data": {
      "text/html": [
       "0.650190114068441"
      ],
      "text/latex": [
       "0.650190114068441"
      ],
      "text/markdown": [
       "0.650190114068441"
      ],
      "text/plain": [
       "[1] 0.6501901"
      ]
     },
     "metadata": {},
     "output_type": "display_data"
    }
   ],
   "source": [
    "fittedtest <- predict(fit,newdata=test_tweets,type=\"class\")\n",
    "predtest <- table(test_tweets$is_prez,fittedtest)\n",
    "predtest\n",
    "sum(diag(predtest))/sum(predtest) # test accuracy"
   ]
  },
  {
   "cell_type": "markdown",
   "metadata": {},
   "source": [
    "## Term frequency-inverse-document-frequency (tf-idf)\n",
    "\n",
    "In the previous section we used the words contained in tweets, and specifically the frequencies of those words, to discriminate between a tweet made by Donald Trump was made while he was president or not. This is standard practice in text mining: we describe a document by the words that are contained in the document. \n",
    "\n",
    "How do we decide what words are \"important\" to a document - by which we mean distinguish that document from another? One approach is to use word frequency. If a word like \"apple\" appears frequently in a document, it is more likely to be about a recipe or health than about politics, for example. However some words that appear frequently are *not* particularly useful: words like \"the\", \"a\", and so on. These are words that may appear frequently in a particular document, but are not interesting to us *because they also appear frequently in many other documents*.\n",
    "\n",
    "We've previously encountered these as **stop words**, and we've typically removed them from the analysis to reveal more interesting underlying patterns. Another approach is, rather than removing the stop words, is to **downweight** them. This is what tf-idf (term frequency-inverse document frequency) does. Here \"term\" is just used as a general indicator of the unit of text we are interested in, like \"token\". Tf-idf is composed of two parts: \n",
    "\n",
    "* The **tf** part: A term's frequency increases with how many times it is used *in that document*. For tf-idf we use *relative* frequencies: the number of times a word appears, divided by the total number of words in that document.\n",
    "* The **idf**: A term’s inverse document frequency is a measure of how many documents (in the corpus) contain that term. It decreases the weight for commonly used words (which all or most documents will use) relative to words that are not used by many documents in a corpus.\n",
    "\n",
    "Specifically, we are going to replace the term frequencies we were using before with new values called \"inverse document frequency weighted term frequencies\" or tf-idf for short. So each term in each document will get its own tf-idf \"score\", which we denote $tfidf(\\text{term t in document i})$.\n",
    "\n",
    "Then:\n",
    "\n",
    "$$tfidf(\\text{term t in document i}) = tf(\\text{term t in document i}) \\times idf(\\text{term t})$$\n",
    "\n",
    "where\n",
    "\n",
    "$$tf(\\text{term t in document i}) = \\displaystyle\\frac{\\text{Number of times term t appears in document i}}{\\text{Number of terms in document i}}$$  \n",
    "\n",
    "and \n",
    "\n",
    "$$idf(\\text{term t}) = \\ln\\biggl(\\displaystyle\\frac{\\text{Number of documents in corpus}}{\\text{Number of documents containing term t}}\\biggr)$$ \n",
    "\n",
    "The log function increases in its argument, and the number of documents in the corpus is fixed, so as the number of documents containing a term increases (the denominator above), the idf part decreases. The log transform ensures that this decrease is steep initally, and then levels off. Below I show how the idf weight changes with the number of documents (out of a total of 100 documents) that have a term."
   ]
  },
  {
   "cell_type": "code",
   "execution_count": 16,
   "metadata": {
    "collapsed": false
   },
   "outputs": [
    {
     "data": {
      "image/png": "[encoded data removed]",
      "text/plain": [
       "plot without title"
      ]
     },
     "metadata": {},
     "output_type": "display_data"
    }
   ],
   "source": [
    "options(repr.plot.width=6, repr.plot.height=3) # set plot size in the notebook\n",
    "plot(1:100, log(100/1:100), type = \"l\", \n",
    "     xlab = \"Number of documents (out of 100) containing term t\", ylab = \"idf(t)\")"
   ]
  },
  {
   "cell_type": "markdown",
   "metadata": {},
   "source": [
    "As a bonus, we no longer have to carry around stop word dictionaries around with us - using idf allows us to include all words and let idf downweight the ones that are most common.\n",
    "\n",
    "Below we carry out the calculations above to work out tf-idf values for the words (terms) in our tweets (documents)."
   ]
  },
  {
   "cell_type": "code",
   "execution_count": 17,
   "metadata": {
    "collapsed": true
   },
   "outputs": [],
   "source": [
    "ndocs <- length(unique(tweets_tdf$id_str))\n",
    "\n",
    "idf <- tweets_tdf %>% \n",
    "  group_by(word) %>% \n",
    "  summarize(docs_with_word = n()) %>% \n",
    "  ungroup() %>%\n",
    "  mutate(idf = log(ndocs / docs_with_word)) %>% arrange(desc(idf))\n",
    "\n",
    "tweets_tdf <- tweets_tdf %>% \n",
    "    left_join(idf, by = \"word\") %>% \n",
    "    mutate(tf = n/total, tf_idf = tf * idf)"
   ]
  },
  {
   "cell_type": "markdown",
   "metadata": {},
   "source": [
    "Let's explore how the weighting affects the terms that come up as \"most important\", by looking at one particular tweet."
   ]
  },
  {
   "cell_type": "code",
   "execution_count": 18,
   "metadata": {
    "collapsed": false
   },
   "outputs": [
    {
     "name": "stderr",
     "output_type": "stream",
     "text": [
      "Adding missing grouping variables: `is_prez`\n"
     ]
    },
    {
     "data": {
      "text/html": [
       "<table>\n",
       "<thead><tr><th scope=col>is_prez</th><th scope=col>text</th></tr></thead>\n",
       "<tbody>\n",
       "\t<tr><td>TRUE                                                                        </td><td>The meeting with the @nytimes is back on at 12:30 today. Look forward to it!</td></tr>\n",
       "</tbody>\n",
       "</table>\n"
      ],
      "text/latex": [
       "\\begin{tabular}{r|ll}\n",
       " is\\_prez & text\\\\\n",
       "\\hline\n",
       "\t TRUE                                                                         & The meeting with the @nytimes is back on at 12:30 today. Look forward to it!\\\\\n",
       "\\end{tabular}\n"
      ],
      "text/markdown": [
       "\n",
       "is_prez | text | \n",
       "|---|\n",
       "| TRUE                                                                         | The meeting with the @nytimes is back on at 12:30 today. Look forward to it! | \n",
       "\n",
       "\n"
      ],
      "text/plain": [
       "  is_prez\n",
       "1 TRUE   \n",
       "  text                                                                        \n",
       "1 The meeting with the @nytimes is back on at 12:30 today. Look forward to it!"
      ]
     },
     "metadata": {},
     "output_type": "display_data"
    }
   ],
   "source": [
    "set.seed(987)\n",
    "random_tweet <- sample(tweets_tdf$id_str,1)\n",
    "tweets %>% filter(id_str == random_tweet) %>% select(text)"
   ]
  },
  {
   "cell_type": "markdown",
   "metadata": {},
   "source": [
    "Below we rank words in descending order of importance by the criterion of word frequency (`n`). By changing this to inverse document frequency (`idf`) and tf-idf (`tf_idf`) you can see which words become more or less important, and get a sense for why."
   ]
  },
  {
   "cell_type": "code",
   "execution_count": 19,
   "metadata": {
    "collapsed": false
   },
   "outputs": [
    {
     "data": {
      "text/html": [
       "<table>\n",
       "<thead><tr><th scope=col>id_str</th><th scope=col>word</th><th scope=col>n</th><th scope=col>total</th><th scope=col>docs_with_word</th><th scope=col>idf</th><th scope=col>tf</th><th scope=col>tf_idf</th></tr></thead>\n",
       "<tbody>\n",
       "\t<tr><td>801087976889520128</td><td>the               </td><td>2                 </td><td>12                </td><td>921               </td><td>0.6980213         </td><td>0.16666667        </td><td>0.1163369         </td></tr>\n",
       "\t<tr><td>801087976889520128</td><td>at                </td><td>1                 </td><td>12                </td><td>189               </td><td>2.2817343         </td><td>0.08333333        </td><td>0.1901445         </td></tr>\n",
       "\t<tr><td>801087976889520128</td><td>back              </td><td>1                 </td><td>12                </td><td> 51               </td><td>3.5916557         </td><td>0.08333333        </td><td>0.2993046         </td></tr>\n",
       "\t<tr><td>801087976889520128</td><td>forward           </td><td>1                 </td><td>12                </td><td> 30               </td><td>4.1222839         </td><td>0.08333333        </td><td>0.3435237         </td></tr>\n",
       "\t<tr><td>801087976889520128</td><td>is                </td><td>1                 </td><td>12                </td><td>434               </td><td>1.4504368         </td><td>0.08333333        </td><td>0.1208697         </td></tr>\n",
       "\t<tr><td>801087976889520128</td><td>it                </td><td>1                 </td><td>12                </td><td>237               </td><td>2.0554212         </td><td>0.08333333        </td><td>0.1712851         </td></tr>\n",
       "\t<tr><td>801087976889520128</td><td>look              </td><td>1                 </td><td>12                </td><td> 33               </td><td>4.0269738         </td><td>0.08333333        </td><td>0.3355811         </td></tr>\n",
       "\t<tr><td>801087976889520128</td><td>on                </td><td>1                 </td><td>12                </td><td>318               </td><td>1.7614299         </td><td>0.08333333        </td><td>0.1467858         </td></tr>\n",
       "\t<tr><td>801087976889520128</td><td>to                </td><td>1                 </td><td>12                </td><td>730               </td><td>0.9304368         </td><td>0.08333333        </td><td>0.0775364         </td></tr>\n",
       "\t<tr><td>801087976889520128</td><td>today             </td><td>1                 </td><td>12                </td><td> 78               </td><td>3.1667725         </td><td>0.08333333        </td><td>0.2638977         </td></tr>\n",
       "\t<tr><td>801087976889520128</td><td>with              </td><td>1                 </td><td>12                </td><td>210               </td><td>2.1763738         </td><td>0.08333333        </td><td>0.1813645         </td></tr>\n",
       "</tbody>\n",
       "</table>\n"
      ],
      "text/latex": [
       "\\begin{tabular}{r|llllllll}\n",
       " id\\_str & word & n & total & docs\\_with\\_word & idf & tf & tf\\_idf\\\\\n",
       "\\hline\n",
       "\t 801087976889520128 & the                & 2                  & 12                 & 921                & 0.6980213          & 0.16666667         & 0.1163369         \\\\\n",
       "\t 801087976889520128 & at                 & 1                  & 12                 & 189                & 2.2817343          & 0.08333333         & 0.1901445         \\\\\n",
       "\t 801087976889520128 & back               & 1                  & 12                 &  51                & 3.5916557          & 0.08333333         & 0.2993046         \\\\\n",
       "\t 801087976889520128 & forward            & 1                  & 12                 &  30                & 4.1222839          & 0.08333333         & 0.3435237         \\\\\n",
       "\t 801087976889520128 & is                 & 1                  & 12                 & 434                & 1.4504368          & 0.08333333         & 0.1208697         \\\\\n",
       "\t 801087976889520128 & it                 & 1                  & 12                 & 237                & 2.0554212          & 0.08333333         & 0.1712851         \\\\\n",
       "\t 801087976889520128 & look               & 1                  & 12                 &  33                & 4.0269738          & 0.08333333         & 0.3355811         \\\\\n",
       "\t 801087976889520128 & on                 & 1                  & 12                 & 318                & 1.7614299          & 0.08333333         & 0.1467858         \\\\\n",
       "\t 801087976889520128 & to                 & 1                  & 12                 & 730                & 0.9304368          & 0.08333333         & 0.0775364         \\\\\n",
       "\t 801087976889520128 & today              & 1                  & 12                 &  78                & 3.1667725          & 0.08333333         & 0.2638977         \\\\\n",
       "\t 801087976889520128 & with               & 1                  & 12                 & 210                & 2.1763738          & 0.08333333         & 0.1813645         \\\\\n",
       "\\end{tabular}\n"
      ],
      "text/markdown": [
       "\n",
       "id_str | word | n | total | docs_with_word | idf | tf | tf_idf | \n",
       "|---|---|---|---|---|---|---|---|---|---|---|\n",
       "| 801087976889520128 | the                | 2                  | 12                 | 921                | 0.6980213          | 0.16666667         | 0.1163369          | \n",
       "| 801087976889520128 | at                 | 1                  | 12                 | 189                | 2.2817343          | 0.08333333         | 0.1901445          | \n",
       "| 801087976889520128 | back               | 1                  | 12                 |  51                | 3.5916557          | 0.08333333         | 0.2993046          | \n",
       "| 801087976889520128 | forward            | 1                  | 12                 |  30                | 4.1222839          | 0.08333333         | 0.3435237          | \n",
       "| 801087976889520128 | is                 | 1                  | 12                 | 434                | 1.4504368          | 0.08333333         | 0.1208697          | \n",
       "| 801087976889520128 | it                 | 1                  | 12                 | 237                | 2.0554212          | 0.08333333         | 0.1712851          | \n",
       "| 801087976889520128 | look               | 1                  | 12                 |  33                | 4.0269738          | 0.08333333         | 0.3355811          | \n",
       "| 801087976889520128 | on                 | 1                  | 12                 | 318                | 1.7614299          | 0.08333333         | 0.1467858          | \n",
       "| 801087976889520128 | to                 | 1                  | 12                 | 730                | 0.9304368          | 0.08333333         | 0.0775364          | \n",
       "| 801087976889520128 | today              | 1                  | 12                 |  78                | 3.1667725          | 0.08333333         | 0.2638977          | \n",
       "| 801087976889520128 | with               | 1                  | 12                 | 210                | 2.1763738          | 0.08333333         | 0.1813645          | \n",
       "\n",
       "\n"
      ],
      "text/plain": [
       "   id_str             word    n total docs_with_word idf       tf        \n",
       "1  801087976889520128 the     2 12    921            0.6980213 0.16666667\n",
       "2  801087976889520128 at      1 12    189            2.2817343 0.08333333\n",
       "3  801087976889520128 back    1 12     51            3.5916557 0.08333333\n",
       "4  801087976889520128 forward 1 12     30            4.1222839 0.08333333\n",
       "5  801087976889520128 is      1 12    434            1.4504368 0.08333333\n",
       "6  801087976889520128 it      1 12    237            2.0554212 0.08333333\n",
       "7  801087976889520128 look    1 12     33            4.0269738 0.08333333\n",
       "8  801087976889520128 on      1 12    318            1.7614299 0.08333333\n",
       "9  801087976889520128 to      1 12    730            0.9304368 0.08333333\n",
       "10 801087976889520128 today   1 12     78            3.1667725 0.08333333\n",
       "11 801087976889520128 with    1 12    210            2.1763738 0.08333333\n",
       "   tf_idf   \n",
       "1  0.1163369\n",
       "2  0.1901445\n",
       "3  0.2993046\n",
       "4  0.3435237\n",
       "5  0.1208697\n",
       "6  0.1712851\n",
       "7  0.3355811\n",
       "8  0.1467858\n",
       "9  0.0775364\n",
       "10 0.2638977\n",
       "11 0.1813645"
      ]
     },
     "metadata": {},
     "output_type": "display_data"
    }
   ],
   "source": [
    "tweets_tdf %>% filter(id_str == random_tweet) %>% arrange(desc(n))"
   ]
  },
  {
   "cell_type": "markdown",
   "metadata": {},
   "source": [
    "We've done the tf-idf calculation \"from scratch\" to better understanding of what is happening. The **tidytext** package has a function `bind_tf_idf()` that does the same thing."
   ]
  },
  {
   "cell_type": "code",
   "execution_count": 20,
   "metadata": {
    "collapsed": false
   },
   "outputs": [
    {
     "data": {
      "text/html": [
       "<table>\n",
       "<thead><tr><th scope=col>id_str</th><th scope=col>word</th><th scope=col>n</th><th scope=col>total</th><th scope=col>docs_with_word</th><th scope=col>tf</th><th scope=col>idf</th><th scope=col>tf_idf</th></tr></thead>\n",
       "<tbody>\n",
       "\t<tr><td>801087976889520128</td><td>the               </td><td>2                 </td><td>12                </td><td>921               </td><td>0.16666667        </td><td>0.6980213         </td><td>0.1163369         </td></tr>\n",
       "\t<tr><td>801087976889520128</td><td>at                </td><td>1                 </td><td>12                </td><td>189               </td><td>0.08333333        </td><td>2.2817343         </td><td>0.1901445         </td></tr>\n",
       "\t<tr><td>801087976889520128</td><td>back              </td><td>1                 </td><td>12                </td><td> 51               </td><td>0.08333333        </td><td>3.5916557         </td><td>0.2993046         </td></tr>\n",
       "\t<tr><td>801087976889520128</td><td>forward           </td><td>1                 </td><td>12                </td><td> 30               </td><td>0.08333333        </td><td>4.1222839         </td><td>0.3435237         </td></tr>\n",
       "\t<tr><td>801087976889520128</td><td>is                </td><td>1                 </td><td>12                </td><td>434               </td><td>0.08333333        </td><td>1.4504368         </td><td>0.1208697         </td></tr>\n",
       "\t<tr><td>801087976889520128</td><td>it                </td><td>1                 </td><td>12                </td><td>237               </td><td>0.08333333        </td><td>2.0554212         </td><td>0.1712851         </td></tr>\n",
       "\t<tr><td>801087976889520128</td><td>look              </td><td>1                 </td><td>12                </td><td> 33               </td><td>0.08333333        </td><td>4.0269738         </td><td>0.3355811         </td></tr>\n",
       "\t<tr><td>801087976889520128</td><td>on                </td><td>1                 </td><td>12                </td><td>318               </td><td>0.08333333        </td><td>1.7614299         </td><td>0.1467858         </td></tr>\n",
       "\t<tr><td>801087976889520128</td><td>to                </td><td>1                 </td><td>12                </td><td>730               </td><td>0.08333333        </td><td>0.9304368         </td><td>0.0775364         </td></tr>\n",
       "\t<tr><td>801087976889520128</td><td>today             </td><td>1                 </td><td>12                </td><td> 78               </td><td>0.08333333        </td><td>3.1667725         </td><td>0.2638977         </td></tr>\n",
       "\t<tr><td>801087976889520128</td><td>with              </td><td>1                 </td><td>12                </td><td>210               </td><td>0.08333333        </td><td>2.1763738         </td><td>0.1813645         </td></tr>\n",
       "</tbody>\n",
       "</table>\n"
      ],
      "text/latex": [
       "\\begin{tabular}{r|llllllll}\n",
       " id\\_str & word & n & total & docs\\_with\\_word & tf & idf & tf\\_idf\\\\\n",
       "\\hline\n",
       "\t 801087976889520128 & the                & 2                  & 12                 & 921                & 0.16666667         & 0.6980213          & 0.1163369         \\\\\n",
       "\t 801087976889520128 & at                 & 1                  & 12                 & 189                & 0.08333333         & 2.2817343          & 0.1901445         \\\\\n",
       "\t 801087976889520128 & back               & 1                  & 12                 &  51                & 0.08333333         & 3.5916557          & 0.2993046         \\\\\n",
       "\t 801087976889520128 & forward            & 1                  & 12                 &  30                & 0.08333333         & 4.1222839          & 0.3435237         \\\\\n",
       "\t 801087976889520128 & is                 & 1                  & 12                 & 434                & 0.08333333         & 1.4504368          & 0.1208697         \\\\\n",
       "\t 801087976889520128 & it                 & 1                  & 12                 & 237                & 0.08333333         & 2.0554212          & 0.1712851         \\\\\n",
       "\t 801087976889520128 & look               & 1                  & 12                 &  33                & 0.08333333         & 4.0269738          & 0.3355811         \\\\\n",
       "\t 801087976889520128 & on                 & 1                  & 12                 & 318                & 0.08333333         & 1.7614299          & 0.1467858         \\\\\n",
       "\t 801087976889520128 & to                 & 1                  & 12                 & 730                & 0.08333333         & 0.9304368          & 0.0775364         \\\\\n",
       "\t 801087976889520128 & today              & 1                  & 12                 &  78                & 0.08333333         & 3.1667725          & 0.2638977         \\\\\n",
       "\t 801087976889520128 & with               & 1                  & 12                 & 210                & 0.08333333         & 2.1763738          & 0.1813645         \\\\\n",
       "\\end{tabular}\n"
      ],
      "text/markdown": [
       "\n",
       "id_str | word | n | total | docs_with_word | tf | idf | tf_idf | \n",
       "|---|---|---|---|---|---|---|---|---|---|---|\n",
       "| 801087976889520128 | the                | 2                  | 12                 | 921                | 0.16666667         | 0.6980213          | 0.1163369          | \n",
       "| 801087976889520128 | at                 | 1                  | 12                 | 189                | 0.08333333         | 2.2817343          | 0.1901445          | \n",
       "| 801087976889520128 | back               | 1                  | 12                 |  51                | 0.08333333         | 3.5916557          | 0.2993046          | \n",
       "| 801087976889520128 | forward            | 1                  | 12                 |  30                | 0.08333333         | 4.1222839          | 0.3435237          | \n",
       "| 801087976889520128 | is                 | 1                  | 12                 | 434                | 0.08333333         | 1.4504368          | 0.1208697          | \n",
       "| 801087976889520128 | it                 | 1                  | 12                 | 237                | 0.08333333         | 2.0554212          | 0.1712851          | \n",
       "| 801087976889520128 | look               | 1                  | 12                 |  33                | 0.08333333         | 4.0269738          | 0.3355811          | \n",
       "| 801087976889520128 | on                 | 1                  | 12                 | 318                | 0.08333333         | 1.7614299          | 0.1467858          | \n",
       "| 801087976889520128 | to                 | 1                  | 12                 | 730                | 0.08333333         | 0.9304368          | 0.0775364          | \n",
       "| 801087976889520128 | today              | 1                  | 12                 |  78                | 0.08333333         | 3.1667725          | 0.2638977          | \n",
       "| 801087976889520128 | with               | 1                  | 12                 | 210                | 0.08333333         | 2.1763738          | 0.1813645          | \n",
       "\n",
       "\n"
      ],
      "text/plain": [
       "   id_str             word    n total docs_with_word tf         idf      \n",
       "1  801087976889520128 the     2 12    921            0.16666667 0.6980213\n",
       "2  801087976889520128 at      1 12    189            0.08333333 2.2817343\n",
       "3  801087976889520128 back    1 12     51            0.08333333 3.5916557\n",
       "4  801087976889520128 forward 1 12     30            0.08333333 4.1222839\n",
       "5  801087976889520128 is      1 12    434            0.08333333 1.4504368\n",
       "6  801087976889520128 it      1 12    237            0.08333333 2.0554212\n",
       "7  801087976889520128 look    1 12     33            0.08333333 4.0269738\n",
       "8  801087976889520128 on      1 12    318            0.08333333 1.7614299\n",
       "9  801087976889520128 to      1 12    730            0.08333333 0.9304368\n",
       "10 801087976889520128 today   1 12     78            0.08333333 3.1667725\n",
       "11 801087976889520128 with    1 12    210            0.08333333 2.1763738\n",
       "   tf_idf   \n",
       "1  0.1163369\n",
       "2  0.1901445\n",
       "3  0.2993046\n",
       "4  0.3435237\n",
       "5  0.1208697\n",
       "6  0.1712851\n",
       "7  0.3355811\n",
       "8  0.1467858\n",
       "9  0.0775364\n",
       "10 0.2638977\n",
       "11 0.1813645"
      ]
     },
     "metadata": {},
     "output_type": "display_data"
    }
   ],
   "source": [
    "tweets_tdf <- tweets_tdf %>% \n",
    "    select(-idf, -tf, -tf_idf) %>% # remove the old ones we worked out\n",
    "  bind_tf_idf(word, id_str, n) # replace with values from tidytext\n",
    "\n",
    "tweets_tdf %>% filter(id_str == random_tweet) %>% arrange(desc(n)) # check same as above"
   ]
  },
  {
   "cell_type": "markdown",
   "metadata": {},
   "source": [
    "# Redoing the classification tree, this time with tf-idf features \n",
    "\n",
    "Tf-idf features often give better accuracy in predictive modelling than using word frequencies. In this section we repeat the earlier analysis, building a classification tree to predict whether a tweet was made before or after becoming president, but replacing the word frequency features with the tf-idf values calculated above. \n",
    "\n",
    "We start by reshaping the dataset:"
   ]
  },
  {
   "cell_type": "code",
   "execution_count": 21,
   "metadata": {
    "collapsed": false
   },
   "outputs": [
    {
     "name": "stderr",
     "output_type": "stream",
     "text": [
      "Joining, by = \"id_str\"\n"
     ]
    }
   ],
   "source": [
    "bag_of_words <- tweets_tdf %>% \n",
    "  select(id_str, word, tf_idf) %>%  # note the change, using tf-idf\n",
    "  spread(key = word, value = tf_idf, fill = 0) %>%  \n",
    "  left_join(tweets %>% select(id_str,is_prez))"
   ]
  },
  {
   "cell_type": "markdown",
   "metadata": {},
   "source": [
    "We use same training and test sets as before."
   ]
  },
  {
   "cell_type": "code",
   "execution_count": 22,
   "metadata": {
    "collapsed": true
   },
   "outputs": [],
   "source": [
    "training_tweets <- bag_of_words %>% \n",
    "  right_join(training_ids, by = \"id_str\") %>%\n",
    "  select(-id_str)\n",
    "\n",
    "test_tweets <- bag_of_words %>% \n",
    "  anti_join(training_ids, by = \"id_str\") %>%\n",
    "  select(-id_str)"
   ]
  },
  {
   "cell_type": "markdown",
   "metadata": {},
   "source": [
    "We fit a tree to training data:"
   ]
  },
  {
   "cell_type": "code",
   "execution_count": 23,
   "metadata": {
    "collapsed": true
   },
   "outputs": [],
   "source": [
    "fit <- rpart(factor(is_prez) ~ ., training_tweets)"
   ]
  },
  {
   "cell_type": "markdown",
   "metadata": {},
   "source": [
    "Plot the tree we just created:"
   ]
  },
  {
   "cell_type": "code",
   "execution_count": 24,
   "metadata": {
    "collapsed": false
   },
   "outputs": [
    {
     "data": {
      "image/png": "[encoded data removed]",
      "text/plain": [
       "Plot with title \"Full Classification Tree\""
      ]
     },
     "metadata": {},
     "output_type": "display_data"
    }
   ],
   "source": [
    "options(repr.plot.width=8, repr.plot.height=10)\n",
    "plot(fit, main=\"Full Classification Tree\")\n",
    "text(fit, use.n=TRUE, all=TRUE, cex=.8)"
   ]
  },
  {
   "cell_type": "markdown",
   "metadata": {},
   "source": [
    "And check the accuracy in training and test datasets:"
   ]
  },
  {
   "cell_type": "code",
   "execution_count": 25,
   "metadata": {
    "collapsed": false
   },
   "outputs": [
    {
     "data": {
      "text/plain": [
       "       fittedtrain\n",
       "        FALSE TRUE\n",
       "  FALSE   432  182\n",
       "  TRUE    164  450"
      ]
     },
     "metadata": {},
     "output_type": "display_data"
    },
    {
     "data": {
      "text/html": [
       "0.718241042345277"
      ],
      "text/latex": [
       "0.718241042345277"
      ],
      "text/markdown": [
       "0.718241042345277"
      ],
      "text/plain": [
       "[1] 0.718241"
      ]
     },
     "metadata": {},
     "output_type": "display_data"
    }
   ],
   "source": [
    "fittedtrain <- predict(fit,type=\"class\")\n",
    "predtrain <- table(training_tweets$is_prez,fittedtrain)\n",
    "predtrain\n",
    "sum(diag(predtrain))/sum(predtrain) # training accuracy"
   ]
  },
  {
   "cell_type": "code",
   "execution_count": 26,
   "metadata": {
    "collapsed": false
   },
   "outputs": [
    {
     "data": {
      "text/plain": [
       "       fittedtest\n",
       "        FALSE TRUE\n",
       "  FALSE   234  126\n",
       "  TRUE     87  176"
      ]
     },
     "metadata": {},
     "output_type": "display_data"
    },
    {
     "data": {
      "text/html": [
       "0.658105939004815"
      ],
      "text/latex": [
       "0.658105939004815"
      ],
      "text/markdown": [
       "0.658105939004815"
      ],
      "text/plain": [
       "[1] 0.6581059"
      ]
     },
     "metadata": {},
     "output_type": "display_data"
    }
   ],
   "source": [
    "fittedtest <- predict(fit,newdata=test_tweets,type=\"class\")\n",
    "predtest <- table(test_tweets$is_prez,fittedtest)\n",
    "predtest\n",
    "sum(diag(predtest))/sum(predtest) # test accuracy"
   ]
  },
  {
   "cell_type": "markdown",
   "metadata": {},
   "source": [
    "We get a very slight improvement in accuracy from replacing word frequency features with ones based on tf-idf."
   ]
  },
  {
   "cell_type": "markdown",
   "metadata": {},
   "source": [
    "## Exercises\n",
    "\n",
    "1. Try and improve on the classification models described above. Try the following (for example):\n",
    "    + use bigrams rather than words as tokens.\n",
    "    + include other explanatory variables included in the `tweets` data frame.\n",
    "    + remove stopwords.\n",
    "    + use more than 200 words in the bag-of-words.\n",
    "    "
   ]
  }
 ],
 "metadata": {
  "anaconda-cloud": {},
  "kernelspec": {
   "display_name": "R",
   "language": "R",
   "name": "ir"
  },
  "language_info": {
   "codemirror_mode": "r",
   "file_extension": ".r",
   "mimetype": "text/x-r-source",
   "name": "R",
   "pygments_lexer": "r",
   "version": "3.4.1"
  }
 },
 "nbformat": 4,
 "nbformat_minor": 2
}
