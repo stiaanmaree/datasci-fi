{
 "cells": [
  {
   "cell_type": "markdown",
   "metadata": {},
   "source": [
    "# Lesson 3 // Working with text using the stringr package\n",
    "\n",
    "---\n",
    "Working with text can be difficult. Often data collected as text is unstructured, of variable length, and prone to differences in how it is collected. You can therefore expect to do rather more cleaning of text data before it is in a shape that is useful for analysis. \n",
    "\n",
    "This notebook is a minimal introduction to working with text using the **stringr** package, which has a lot of useful helpful functions for working with text. We also look at \"regular expressions\", a language for matching patterns in text that forms the basis for many of the functions in **stringr**.\n",
    "\n",
    "In this lesson we'll:\n",
    "\n",
    "1. Learn about writing strings, \"escaping\" certain characters with the backspace, and some basic functions like case conversion and string concatenation.\n",
    "2. Learn the basics of regular expressions, a powerful tool for matching patterns in strings.\n",
    "3. See how regular expressions can be used together with various **stringr** functions to do a number of useful things:\n",
    "    + detect which strings match a pattern\n",
    "    + extract the part of a string that matches a pattern\n",
    "    + replace the matched part of a string with a new string\n",
    "    + split up strings by some criterion\n",
    "---\n",
    "\n",
    "For further reading, I strongly recommend [this chapter](http://r4ds.had.co.nz/strings.html) in R4DS, which covers the **stringr** package in quite a bit more detail than I do here. If you are new to regular expressions, there are a number of excellent tutorials online. Start with [this one](https://regexone.com/), and further information is [here](http://www.python-course.eu/re.php) and [here](http://www.regular-expressions.info/tutorial.html). There are many good \"cheatsheets\" to help you as you go, for example [Pete Freitag's](http://www.petefreitag.com/cheatsheets/regex/). The bible of regular expressions is apparently [this book](https://www.amazon.com/dp/0596528124/), if you really want to get into it!\n"
   ]
  },
  {
   "cell_type": "markdown",
   "metadata": {},
   "source": [
    "First we load the packages we'll need for the notebook."
   ]
  },
  {
   "cell_type": "code",
   "execution_count": 1,
   "metadata": {
    "collapsed": false
   },
   "outputs": [
    {
     "name": "stderr",
     "output_type": "stream",
     "text": [
      "Loading tidyverse: ggplot2\n",
      "Loading tidyverse: tibble\n",
      "Loading tidyverse: tidyr\n",
      "Loading tidyverse: readr\n",
      "Loading tidyverse: purrr\n",
      "Loading tidyverse: dplyr\n",
      "Conflicts with tidy packages ---------------------------------------------------\n",
      "filter(): dplyr, stats\n",
      "lag():    dplyr, stats\n"
     ]
    }
   ],
   "source": [
    "library(tidyverse)\n",
    "library(stringr)"
   ]
  },
  {
   "cell_type": "markdown",
   "metadata": {},
   "source": [
    "## String basics\n",
    "\n",
    "Below we enter a string and take a look at some basic information about the stored object."
   ]
  },
  {
   "cell_type": "code",
   "execution_count": 2,
   "metadata": {
    "collapsed": false
   },
   "outputs": [
    {
     "data": {
      "text/html": [
       "'This is a string'"
      ],
      "text/latex": [
       "'This is a string'"
      ],
      "text/markdown": [
       "'This is a string'"
      ],
      "text/plain": [
       "[1] \"This is a string\""
      ]
     },
     "metadata": {},
     "output_type": "display_data"
    },
    {
     "name": "stdout",
     "output_type": "stream",
     "text": [
      " chr \"This is a string\"\n"
     ]
    },
    {
     "data": {
      "text/html": [
       "1"
      ],
      "text/latex": [
       "1"
      ],
      "text/markdown": [
       "1"
      ],
      "text/plain": [
       "[1] 1"
      ]
     },
     "metadata": {},
     "output_type": "display_data"
    },
    {
     "data": {
      "text/html": [
       "16"
      ],
      "text/latex": [
       "16"
      ],
      "text/markdown": [
       "16"
      ],
      "text/plain": [
       "[1] 16"
      ]
     },
     "metadata": {},
     "output_type": "display_data"
    },
    {
     "data": {
      "text/html": [
       "16"
      ],
      "text/latex": [
       "16"
      ],
      "text/markdown": [
       "16"
      ],
      "text/plain": [
       "[1] 16"
      ]
     },
     "metadata": {},
     "output_type": "display_data"
    }
   ],
   "source": [
    "string <- \"This is a string\"\n",
    "string\n",
    "str(string)\n",
    "length(string) # note length is 1\n",
    "nchar(string) # \"length\" of the string, base R\n",
    "str_length(string) # \"length\" of the string, stringr"
   ]
  },
  {
   "cell_type": "markdown",
   "metadata": {},
   "source": [
    "Strings are created using single or double quotes. If we want to include a literal quotes within the string, we need to use `\\\"`. This is a common way of including symbols that have a special meaning in the context of strings (we'll see much more of this with regular expressions). Try pasting the following lines into R/RStudio - you'll see that `string` on its own prints out the string itself, not the printed representation of it (for which we need `writeLines`. "
   ]
  },
  {
   "cell_type": "code",
   "execution_count": 3,
   "metadata": {
    "collapsed": false
   },
   "outputs": [
    {
     "data": {
      "text/html": [
       "'I told you \"This is a string\"'"
      ],
      "text/latex": [
       "'I told you \"This is a string\"'"
      ],
      "text/markdown": [
       "'I told you \"This is a string\"'"
      ],
      "text/plain": [
       "[1] \"I told you \\\"This is a string\\\"\""
      ]
     },
     "metadata": {},
     "output_type": "display_data"
    },
    {
     "name": "stdout",
     "output_type": "stream",
     "text": [
      "I told you \"This is a string\"\n"
     ]
    }
   ],
   "source": [
    "# \"Escaping\" the \" character\n",
    "string <- \"I told you \\\"This is a string\\\"\"\n",
    "string \n",
    "writeLines(string)"
   ]
  },
  {
   "cell_type": "markdown",
   "metadata": {},
   "source": [
    "If we escape certain characters that have a special meaning by putting a `\\` in front, how to we get a backslash character into a string? We have to escape the escape character!"
   ]
  },
  {
   "cell_type": "code",
   "execution_count": 4,
   "metadata": {
    "collapsed": false
   },
   "outputs": [
    {
     "name": "stdout",
     "output_type": "stream",
     "text": [
      "This is a  string\n",
      "This is a \\ string\n"
     ]
    }
   ],
   "source": [
    "writeLines(\"This is a \\ string\")\n",
    "writeLines(\"This is a \\\\ string\")"
   ]
  },
  {
   "cell_type": "markdown",
   "metadata": {},
   "source": [
    "There are a few othe \"special (meta)characters\" you need to remember:\n",
    "\n",
    "* `\\t` for \"tab\"\n",
    "* `\\r` for \"carriage return\"\n",
    "* `\\n` for \"new line\""
   ]
  },
  {
   "cell_type": "code",
   "execution_count": 5,
   "metadata": {
    "collapsed": false
   },
   "outputs": [
    {
     "name": "stdout",
     "output_type": "stream",
     "text": [
      "This \t is a \n",
      "string\n",
      "This is a string\n",
      "This is another\n"
     ]
    }
   ],
   "source": [
    "# tab\n",
    "string <- \"This \\t is a \\nstring\"\n",
    "writeLines(string)\n",
    "\n",
    "# carriage return and new line\n",
    "string <- \"This is a string\\r\\nThis is another\"\n",
    "writeLines(string)"
   ]
  },
  {
   "cell_type": "markdown",
   "metadata": {},
   "source": [
    "We can combine strings with `str_c()`."
   ]
  },
  {
   "cell_type": "code",
   "execution_count": 6,
   "metadata": {
    "collapsed": false
   },
   "outputs": [
    {
     "data": {
      "text/html": [
       "'x,y'"
      ],
      "text/latex": [
       "'x,y'"
      ],
      "text/markdown": [
       "'x,y'"
      ],
      "text/plain": [
       "[1] \"x,y\""
      ]
     },
     "metadata": {},
     "output_type": "display_data"
    },
    {
     "data": {
      "text/html": [
       "'x and y'"
      ],
      "text/latex": [
       "'x and y'"
      ],
      "text/markdown": [
       "'x and y'"
      ],
      "text/plain": [
       "[1] \"x and y\""
      ]
     },
     "metadata": {},
     "output_type": "display_data"
    }
   ],
   "source": [
    "str_c(\"x\", \"y\", sep = \",\")\n",
    "str_c(\"x\", \"y\", sep = \" and \")"
   ]
  },
  {
   "cell_type": "markdown",
   "metadata": {},
   "source": [
    "To extract parts of strings using their location in the string, we use `str_sub()`. The numbers passed as arguments to `str_sub()` indicate the start and end position of the part we want to extract. Negative numbers are counted backwards from the end of the word."
   ]
  },
  {
   "cell_type": "code",
   "execution_count": 7,
   "metadata": {
    "collapsed": false
   },
   "outputs": [
    {
     "data": {
      "text/html": [
       "'http'"
      ],
      "text/latex": [
       "'http'"
      ],
      "text/markdown": [
       "'http'"
      ],
      "text/plain": [
       "[1] \"http\""
      ]
     },
     "metadata": {},
     "output_type": "display_data"
    },
    {
     "data": {
      "text/html": [
       "'co.za/'"
      ],
      "text/latex": [
       "'co.za/'"
      ],
      "text/markdown": [
       "'co.za/'"
      ],
      "text/plain": [
       "[1] \"co.za/\""
      ]
     },
     "metadata": {},
     "output_type": "display_data"
    },
    {
     "data": {
      "text/html": [
       "'ttp://ewn.co.za'"
      ],
      "text/latex": [
       "'ttp://ewn.co.za'"
      ],
      "text/markdown": [
       "'ttp://ewn.co.za'"
      ],
      "text/plain": [
       "[1] \"ttp://ewn.co.za\""
      ]
     },
     "metadata": {},
     "output_type": "display_data"
    }
   ],
   "source": [
    "web <- \"http://ewn.co.za/\"\n",
    "# first four characters\n",
    "str_sub(web, 1, 4)\n",
    "# last six characters\n",
    "str_sub(web, -6, -1)\n",
    "# all but first and last characters\n",
    "str_sub(web, 2, -2)"
   ]
  },
  {
   "cell_type": "markdown",
   "metadata": {},
   "source": [
    "There are a few other useful basic things we can do with **stringr**. For example, we can change case. You need to be a bit careful here, because this conversion depends on your language settings (your [locale](http://r4ds.had.co.nz/strings.html#locales)). You can set this within the functions below. "
   ]
  },
  {
   "cell_type": "code",
   "execution_count": 8,
   "metadata": {
    "collapsed": false
   },
   "outputs": [
    {
     "data": {
      "text/html": [
       "'THIS IS A STRING'"
      ],
      "text/latex": [
       "'THIS IS A STRING'"
      ],
      "text/markdown": [
       "'THIS IS A STRING'"
      ],
      "text/plain": [
       "[1] \"THIS IS A STRING\""
      ]
     },
     "metadata": {},
     "output_type": "display_data"
    }
   ],
   "source": [
    "# convert to upper case\n",
    "str_to_upper(\"This is a string\")"
   ]
  },
  {
   "cell_type": "code",
   "execution_count": 9,
   "metadata": {
    "collapsed": false
   },
   "outputs": [
    {
     "data": {
      "text/html": [
       "'this is a string'"
      ],
      "text/latex": [
       "'this is a string'"
      ],
      "text/markdown": [
       "'this is a string'"
      ],
      "text/plain": [
       "[1] \"this is a string\""
      ]
     },
     "metadata": {},
     "output_type": "display_data"
    }
   ],
   "source": [
    "# convert to lower case\n",
    "str_to_lower(\"This Is A StrinG\")"
   ]
  },
  {
   "cell_type": "markdown",
   "metadata": {},
   "source": [
    "We can also remove whitespace at the beginning and end of a string."
   ]
  },
  {
   "cell_type": "code",
   "execution_count": 10,
   "metadata": {
    "collapsed": false
   },
   "outputs": [
    {
     "data": {
      "text/html": [
       "'This is a string'"
      ],
      "text/latex": [
       "'This is a string'"
      ],
      "text/markdown": [
       "'This is a string'"
      ],
      "text/plain": [
       "[1] \"This is a string\""
      ]
     },
     "metadata": {},
     "output_type": "display_data"
    }
   ],
   "source": [
    "str_trim(\"  This is a string  \\t\\r\\n\")"
   ]
  },
  {
   "cell_type": "markdown",
   "metadata": {},
   "source": [
    "Note that with all these functions, if we have a vector of strings, the functions are applied to each element of the vector. "
   ]
  },
  {
   "cell_type": "code",
   "execution_count": 11,
   "metadata": {
    "collapsed": false
   },
   "outputs": [
    {
     "data": {
      "text/html": [
       "<ol class=list-inline>\n",
       "\t<li>'STRING NUMBER 1 '</li>\n",
       "\t<li>'STRING NUMBER 2'</li>\n",
       "\t<li>'STRING 3'</li>\n",
       "</ol>\n"
      ],
      "text/latex": [
       "\\begin{enumerate*}\n",
       "\\item 'STRING NUMBER 1 '\n",
       "\\item 'STRING NUMBER 2'\n",
       "\\item 'STRING 3'\n",
       "\\end{enumerate*}\n"
      ],
      "text/markdown": [
       "1. 'STRING NUMBER 1 '\n",
       "2. 'STRING NUMBER 2'\n",
       "3. 'STRING 3'\n",
       "\n",
       "\n"
      ],
      "text/plain": [
       "[1] \"STRING NUMBER 1 \" \"STRING NUMBER 2\"  \"STRING 3\"        "
      ]
     },
     "metadata": {},
     "output_type": "display_data"
    }
   ],
   "source": [
    "str_to_upper(c(\"String number 1 \", \"String number 2\", \"String 3\"))"
   ]
  },
  {
   "cell_type": "markdown",
   "metadata": {},
   "source": [
    "## Matching patterns with regular expressions\n",
    "\n",
    "A regular expression is a formal language that is very useful in describing patterns in strings. "
   ]
  },
  {
   "cell_type": "code",
   "execution_count": 12,
   "metadata": {
    "collapsed": true
   },
   "outputs": [],
   "source": [
    "x <- c(\"apple\", \"banana\", \"pear\", \"28.50\", \"Probability 0\")"
   ]
  },
  {
   "cell_type": "markdown",
   "metadata": {},
   "source": [
    "> Note! **stringr** has very useful functions `str_view()` and `str_view_all()` that allow you to view a HTML rendering of a pattern matched by a regular expression. This would show the whole string, with a grey block indicating the match. Unfortunately, these functions don't work in jupyter notebook, so I've used `str_extract()` and `str_extract_all()` below. These functions don't do the same thing as `str_view()`: they just *extract* the matched part of the string. This is much less illustrative of what's going on, so I suggest you rather do this next section in R, and replace `str_extract()` with `str_view()` (I've already done this in the .Rmd file [here](https://github.com/iandurbach/datasci-fi)) "
   ]
  },
  {
   "cell_type": "markdown",
   "metadata": {},
   "source": [
    "The basic idea is to match the pattern given in the regular expression. The simplest case is where we want to match an exact string. Note that the default behaviour is to find only the first match. We can get all matches with `str_extract_all()`, and many **stringr** functions have `_all()` variants. We'll pick this point up again later, once we're more familiar with regular expressions. "
   ]
  },
  {
   "cell_type": "code",
   "execution_count": 13,
   "metadata": {
    "collapsed": false
   },
   "outputs": [
    {
     "data": {
      "text/html": [
       "<ol class=list-inline>\n",
       "\t<li>'a'</li>\n",
       "\t<li>'a'</li>\n",
       "\t<li>'a'</li>\n",
       "\t<li>'NA'</li>\n",
       "\t<li>'a'</li>\n",
       "</ol>\n"
      ],
      "text/latex": [
       "\\begin{enumerate*}\n",
       "\\item 'a'\n",
       "\\item 'a'\n",
       "\\item 'a'\n",
       "\\item 'NA'\n",
       "\\item 'a'\n",
       "\\end{enumerate*}\n"
      ],
      "text/markdown": [
       "1. 'a'\n",
       "2. 'a'\n",
       "3. 'a'\n",
       "4. 'NA'\n",
       "5. 'a'\n",
       "\n",
       "\n"
      ],
      "text/plain": [
       "[1] \"a\" \"a\" \"a\" NA  \"a\""
      ]
     },
     "metadata": {},
     "output_type": "display_data"
    },
    {
     "data": {
      "text/html": [
       "<ol class=list-inline>\n",
       "\t<li>'ap'</li>\n",
       "\t<li>'NA'</li>\n",
       "\t<li>'NA'</li>\n",
       "\t<li>'NA'</li>\n",
       "\t<li>'NA'</li>\n",
       "</ol>\n"
      ],
      "text/latex": [
       "\\begin{enumerate*}\n",
       "\\item 'ap'\n",
       "\\item 'NA'\n",
       "\\item 'NA'\n",
       "\\item 'NA'\n",
       "\\item 'NA'\n",
       "\\end{enumerate*}\n"
      ],
      "text/markdown": [
       "1. 'ap'\n",
       "2. 'NA'\n",
       "3. 'NA'\n",
       "4. 'NA'\n",
       "5. 'NA'\n",
       "\n",
       "\n"
      ],
      "text/plain": [
       "[1] \"ap\" NA   NA   NA   NA  "
      ]
     },
     "metadata": {},
     "output_type": "display_data"
    },
    {
     "data": {
      "text/html": [
       "<ol class=list-inline>\n",
       "\t<li>'a'</li>\n",
       "\t<li>'a'</li>\n",
       "\t<li>'a'</li>\n",
       "\t<li>'NA'</li>\n",
       "\t<li>'a'</li>\n",
       "</ol>\n"
      ],
      "text/latex": [
       "\\begin{enumerate*}\n",
       "\\item 'a'\n",
       "\\item 'a'\n",
       "\\item 'a'\n",
       "\\item 'NA'\n",
       "\\item 'a'\n",
       "\\end{enumerate*}\n"
      ],
      "text/markdown": [
       "1. 'a'\n",
       "2. 'a'\n",
       "3. 'a'\n",
       "4. 'NA'\n",
       "5. 'a'\n",
       "\n",
       "\n"
      ],
      "text/plain": [
       "[1] \"a\" \"a\" \"a\" NA  \"a\""
      ]
     },
     "metadata": {},
     "output_type": "display_data"
    }
   ],
   "source": [
    "str_extract(x, \"a\")\n",
    "# str_extract_all(x, \"a\")\n",
    "str_extract(x, \"ap\")\n",
    "# note 'a' is short for 'regex(\"a\")'\n",
    "str_extract(x, regex(\"a\"))"
   ]
  },
  {
   "cell_type": "markdown",
   "metadata": {},
   "source": [
    "### Special metacharacters: `\\d`, `\\w`, `\\s`\n",
    "\n",
    "There are a number of \"special (meta)characters\" that can be used in regular expressions to match a certain type of character. Commons ones include:\n",
    "\n",
    "* `\\d`: any digit\n",
    "* `\\w`: any alphanumeric character\n",
    "* `\\s`: any whitespace\n",
    "\n",
    "These can all be negated by capitalizing them:\n",
    "\n",
    "* `\\D`: any NON-digit\n",
    "* `\\W`: any NON-alphanumeric character\n",
    "* `\\S`: any NON-whitespace\n",
    "\n",
    "Note that below we need to add a second backslash. The reason you need two is because both the string parser used by **stringr** and the regular expression itself support escapes. Therefore, `\\\\d` (for example) is parsed to `\\d` by the string parser and then interpreted by the regular expression parser. This is just a feature of **stringr**: you need a add a second backslash to anything that you would ordinarily use one for in a regular expression. "
   ]
  },
  {
   "cell_type": "code",
   "execution_count": 14,
   "metadata": {
    "collapsed": false
   },
   "outputs": [
    {
     "data": {
      "text/html": [
       "<ol class=list-inline>\n",
       "\t<li>'NA'</li>\n",
       "\t<li>'NA'</li>\n",
       "\t<li>'NA'</li>\n",
       "\t<li>'2'</li>\n",
       "\t<li>'0'</li>\n",
       "</ol>\n"
      ],
      "text/latex": [
       "\\begin{enumerate*}\n",
       "\\item 'NA'\n",
       "\\item 'NA'\n",
       "\\item 'NA'\n",
       "\\item '2'\n",
       "\\item '0'\n",
       "\\end{enumerate*}\n"
      ],
      "text/markdown": [
       "1. 'NA'\n",
       "2. 'NA'\n",
       "3. 'NA'\n",
       "4. '2'\n",
       "5. '0'\n",
       "\n",
       "\n"
      ],
      "text/plain": [
       "[1] NA  NA  NA  \"2\" \"0\""
      ]
     },
     "metadata": {},
     "output_type": "display_data"
    },
    {
     "data": {
      "text/html": [
       "<ol class=list-inline>\n",
       "\t<li>'a'</li>\n",
       "\t<li>'b'</li>\n",
       "\t<li>'p'</li>\n",
       "\t<li>'2'</li>\n",
       "\t<li>'P'</li>\n",
       "</ol>\n"
      ],
      "text/latex": [
       "\\begin{enumerate*}\n",
       "\\item 'a'\n",
       "\\item 'b'\n",
       "\\item 'p'\n",
       "\\item '2'\n",
       "\\item 'P'\n",
       "\\end{enumerate*}\n"
      ],
      "text/markdown": [
       "1. 'a'\n",
       "2. 'b'\n",
       "3. 'p'\n",
       "4. '2'\n",
       "5. 'P'\n",
       "\n",
       "\n"
      ],
      "text/plain": [
       "[1] \"a\" \"b\" \"p\" \"2\" \"P\""
      ]
     },
     "metadata": {},
     "output_type": "display_data"
    },
    {
     "data": {
      "text/html": [
       "<ol class=list-inline>\n",
       "\t<li>'NA'</li>\n",
       "\t<li>'NA'</li>\n",
       "\t<li>'NA'</li>\n",
       "\t<li>'NA'</li>\n",
       "\t<li>' '</li>\n",
       "</ol>\n"
      ],
      "text/latex": [
       "\\begin{enumerate*}\n",
       "\\item 'NA'\n",
       "\\item 'NA'\n",
       "\\item 'NA'\n",
       "\\item 'NA'\n",
       "\\item ' '\n",
       "\\end{enumerate*}\n"
      ],
      "text/markdown": [
       "1. 'NA'\n",
       "2. 'NA'\n",
       "3. 'NA'\n",
       "4. 'NA'\n",
       "5. ' '\n",
       "\n",
       "\n"
      ],
      "text/plain": [
       "[1] NA  NA  NA  NA  \" \""
      ]
     },
     "metadata": {},
     "output_type": "display_data"
    }
   ],
   "source": [
    "str_extract(x, \"\\\\d\")\n",
    "str_extract(x, \"\\\\w\")\n",
    "str_extract(x, \"\\\\s\")"
   ]
  },
  {
   "cell_type": "code",
   "execution_count": 15,
   "metadata": {
    "collapsed": false
   },
   "outputs": [
    {
     "data": {
      "text/html": [
       "<ol class=list-inline>\n",
       "\t<li>'a'</li>\n",
       "\t<li>'b'</li>\n",
       "\t<li>'p'</li>\n",
       "\t<li>'.'</li>\n",
       "\t<li>'P'</li>\n",
       "</ol>\n"
      ],
      "text/latex": [
       "\\begin{enumerate*}\n",
       "\\item 'a'\n",
       "\\item 'b'\n",
       "\\item 'p'\n",
       "\\item '.'\n",
       "\\item 'P'\n",
       "\\end{enumerate*}\n"
      ],
      "text/markdown": [
       "1. 'a'\n",
       "2. 'b'\n",
       "3. 'p'\n",
       "4. '.'\n",
       "5. 'P'\n",
       "\n",
       "\n"
      ],
      "text/plain": [
       "[1] \"a\" \"b\" \"p\" \".\" \"P\""
      ]
     },
     "metadata": {},
     "output_type": "display_data"
    },
    {
     "data": {
      "text/html": [
       "<ol class=list-inline>\n",
       "\t<li>'NA'</li>\n",
       "\t<li>'NA'</li>\n",
       "\t<li>'NA'</li>\n",
       "\t<li>'.'</li>\n",
       "\t<li>' '</li>\n",
       "</ol>\n"
      ],
      "text/latex": [
       "\\begin{enumerate*}\n",
       "\\item 'NA'\n",
       "\\item 'NA'\n",
       "\\item 'NA'\n",
       "\\item '.'\n",
       "\\item ' '\n",
       "\\end{enumerate*}\n"
      ],
      "text/markdown": [
       "1. 'NA'\n",
       "2. 'NA'\n",
       "3. 'NA'\n",
       "4. '.'\n",
       "5. ' '\n",
       "\n",
       "\n"
      ],
      "text/plain": [
       "[1] NA  NA  NA  \".\" \" \""
      ]
     },
     "metadata": {},
     "output_type": "display_data"
    },
    {
     "data": {
      "text/html": [
       "<ol class=list-inline>\n",
       "\t<li>'a'</li>\n",
       "\t<li>'b'</li>\n",
       "\t<li>'p'</li>\n",
       "\t<li>'2'</li>\n",
       "\t<li>'P'</li>\n",
       "</ol>\n"
      ],
      "text/latex": [
       "\\begin{enumerate*}\n",
       "\\item 'a'\n",
       "\\item 'b'\n",
       "\\item 'p'\n",
       "\\item '2'\n",
       "\\item 'P'\n",
       "\\end{enumerate*}\n"
      ],
      "text/markdown": [
       "1. 'a'\n",
       "2. 'b'\n",
       "3. 'p'\n",
       "4. '2'\n",
       "5. 'P'\n",
       "\n",
       "\n"
      ],
      "text/plain": [
       "[1] \"a\" \"b\" \"p\" \"2\" \"P\""
      ]
     },
     "metadata": {},
     "output_type": "display_data"
    }
   ],
   "source": [
    "str_extract(x, \"\\\\D\")\n",
    "str_extract(x, \"\\\\W\")\n",
    "str_extract(x, \"\\\\S\")"
   ]
  },
  {
   "cell_type": "markdown",
   "metadata": {},
   "source": [
    "### \"Or\" matches with `[]`, matching anything with `.`, and negation with `^`\n",
    "\n",
    "If we want to match a particular string, say \"ap\", we use that as the regular expression. "
   ]
  },
  {
   "cell_type": "code",
   "execution_count": 16,
   "metadata": {
    "collapsed": false
   },
   "outputs": [
    {
     "data": {
      "text/html": [
       "<ol class=list-inline>\n",
       "\t<li>'ap'</li>\n",
       "\t<li>'NA'</li>\n",
       "\t<li>'NA'</li>\n",
       "\t<li>'NA'</li>\n",
       "\t<li>'NA'</li>\n",
       "</ol>\n"
      ],
      "text/latex": [
       "\\begin{enumerate*}\n",
       "\\item 'ap'\n",
       "\\item 'NA'\n",
       "\\item 'NA'\n",
       "\\item 'NA'\n",
       "\\item 'NA'\n",
       "\\end{enumerate*}\n"
      ],
      "text/markdown": [
       "1. 'ap'\n",
       "2. 'NA'\n",
       "3. 'NA'\n",
       "4. 'NA'\n",
       "5. 'NA'\n",
       "\n",
       "\n"
      ],
      "text/plain": [
       "[1] \"ap\" NA   NA   NA   NA  "
      ]
     },
     "metadata": {},
     "output_type": "display_data"
    }
   ],
   "source": [
    "str_extract(x, \"ap\")"
   ]
  },
  {
   "cell_type": "markdown",
   "metadata": {},
   "source": [
    "If we want to match any a *or* p, we use `[ap]`. The square brackets indicate an *or* kind of match. Note that below reads \"match a single letter that is either *a* or *p*."
   ]
  },
  {
   "cell_type": "code",
   "execution_count": 17,
   "metadata": {
    "collapsed": false
   },
   "outputs": [
    {
     "data": {
      "text/html": [
       "<ol class=list-inline>\n",
       "\t<li>'a'</li>\n",
       "\t<li>'a'</li>\n",
       "\t<li>'p'</li>\n",
       "\t<li>'NA'</li>\n",
       "\t<li>'a'</li>\n",
       "</ol>\n"
      ],
      "text/latex": [
       "\\begin{enumerate*}\n",
       "\\item 'a'\n",
       "\\item 'a'\n",
       "\\item 'p'\n",
       "\\item 'NA'\n",
       "\\item 'a'\n",
       "\\end{enumerate*}\n"
      ],
      "text/markdown": [
       "1. 'a'\n",
       "2. 'a'\n",
       "3. 'p'\n",
       "4. 'NA'\n",
       "5. 'a'\n",
       "\n",
       "\n"
      ],
      "text/plain": [
       "[1] \"a\" \"a\" \"p\" NA  \"a\""
      ]
     },
     "metadata": {},
     "output_type": "display_data"
    }
   ],
   "source": [
    "str_extract(x, \"[ap]\")"
   ]
  },
  {
   "cell_type": "markdown",
   "metadata": {},
   "source": [
    "We can use the square brackets notation to build up a more complex pattern. For example below we look for two letters, the first either *a* or *p*, the second either *p* or *e*."
   ]
  },
  {
   "cell_type": "code",
   "execution_count": 18,
   "metadata": {
    "collapsed": false
   },
   "outputs": [
    {
     "data": {
      "text/html": [
       "<ol class=list-inline>\n",
       "\t<li>'ap'</li>\n",
       "\t<li>'NA'</li>\n",
       "\t<li>'pe'</li>\n",
       "\t<li>'NA'</li>\n",
       "\t<li>'NA'</li>\n",
       "</ol>\n"
      ],
      "text/latex": [
       "\\begin{enumerate*}\n",
       "\\item 'ap'\n",
       "\\item 'NA'\n",
       "\\item 'pe'\n",
       "\\item 'NA'\n",
       "\\item 'NA'\n",
       "\\end{enumerate*}\n"
      ],
      "text/markdown": [
       "1. 'ap'\n",
       "2. 'NA'\n",
       "3. 'pe'\n",
       "4. 'NA'\n",
       "5. 'NA'\n",
       "\n",
       "\n"
      ],
      "text/plain": [
       "[1] \"ap\" NA   \"pe\" NA   NA  "
      ]
     },
     "metadata": {},
     "output_type": "display_data"
    }
   ],
   "source": [
    "str_extract(x, \"[ap][pe]\")"
   ]
  },
  {
   "cell_type": "markdown",
   "metadata": {},
   "source": [
    "A useful special character here is `.`, which indicates \"anything\". Note that below we match a two-letter pattern \"*a* followed by anything\"."
   ]
  },
  {
   "cell_type": "code",
   "execution_count": 19,
   "metadata": {
    "collapsed": false
   },
   "outputs": [
    {
     "data": {
      "text/html": [
       "<ol class=list-inline>\n",
       "\t<li>'ap'</li>\n",
       "\t<li>'an'</li>\n",
       "\t<li>'ar'</li>\n",
       "\t<li>'NA'</li>\n",
       "\t<li>'ab'</li>\n",
       "</ol>\n"
      ],
      "text/latex": [
       "\\begin{enumerate*}\n",
       "\\item 'ap'\n",
       "\\item 'an'\n",
       "\\item 'ar'\n",
       "\\item 'NA'\n",
       "\\item 'ab'\n",
       "\\end{enumerate*}\n"
      ],
      "text/markdown": [
       "1. 'ap'\n",
       "2. 'an'\n",
       "3. 'ar'\n",
       "4. 'NA'\n",
       "5. 'ab'\n",
       "\n",
       "\n"
      ],
      "text/plain": [
       "[1] \"ap\" \"an\" \"ar\" NA   \"ab\""
      ]
     },
     "metadata": {},
     "output_type": "display_data"
    }
   ],
   "source": [
    "str_extract(x, \"a.\")"
   ]
  },
  {
   "cell_type": "markdown",
   "metadata": {},
   "source": [
    "Another useful special character is `^`, which denotes negation when used within square brackets (it can also mean the beginning of a string, when not within brackets, see below!). Below we match a two-letter sequence, the first letter anything but *b*, the second letter an *a*."
   ]
  },
  {
   "cell_type": "code",
   "execution_count": 20,
   "metadata": {
    "collapsed": false
   },
   "outputs": [
    {
     "data": {
      "text/html": [
       "<ol class=list-inline>\n",
       "\t<li>'NA'</li>\n",
       "\t<li>'na'</li>\n",
       "\t<li>'ea'</li>\n",
       "\t<li>'NA'</li>\n",
       "\t<li>'NA'</li>\n",
       "</ol>\n"
      ],
      "text/latex": [
       "\\begin{enumerate*}\n",
       "\\item 'NA'\n",
       "\\item 'na'\n",
       "\\item 'ea'\n",
       "\\item 'NA'\n",
       "\\item 'NA'\n",
       "\\end{enumerate*}\n"
      ],
      "text/markdown": [
       "1. 'NA'\n",
       "2. 'na'\n",
       "3. 'ea'\n",
       "4. 'NA'\n",
       "5. 'NA'\n",
       "\n",
       "\n"
      ],
      "text/plain": [
       "[1] NA   \"na\" \"ea\" NA   NA  "
      ]
     },
     "metadata": {},
     "output_type": "display_data"
    }
   ],
   "source": [
    "str_extract(x, \"[^b]a\")"
   ]
  },
  {
   "cell_type": "markdown",
   "metadata": {},
   "source": [
    "Finally, some other useful tools are `[A-Z]` (any capital letter), `[a-z]` (any lowercase letter), `[0-9]` any digit. These can also be combined."
   ]
  },
  {
   "cell_type": "code",
   "execution_count": 21,
   "metadata": {
    "collapsed": false
   },
   "outputs": [
    {
     "data": {
      "text/html": [
       "<ol class=list-inline>\n",
       "\t<li>'NA'</li>\n",
       "\t<li>'NA'</li>\n",
       "\t<li>'NA'</li>\n",
       "\t<li>'NA'</li>\n",
       "\t<li>'P'</li>\n",
       "</ol>\n"
      ],
      "text/latex": [
       "\\begin{enumerate*}\n",
       "\\item 'NA'\n",
       "\\item 'NA'\n",
       "\\item 'NA'\n",
       "\\item 'NA'\n",
       "\\item 'P'\n",
       "\\end{enumerate*}\n"
      ],
      "text/markdown": [
       "1. 'NA'\n",
       "2. 'NA'\n",
       "3. 'NA'\n",
       "4. 'NA'\n",
       "5. 'P'\n",
       "\n",
       "\n"
      ],
      "text/plain": [
       "[1] NA  NA  NA  NA  \"P\""
      ]
     },
     "metadata": {},
     "output_type": "display_data"
    },
    {
     "data": {
      "text/html": [
       "<ol class=list-inline>\n",
       "\t<li>'a'</li>\n",
       "\t<li>'b'</li>\n",
       "\t<li>'p'</li>\n",
       "\t<li>'NA'</li>\n",
       "\t<li>'r'</li>\n",
       "</ol>\n"
      ],
      "text/latex": [
       "\\begin{enumerate*}\n",
       "\\item 'a'\n",
       "\\item 'b'\n",
       "\\item 'p'\n",
       "\\item 'NA'\n",
       "\\item 'r'\n",
       "\\end{enumerate*}\n"
      ],
      "text/markdown": [
       "1. 'a'\n",
       "2. 'b'\n",
       "3. 'p'\n",
       "4. 'NA'\n",
       "5. 'r'\n",
       "\n",
       "\n"
      ],
      "text/plain": [
       "[1] \"a\" \"b\" \"p\" NA  \"r\""
      ]
     },
     "metadata": {},
     "output_type": "display_data"
    },
    {
     "data": {
      "text/html": [
       "<ol class=list-inline>\n",
       "\t<li>'NA'</li>\n",
       "\t<li>'NA'</li>\n",
       "\t<li>'NA'</li>\n",
       "\t<li>'2'</li>\n",
       "\t<li>'0'</li>\n",
       "</ol>\n"
      ],
      "text/latex": [
       "\\begin{enumerate*}\n",
       "\\item 'NA'\n",
       "\\item 'NA'\n",
       "\\item 'NA'\n",
       "\\item '2'\n",
       "\\item '0'\n",
       "\\end{enumerate*}\n"
      ],
      "text/markdown": [
       "1. 'NA'\n",
       "2. 'NA'\n",
       "3. 'NA'\n",
       "4. '2'\n",
       "5. '0'\n",
       "\n",
       "\n"
      ],
      "text/plain": [
       "[1] NA  NA  NA  \"2\" \"0\""
      ]
     },
     "metadata": {},
     "output_type": "display_data"
    },
    {
     "data": {
      "text/html": [
       "<ol class=list-inline>\n",
       "\t<li>'a'</li>\n",
       "\t<li>'b'</li>\n",
       "\t<li>'p'</li>\n",
       "\t<li>'2'</li>\n",
       "\t<li>'P'</li>\n",
       "</ol>\n"
      ],
      "text/latex": [
       "\\begin{enumerate*}\n",
       "\\item 'a'\n",
       "\\item 'b'\n",
       "\\item 'p'\n",
       "\\item '2'\n",
       "\\item 'P'\n",
       "\\end{enumerate*}\n"
      ],
      "text/markdown": [
       "1. 'a'\n",
       "2. 'b'\n",
       "3. 'p'\n",
       "4. '2'\n",
       "5. 'P'\n",
       "\n",
       "\n"
      ],
      "text/plain": [
       "[1] \"a\" \"b\" \"p\" \"2\" \"P\""
      ]
     },
     "metadata": {},
     "output_type": "display_data"
    }
   ],
   "source": [
    "str_extract(x, \"[A-Z]\")\n",
    "str_extract(x, \"[a-z]\")\n",
    "str_extract(x, \"[0-9]\")\n",
    "str_extract(x, \"[A-Za-z0-9]\")"
   ]
  },
  {
   "cell_type": "markdown",
   "metadata": {},
   "source": [
    "### Matching repetitions\n",
    "\n",
    "We've looked in fair detail at various ways of matching one or two characters. We can extend these methods to longer patterns, but this will quickly become unwieldy if we need to write out all the possibile options that each character can take on. Some important tools allow us to specify pattern **repetitions**, allowing us to express lengthier pattern concisely. \n",
    "\n",
    "Suppose we wanted to match a sequence of 3 alphanumeric characters. We could say (the long way),"
   ]
  },
  {
   "cell_type": "code",
   "execution_count": 22,
   "metadata": {
    "collapsed": false
   },
   "outputs": [
    {
     "data": {
      "text/html": [
       "<ol class=list-inline>\n",
       "\t<li>'app'</li>\n",
       "\t<li>'ban'</li>\n",
       "\t<li>'pea'</li>\n",
       "\t<li>'NA'</li>\n",
       "\t<li>'Pro'</li>\n",
       "</ol>\n"
      ],
      "text/latex": [
       "\\begin{enumerate*}\n",
       "\\item 'app'\n",
       "\\item 'ban'\n",
       "\\item 'pea'\n",
       "\\item 'NA'\n",
       "\\item 'Pro'\n",
       "\\end{enumerate*}\n"
      ],
      "text/markdown": [
       "1. 'app'\n",
       "2. 'ban'\n",
       "3. 'pea'\n",
       "4. 'NA'\n",
       "5. 'Pro'\n",
       "\n",
       "\n"
      ],
      "text/plain": [
       "[1] \"app\" \"ban\" \"pea\" NA    \"Pro\""
      ]
     },
     "metadata": {},
     "output_type": "display_data"
    }
   ],
   "source": [
    "str_extract(x, \"\\\\w\\\\w\\\\w\")"
   ]
  },
  {
   "cell_type": "markdown",
   "metadata": {},
   "source": [
    "Or we can use curly braces to specify the number of matches we want:"
   ]
  },
  {
   "cell_type": "code",
   "execution_count": 23,
   "metadata": {
    "collapsed": false
   },
   "outputs": [
    {
     "data": {
      "text/html": [
       "<ol class=list-inline>\n",
       "\t<li>'app'</li>\n",
       "\t<li>'ban'</li>\n",
       "\t<li>'pea'</li>\n",
       "\t<li>'NA'</li>\n",
       "\t<li>'Pro'</li>\n",
       "</ol>\n"
      ],
      "text/latex": [
       "\\begin{enumerate*}\n",
       "\\item 'app'\n",
       "\\item 'ban'\n",
       "\\item 'pea'\n",
       "\\item 'NA'\n",
       "\\item 'Pro'\n",
       "\\end{enumerate*}\n"
      ],
      "text/markdown": [
       "1. 'app'\n",
       "2. 'ban'\n",
       "3. 'pea'\n",
       "4. 'NA'\n",
       "5. 'Pro'\n",
       "\n",
       "\n"
      ],
      "text/plain": [
       "[1] \"app\" \"ban\" \"pea\" NA    \"Pro\""
      ]
     },
     "metadata": {},
     "output_type": "display_data"
    }
   ],
   "source": [
    "str_extract(x, \"\\\\w{3}\")"
   ]
  },
  {
   "cell_type": "markdown",
   "metadata": {},
   "source": [
    "This gives us considerable flexibility. For example:"
   ]
  },
  {
   "cell_type": "code",
   "execution_count": 24,
   "metadata": {
    "collapsed": false
   },
   "outputs": [
    {
     "data": {
      "text/html": [
       "<ol class=list-inline>\n",
       "\t<li>'app'</li>\n",
       "\t<li>'ban'</li>\n",
       "\t<li>'pea'</li>\n",
       "\t<li>'28'</li>\n",
       "\t<li>'Pro'</li>\n",
       "</ol>\n"
      ],
      "text/latex": [
       "\\begin{enumerate*}\n",
       "\\item 'app'\n",
       "\\item 'ban'\n",
       "\\item 'pea'\n",
       "\\item '28'\n",
       "\\item 'Pro'\n",
       "\\end{enumerate*}\n"
      ],
      "text/markdown": [
       "1. 'app'\n",
       "2. 'ban'\n",
       "3. 'pea'\n",
       "4. '28'\n",
       "5. 'Pro'\n",
       "\n",
       "\n"
      ],
      "text/plain": [
       "[1] \"app\" \"ban\" \"pea\" \"28\"  \"Pro\""
      ]
     },
     "metadata": {},
     "output_type": "display_data"
    },
    {
     "data": {
      "text/html": [
       "<ol class=list-inline>\n",
       "\t<li>'apple'</li>\n",
       "\t<li>'banana'</li>\n",
       "\t<li>'pear'</li>\n",
       "\t<li>'28'</li>\n",
       "\t<li>'Probability'</li>\n",
       "</ol>\n"
      ],
      "text/latex": [
       "\\begin{enumerate*}\n",
       "\\item 'apple'\n",
       "\\item 'banana'\n",
       "\\item 'pear'\n",
       "\\item '28'\n",
       "\\item 'Probability'\n",
       "\\end{enumerate*}\n"
      ],
      "text/markdown": [
       "1. 'apple'\n",
       "2. 'banana'\n",
       "3. 'pear'\n",
       "4. '28'\n",
       "5. 'Probability'\n",
       "\n",
       "\n"
      ],
      "text/plain": [
       "[1] \"apple\"       \"banana\"      \"pear\"        \"28\"          \"Probability\""
      ]
     },
     "metadata": {},
     "output_type": "display_data"
    },
    {
     "data": {
      "text/html": [
       "<ol class=list-inline>\n",
       "\t<li>'NA'</li>\n",
       "\t<li>'an'</li>\n",
       "\t<li>'NA'</li>\n",
       "\t<li>'NA'</li>\n",
       "\t<li>'NA'</li>\n",
       "</ol>\n"
      ],
      "text/latex": [
       "\\begin{enumerate*}\n",
       "\\item 'NA'\n",
       "\\item 'an'\n",
       "\\item 'NA'\n",
       "\\item 'NA'\n",
       "\\item 'NA'\n",
       "\\end{enumerate*}\n"
      ],
      "text/markdown": [
       "1. 'NA'\n",
       "2. 'an'\n",
       "3. 'NA'\n",
       "4. 'NA'\n",
       "5. 'NA'\n",
       "\n",
       "\n"
      ],
      "text/plain": [
       "[1] NA   \"an\" NA   NA   NA  "
      ]
     },
     "metadata": {},
     "output_type": "display_data"
    }
   ],
   "source": [
    "str_extract(x, \"\\\\w{2,3}\") # any alphanum between 2 and 3 times\n",
    "str_extract(x, \"\\\\w{2,}\") # any alphanum at least 2 \n",
    "str_extract(x, \"[an]{2}\") # two characters, each of which can be a a or n"
   ]
  },
  {
   "cell_type": "markdown",
   "metadata": {},
   "source": [
    "Three other tools assist with controlling how many times a pattern matches. These are:\n",
    "\n",
    "* `+`: one or more matches\n",
    "* `*`: zero or more matches\n",
    "* `?`: zero or one match\n",
    "\n",
    "These special characters are always applied *after* the pattern they refer to.\n",
    "\n",
    "The `+` denotes one or more matches. For example `a+` matches one or more `a`'s, `[abc]+` matches one or more of any `a`, `b`, or `c`. "
   ]
  },
  {
   "cell_type": "code",
   "execution_count": 25,
   "metadata": {
    "collapsed": false
   },
   "outputs": [
    {
     "data": {
      "text/html": [
       "<ol class=list-inline>\n",
       "\t<li>'NA'</li>\n",
       "\t<li>'anana'</li>\n",
       "\t<li>'NA'</li>\n",
       "\t<li>'NA'</li>\n",
       "\t<li>'NA'</li>\n",
       "</ol>\n"
      ],
      "text/latex": [
       "\\begin{enumerate*}\n",
       "\\item 'NA'\n",
       "\\item 'anana'\n",
       "\\item 'NA'\n",
       "\\item 'NA'\n",
       "\\item 'NA'\n",
       "\\end{enumerate*}\n"
      ],
      "text/markdown": [
       "1. 'NA'\n",
       "2. 'anana'\n",
       "3. 'NA'\n",
       "4. 'NA'\n",
       "5. 'NA'\n",
       "\n",
       "\n"
      ],
      "text/plain": [
       "[1] NA      \"anana\" NA      NA      NA     "
      ]
     },
     "metadata": {},
     "output_type": "display_data"
    }
   ],
   "source": [
    "str_extract(x, \"a[na]+\")"
   ]
  },
  {
   "cell_type": "markdown",
   "metadata": {},
   "source": [
    "A `*` denotes *zero* or more matches. "
   ]
  },
  {
   "cell_type": "code",
   "execution_count": 26,
   "metadata": {
    "collapsed": false
   },
   "outputs": [
    {
     "data": {
      "text/html": [
       "<ol class=list-inline>\n",
       "\t<li>'a'</li>\n",
       "\t<li>'anana'</li>\n",
       "\t<li>'a'</li>\n",
       "\t<li>'NA'</li>\n",
       "\t<li>'a'</li>\n",
       "</ol>\n"
      ],
      "text/latex": [
       "\\begin{enumerate*}\n",
       "\\item 'a'\n",
       "\\item 'anana'\n",
       "\\item 'a'\n",
       "\\item 'NA'\n",
       "\\item 'a'\n",
       "\\end{enumerate*}\n"
      ],
      "text/markdown": [
       "1. 'a'\n",
       "2. 'anana'\n",
       "3. 'a'\n",
       "4. 'NA'\n",
       "5. 'a'\n",
       "\n",
       "\n"
      ],
      "text/plain": [
       "[1] \"a\"     \"anana\" \"a\"     NA      \"a\"    "
      ]
     },
     "metadata": {},
     "output_type": "display_data"
    }
   ],
   "source": [
    "str_extract(x, \"a[na]*\")"
   ]
  },
  {
   "cell_type": "markdown",
   "metadata": {},
   "source": [
    "Finally, the `?` metacharacter matches either zero or one of the preceding character or group, and indicates an \"optional\" character that is particularly useful in distinguising between different word spelling. For example, the pattern `ab?c` indicates that the `b` is optional and will thus match both `abc` and `ac`."
   ]
  },
  {
   "cell_type": "code",
   "execution_count": 27,
   "metadata": {
    "collapsed": false
   },
   "outputs": [
    {
     "data": {
      "text/html": [
       "'app'"
      ],
      "text/latex": [
       "'app'"
      ],
      "text/markdown": [
       "'app'"
      ],
      "text/plain": [
       "[1] \"app\""
      ]
     },
     "metadata": {},
     "output_type": "display_data"
    },
    {
     "data": {
      "text/html": [
       "'ap'"
      ],
      "text/latex": [
       "'ap'"
      ],
      "text/markdown": [
       "'ap'"
      ],
      "text/plain": [
       "[1] \"ap\""
      ]
     },
     "metadata": {},
     "output_type": "display_data"
    }
   ],
   "source": [
    "str_extract(\"apple\", \"ap?p\")\n",
    "str_extract(\"apple\", \"an?p\")"
   ]
  },
  {
   "cell_type": "markdown",
   "metadata": {},
   "source": [
    "### Specifying the start and end of a string\n",
    "\n",
    "The start of a string can be matched with `^`, the end with `$`"
   ]
  },
  {
   "cell_type": "code",
   "execution_count": 28,
   "metadata": {
    "collapsed": false
   },
   "outputs": [
    {
     "data": {
      "text/html": [
       "<ol class=list-inline>\n",
       "\t<li>'a'</li>\n",
       "\t<li>'NA'</li>\n",
       "\t<li>'NA'</li>\n",
       "\t<li>'NA'</li>\n",
       "\t<li>'NA'</li>\n",
       "</ol>\n"
      ],
      "text/latex": [
       "\\begin{enumerate*}\n",
       "\\item 'a'\n",
       "\\item 'NA'\n",
       "\\item 'NA'\n",
       "\\item 'NA'\n",
       "\\item 'NA'\n",
       "\\end{enumerate*}\n"
      ],
      "text/markdown": [
       "1. 'a'\n",
       "2. 'NA'\n",
       "3. 'NA'\n",
       "4. 'NA'\n",
       "5. 'NA'\n",
       "\n",
       "\n"
      ],
      "text/plain": [
       "[1] \"a\" NA  NA  NA  NA "
      ]
     },
     "metadata": {},
     "output_type": "display_data"
    },
    {
     "data": {
      "text/html": [
       "<ol class=list-inline>\n",
       "\t<li>'NA'</li>\n",
       "\t<li>'a'</li>\n",
       "\t<li>'NA'</li>\n",
       "\t<li>'NA'</li>\n",
       "\t<li>'NA'</li>\n",
       "</ol>\n"
      ],
      "text/latex": [
       "\\begin{enumerate*}\n",
       "\\item 'NA'\n",
       "\\item 'a'\n",
       "\\item 'NA'\n",
       "\\item 'NA'\n",
       "\\item 'NA'\n",
       "\\end{enumerate*}\n"
      ],
      "text/markdown": [
       "1. 'NA'\n",
       "2. 'a'\n",
       "3. 'NA'\n",
       "4. 'NA'\n",
       "5. 'NA'\n",
       "\n",
       "\n"
      ],
      "text/plain": [
       "[1] NA  \"a\" NA  NA  NA "
      ]
     },
     "metadata": {},
     "output_type": "display_data"
    },
    {
     "data": {
      "text/html": [
       "<ol class=list-inline>\n",
       "\t<li>'apple'</li>\n",
       "\t<li>'NA'</li>\n",
       "\t<li>'NA'</li>\n",
       "\t<li>'NA'</li>\n",
       "\t<li>'NA'</li>\n",
       "</ol>\n"
      ],
      "text/latex": [
       "\\begin{enumerate*}\n",
       "\\item 'apple'\n",
       "\\item 'NA'\n",
       "\\item 'NA'\n",
       "\\item 'NA'\n",
       "\\item 'NA'\n",
       "\\end{enumerate*}\n"
      ],
      "text/markdown": [
       "1. 'apple'\n",
       "2. 'NA'\n",
       "3. 'NA'\n",
       "4. 'NA'\n",
       "5. 'NA'\n",
       "\n",
       "\n"
      ],
      "text/plain": [
       "[1] \"apple\" NA      NA      NA      NA     "
      ]
     },
     "metadata": {},
     "output_type": "display_data"
    }
   ],
   "source": [
    "str_extract(x, \"^a\")\n",
    "str_extract(x, \"a$\")\n",
    "str_extract(x, \"^apple$\")"
   ]
  },
  {
   "cell_type": "markdown",
   "metadata": {},
   "source": [
    "### Specifying groupings\n",
    "\n",
    "Parentheses can be used in a similar way to mathematical operations, to specify natural groupings and indicate precedence for certain operations over others."
   ]
  },
  {
   "cell_type": "code",
   "execution_count": 29,
   "metadata": {
    "collapsed": false
   },
   "outputs": [
    {
     "data": {
      "text/html": [
       "'I love cats'"
      ],
      "text/latex": [
       "'I love cats'"
      ],
      "text/markdown": [
       "'I love cats'"
      ],
      "text/plain": [
       "[1] \"I love cats\""
      ]
     },
     "metadata": {},
     "output_type": "display_data"
    },
    {
     "data": {
      "text/html": [
       "'NA'"
      ],
      "text/latex": [
       "'NA'"
      ],
      "text/markdown": [
       "'NA'"
      ],
      "text/plain": [
       "[1] NA"
      ]
     },
     "metadata": {},
     "output_type": "display_data"
    },
    {
     "data": {
      "text/html": [
       "'dogs'"
      ],
      "text/latex": [
       "'dogs'"
      ],
      "text/markdown": [
       "'dogs'"
      ],
      "text/plain": [
       "[1] \"dogs\""
      ]
     },
     "metadata": {},
     "output_type": "display_data"
    }
   ],
   "source": [
    "str_extract(\"I love cats\", \"I love (cats|dogs)\")\n",
    "str_extract(\"I love birds\", \"I love (cats|dogs)\")\n",
    "str_extract(\"I love dogs\", \"I love cats|dogs\")"
   ]
  },
  {
   "cell_type": "markdown",
   "metadata": {},
   "source": [
    "## Other useful **stringr** functions\n",
    "\n",
    "The previous section gives you a number of ways of using regular expressions to match patterns. These use the language of regular expressions, and thus aren't really R-dependent. This section is about using the patterns that you extract to do further useful things. The functions that we discuss in this section are all **stringr** functions."
   ]
  },
  {
   "cell_type": "markdown",
   "metadata": {},
   "source": [
    "### Determine which strings match a pattern: `str_detect()`\n",
    "\n",
    "The `str_detect()` function can be used to determine whether an input string contains a specified pattern. Where the input is a vector, `str_detect()` checks whether each element in turn contains the pattern i.e. it returns a logical vector of the same length as the input."
   ]
  },
  {
   "cell_type": "code",
   "execution_count": 30,
   "metadata": {
    "collapsed": false
   },
   "outputs": [
    {
     "data": {
      "text/html": [
       "<ol class=list-inline>\n",
       "\t<li>FALSE</li>\n",
       "\t<li>FALSE</li>\n",
       "\t<li>FALSE</li>\n",
       "\t<li>TRUE</li>\n",
       "\t<li>TRUE</li>\n",
       "</ol>\n"
      ],
      "text/latex": [
       "\\begin{enumerate*}\n",
       "\\item FALSE\n",
       "\\item FALSE\n",
       "\\item FALSE\n",
       "\\item TRUE\n",
       "\\item TRUE\n",
       "\\end{enumerate*}\n"
      ],
      "text/markdown": [
       "1. FALSE\n",
       "2. FALSE\n",
       "3. FALSE\n",
       "4. TRUE\n",
       "5. TRUE\n",
       "\n",
       "\n"
      ],
      "text/plain": [
       "[1] FALSE FALSE FALSE  TRUE  TRUE"
      ]
     },
     "metadata": {},
     "output_type": "display_data"
    }
   ],
   "source": [
    "str_detect(x, \"\\\\d\")"
   ]
  },
  {
   "cell_type": "markdown",
   "metadata": {},
   "source": [
    "A useful way to use `str_detect()` is to extract those elements of an input vector that do (or don't) match some pattern."
   ]
  },
  {
   "cell_type": "code",
   "execution_count": 31,
   "metadata": {
    "collapsed": false
   },
   "outputs": [
    {
     "data": {
      "text/html": [
       "<ol class=list-inline>\n",
       "\t<li>'28.50'</li>\n",
       "\t<li>'Probability 0'</li>\n",
       "</ol>\n"
      ],
      "text/latex": [
       "\\begin{enumerate*}\n",
       "\\item '28.50'\n",
       "\\item 'Probability 0'\n",
       "\\end{enumerate*}\n"
      ],
      "text/markdown": [
       "1. '28.50'\n",
       "2. 'Probability 0'\n",
       "\n",
       "\n"
      ],
      "text/plain": [
       "[1] \"28.50\"         \"Probability 0\""
      ]
     },
     "metadata": {},
     "output_type": "display_data"
    },
    {
     "data": {
      "text/html": [
       "<ol class=list-inline>\n",
       "\t<li>'apple'</li>\n",
       "\t<li>'banana'</li>\n",
       "\t<li>'pear'</li>\n",
       "</ol>\n"
      ],
      "text/latex": [
       "\\begin{enumerate*}\n",
       "\\item 'apple'\n",
       "\\item 'banana'\n",
       "\\item 'pear'\n",
       "\\end{enumerate*}\n"
      ],
      "text/markdown": [
       "1. 'apple'\n",
       "2. 'banana'\n",
       "3. 'pear'\n",
       "\n",
       "\n"
      ],
      "text/plain": [
       "[1] \"apple\"  \"banana\" \"pear\"  "
      ]
     },
     "metadata": {},
     "output_type": "display_data"
    }
   ],
   "source": [
    "# elements of x containing a digit\n",
    "x[str_detect(x, \"\\\\d\")]\n",
    "# elements of x not containing a digit\n",
    "x[!str_detect(x, \"\\\\d\")]"
   ]
  },
  {
   "cell_type": "markdown",
   "metadata": {},
   "source": [
    "Rather than the above, **stringr** provides a useful wrapper function `str_subset()` that extracts the elements of *x* that match a given pattern."
   ]
  },
  {
   "cell_type": "code",
   "execution_count": 32,
   "metadata": {
    "collapsed": false
   },
   "outputs": [
    {
     "data": {
      "text/html": [
       "<ol class=list-inline>\n",
       "\t<li>'28.50'</li>\n",
       "\t<li>'Probability 0'</li>\n",
       "</ol>\n"
      ],
      "text/latex": [
       "\\begin{enumerate*}\n",
       "\\item '28.50'\n",
       "\\item 'Probability 0'\n",
       "\\end{enumerate*}\n"
      ],
      "text/markdown": [
       "1. '28.50'\n",
       "2. 'Probability 0'\n",
       "\n",
       "\n"
      ],
      "text/plain": [
       "[1] \"28.50\"         \"Probability 0\""
      ]
     },
     "metadata": {},
     "output_type": "display_data"
    },
    {
     "data": {
      "text/html": [
       "<ol class=list-inline>\n",
       "\t<li>4</li>\n",
       "\t<li>5</li>\n",
       "</ol>\n"
      ],
      "text/latex": [
       "\\begin{enumerate*}\n",
       "\\item 4\n",
       "\\item 5\n",
       "\\end{enumerate*}\n"
      ],
      "text/markdown": [
       "1. 4\n",
       "2. 5\n",
       "\n",
       "\n"
      ],
      "text/plain": [
       "[1] 4 5"
      ]
     },
     "metadata": {},
     "output_type": "display_data"
    }
   ],
   "source": [
    "# gives same result as `x[str_detect(x, \"\\\\d\")]`\n",
    "str_subset(x, \"\\\\d\")\n",
    "# extracts indices of elements matching pattern\n",
    "str_which(x, \"\\\\d\")"
   ]
  },
  {
   "cell_type": "markdown",
   "metadata": {},
   "source": [
    "Another useful helper function is `str_count()`, which counts up the number of times a pattern is matched in a string or vector of strings."
   ]
  },
  {
   "cell_type": "code",
   "execution_count": 33,
   "metadata": {
    "collapsed": false
   },
   "outputs": [
    {
     "data": {
      "text/html": [
       "<ol class=list-inline>\n",
       "\t<li>0</li>\n",
       "\t<li>0</li>\n",
       "\t<li>0</li>\n",
       "\t<li>4</li>\n",
       "\t<li>1</li>\n",
       "</ol>\n"
      ],
      "text/latex": [
       "\\begin{enumerate*}\n",
       "\\item 0\n",
       "\\item 0\n",
       "\\item 0\n",
       "\\item 4\n",
       "\\item 1\n",
       "\\end{enumerate*}\n"
      ],
      "text/markdown": [
       "1. 0\n",
       "2. 0\n",
       "3. 0\n",
       "4. 4\n",
       "5. 1\n",
       "\n",
       "\n"
      ],
      "text/plain": [
       "[1] 0 0 0 4 1"
      ]
     },
     "metadata": {},
     "output_type": "display_data"
    }
   ],
   "source": [
    "# number of digits in each element of x\n",
    "str_count(x, \"\\\\d\")"
   ]
  },
  {
   "cell_type": "markdown",
   "metadata": {},
   "source": [
    "### Extract content of matches: `str_extract()` and `str_extract_all()`\n",
    "\n",
    "The `str_extract()` function extracts the actual text of a match."
   ]
  },
  {
   "cell_type": "code",
   "execution_count": 34,
   "metadata": {
    "collapsed": false
   },
   "outputs": [
    {
     "data": {
      "text/html": [
       "<ol class=list-inline>\n",
       "\t<li>'NA'</li>\n",
       "\t<li>'an'</li>\n",
       "\t<li>'NA'</li>\n",
       "\t<li>'NA'</li>\n",
       "\t<li>'ab'</li>\n",
       "</ol>\n"
      ],
      "text/latex": [
       "\\begin{enumerate*}\n",
       "\\item 'NA'\n",
       "\\item 'an'\n",
       "\\item 'NA'\n",
       "\\item 'NA'\n",
       "\\item 'ab'\n",
       "\\end{enumerate*}\n"
      ],
      "text/markdown": [
       "1. 'NA'\n",
       "2. 'an'\n",
       "3. 'NA'\n",
       "4. 'NA'\n",
       "5. 'ab'\n",
       "\n",
       "\n"
      ],
      "text/plain": [
       "[1] NA   \"an\" NA   NA   \"ab\""
      ]
     },
     "metadata": {},
     "output_type": "display_data"
    }
   ],
   "source": [
    "str_extract(x, \"a[nb]\")"
   ]
  },
  {
   "cell_type": "markdown",
   "metadata": {},
   "source": [
    "Note that this just returns the *first* match. If we want to return *all* matches, we need to use `str_extract_all()`."
   ]
  },
  {
   "cell_type": "code",
   "execution_count": 35,
   "metadata": {
    "collapsed": false
   },
   "outputs": [
    {
     "data": {
      "text/html": [
       "<ol>\n",
       "\t<li></li>\n",
       "\t<li><ol class=list-inline>\n",
       "\t<li>'an'</li>\n",
       "\t<li>'an'</li>\n",
       "</ol>\n",
       "</li>\n",
       "\t<li></li>\n",
       "\t<li></li>\n",
       "\t<li>'ab'</li>\n",
       "</ol>\n"
      ],
      "text/latex": [
       "\\begin{enumerate}\n",
       "\\item \n",
       "\\item \\begin{enumerate*}\n",
       "\\item 'an'\n",
       "\\item 'an'\n",
       "\\end{enumerate*}\n",
       "\n",
       "\\item \n",
       "\\item \n",
       "\\item 'ab'\n",
       "\\end{enumerate}\n"
      ],
      "text/markdown": [
       "1. \n",
       "2. 1. 'an'\n",
       "2. 'an'\n",
       "\n",
       "\n",
       "\n",
       "3. \n",
       "4. \n",
       "5. 'ab'\n",
       "\n",
       "\n"
      ],
      "text/plain": [
       "[[1]]\n",
       "character(0)\n",
       "\n",
       "[[2]]\n",
       "[1] \"an\" \"an\"\n",
       "\n",
       "[[3]]\n",
       "character(0)\n",
       "\n",
       "[[4]]\n",
       "character(0)\n",
       "\n",
       "[[5]]\n",
       "[1] \"ab\"\n"
      ]
     },
     "metadata": {},
     "output_type": "display_data"
    }
   ],
   "source": [
    "str_extract_all(x, \"a[nb]\")"
   ]
  },
  {
   "cell_type": "markdown",
   "metadata": {},
   "source": [
    "### Replacing matches: `str_replace()` and `str_replace_all()`\n",
    "\n",
    "One thing we often want to do is replace a matched pattern with another string. We do this using `str_replace()` and `str_replace_all()`."
   ]
  },
  {
   "cell_type": "code",
   "execution_count": 36,
   "metadata": {
    "collapsed": false
   },
   "outputs": [
    {
     "data": {
      "text/html": [
       "<ol class=list-inline>\n",
       "\t<li>'-pple'</li>\n",
       "\t<li>'b-nana'</li>\n",
       "\t<li>'p-ar'</li>\n",
       "\t<li>'28.50'</li>\n",
       "\t<li>'Pr-bability 0'</li>\n",
       "</ol>\n"
      ],
      "text/latex": [
       "\\begin{enumerate*}\n",
       "\\item '-pple'\n",
       "\\item 'b-nana'\n",
       "\\item 'p-ar'\n",
       "\\item '28.50'\n",
       "\\item 'Pr-bability 0'\n",
       "\\end{enumerate*}\n"
      ],
      "text/markdown": [
       "1. '-pple'\n",
       "2. 'b-nana'\n",
       "3. 'p-ar'\n",
       "4. '28.50'\n",
       "5. 'Pr-bability 0'\n",
       "\n",
       "\n"
      ],
      "text/plain": [
       "[1] \"-pple\"         \"b-nana\"        \"p-ar\"          \"28.50\"        \n",
       "[5] \"Pr-bability 0\""
      ]
     },
     "metadata": {},
     "output_type": "display_data"
    },
    {
     "data": {
      "text/html": [
       "<ol class=list-inline>\n",
       "\t<li>'-ppl-'</li>\n",
       "\t<li>'b-n-n-'</li>\n",
       "\t<li>'p--r'</li>\n",
       "\t<li>'28.50'</li>\n",
       "\t<li>'Pr-b-b-l-ty 0'</li>\n",
       "</ol>\n"
      ],
      "text/latex": [
       "\\begin{enumerate*}\n",
       "\\item '-ppl-'\n",
       "\\item 'b-n-n-'\n",
       "\\item 'p--r'\n",
       "\\item '28.50'\n",
       "\\item 'Pr-b-b-l-ty 0'\n",
       "\\end{enumerate*}\n"
      ],
      "text/markdown": [
       "1. '-ppl-'\n",
       "2. 'b-n-n-'\n",
       "3. 'p--r'\n",
       "4. '28.50'\n",
       "5. 'Pr-b-b-l-ty 0'\n",
       "\n",
       "\n"
      ],
      "text/plain": [
       "[1] \"-ppl-\"         \"b-n-n-\"        \"p--r\"          \"28.50\"        \n",
       "[5] \"Pr-b-b-l-ty 0\""
      ]
     },
     "metadata": {},
     "output_type": "display_data"
    }
   ],
   "source": [
    "str_replace(x,\"[aeiou]\",\"-\")\n",
    "str_replace_all(x,\"[aeiou]\",\"-\")"
   ]
  },
  {
   "cell_type": "markdown",
   "metadata": {},
   "source": [
    "### Split a string based on a match: `str_split()`\n",
    "\n",
    "Finally, we can split a string up by specifying some separating pattern. The examples below use, respectively, a single space, the word \"a\", and a new line with carriage return to specify breakpoints."
   ]
  },
  {
   "cell_type": "code",
   "execution_count": 37,
   "metadata": {
    "collapsed": false
   },
   "outputs": [
    {
     "data": {
      "text/html": [
       "<ol>\n",
       "\t<li><ol class=list-inline>\n",
       "\t<li>'This'</li>\n",
       "\t<li>'is'</li>\n",
       "\t<li>'a'</li>\n",
       "\t<li>'string'</li>\n",
       "</ol>\n",
       "</li>\n",
       "</ol>\n"
      ],
      "text/latex": [
       "\\begin{enumerate}\n",
       "\\item \\begin{enumerate*}\n",
       "\\item 'This'\n",
       "\\item 'is'\n",
       "\\item 'a'\n",
       "\\item 'string'\n",
       "\\end{enumerate*}\n",
       "\n",
       "\\end{enumerate}\n"
      ],
      "text/markdown": [
       "1. 1. 'This'\n",
       "2. 'is'\n",
       "3. 'a'\n",
       "4. 'string'\n",
       "\n",
       "\n",
       "\n",
       "\n",
       "\n"
      ],
      "text/plain": [
       "[[1]]\n",
       "[1] \"This\"   \"is\"     \"a\"      \"string\"\n"
      ]
     },
     "metadata": {},
     "output_type": "display_data"
    },
    {
     "data": {
      "text/html": [
       "<ol>\n",
       "\t<li><ol class=list-inline>\n",
       "\t<li>'This is'</li>\n",
       "\t<li>'string'</li>\n",
       "</ol>\n",
       "</li>\n",
       "</ol>\n"
      ],
      "text/latex": [
       "\\begin{enumerate}\n",
       "\\item \\begin{enumerate*}\n",
       "\\item 'This is'\n",
       "\\item 'string'\n",
       "\\end{enumerate*}\n",
       "\n",
       "\\end{enumerate}\n"
      ],
      "text/markdown": [
       "1. 1. 'This is'\n",
       "2. 'string'\n",
       "\n",
       "\n",
       "\n",
       "\n",
       "\n"
      ],
      "text/plain": [
       "[[1]]\n",
       "[1] \"This is\" \"string\" \n"
      ]
     },
     "metadata": {},
     "output_type": "display_data"
    },
    {
     "data": {
      "text/html": [
       "<ol>\n",
       "\t<li><ol class=list-inline>\n",
       "\t<li>'This is a string'</li>\n",
       "\t<li>'This is another'</li>\n",
       "</ol>\n",
       "</li>\n",
       "</ol>\n"
      ],
      "text/latex": [
       "\\begin{enumerate}\n",
       "\\item \\begin{enumerate*}\n",
       "\\item 'This is a string'\n",
       "\\item 'This is another'\n",
       "\\end{enumerate*}\n",
       "\n",
       "\\end{enumerate}\n"
      ],
      "text/markdown": [
       "1. 1. 'This is a string'\n",
       "2. 'This is another'\n",
       "\n",
       "\n",
       "\n",
       "\n",
       "\n"
      ],
      "text/plain": [
       "[[1]]\n",
       "[1] \"This is a string\" \"This is another\" \n"
      ]
     },
     "metadata": {},
     "output_type": "display_data"
    }
   ],
   "source": [
    "str_split(\"This is a string\", \" \")\n",
    "str_split(\"This is a string\", \"\\\\sa\\\\s\")\n",
    "str_split(\"This is a string\\r\\nThis is another\", \"\\r\\n\")"
   ]
  },
  {
   "cell_type": "markdown",
   "metadata": {},
   "source": [
    "## Exercises\n",
    "\n",
    "1. Do the regular expression tutorial at https://regexone.com/\n",
    "2. All of the exercises in [Chapter 14](http://r4ds.had.co.nz/strings.html) of R4DS are good, and doing them all would be a great way of learning all about **stringr**. Depending on how much time you have, a good selection of exercises is:\n",
    " + 14.3.2.1\n",
    " + 14.3.3.1\n",
    " + 14.3.4.1\n",
    " + 14.3.5.1\n",
    " + 14.4.2\n",
    " + 14.4.5.1 "
   ]
  },
  {
   "cell_type": "code",
   "execution_count": null,
   "metadata": {
    "collapsed": true
   },
   "outputs": [],
   "source": []
  }
 ],
 "metadata": {
  "anaconda-cloud": {},
  "kernelspec": {
   "display_name": "R",
   "language": "R",
   "name": "ir"
  },
  "language_info": {
   "codemirror_mode": "r",
   "file_extension": ".r",
   "mimetype": "text/x-r-source",
   "name": "R",
   "pygments_lexer": "r",
   "version": "3.4.1"
  }
 },
 "nbformat": 4,
 "nbformat_minor": 2
}
