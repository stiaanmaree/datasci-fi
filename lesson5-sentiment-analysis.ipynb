{
 "cells": [
  {
   "cell_type": "markdown",
   "metadata": {},
   "source": [
    "# Lesson 5 // Sentiment analysis\n",
    "\n",
    "---\n",
    "\n",
    "Sentiment analysis is the study of the emotional content of a body of text. When we read text, as humans, we infer the emotional content from the words used in the text, and some more subtle cues involving how these words are put together. Sentiment analysis tries to do the same thing algorithmically. \n",
    "\n",
    "One way of approaching the problem is to assess the sentiment of individual words, and then aggregate the sentiments of the words in a body of text in some way. For example, if we can classify whether each word is positive, negative, or neutral, we can count up the number of positive, negative, and neutral words in the document and define that as the sentiment of the document. This is just one way - a particularly simple way - of doing document-level sentiment analysis. \n",
    "\n",
    "When assessing the sentiment or emotional content of individual words, we usually make use of existing sentiment dictionaries (or \"lexicons\") that have already done this using some kind of manual classification. \n",
    "\n",
    "This notebook is an introduction to sentiment analysis, in which we will:\n",
    "\n",
    "1. Introduce the sentiment lexicons that come with **tidytext**.\n",
    "2. Look at how to aggregate sentiments over words to assess the sentiment of a longer sequence of text, like a tweet.\n",
    "3. See how to handle \"negation\" words like \"not\" that reverse the sentiment of the word that follows it - for example \"not good\".\n",
    "4. Use all of the above to analyze the emotional content of Donald Trump's tweets and examine how these have changed over time.\n",
    "\n",
    "[Chapter 2](tidytextmining.com/sentiment.html) of TMR covers sentiment analysis, and negation is handled in [Chapter 4](http://tidytextmining.com/ngrams.html#tokenizing-by-n-gram). Many of the ideas and some of the code in this workbook are drawn from these chapters. \n",
    "\n",
    "---"
   ]
  },
  {
   "cell_type": "markdown",
   "metadata": {},
   "source": [
    "First load the packages we need for this lesson:"
   ]
  },
  {
   "cell_type": "code",
   "execution_count": 2,
   "metadata": {
    "collapsed": false
   },
   "outputs": [
    {
     "name": "stderr",
     "output_type": "stream",
     "text": [
      "Loading tidyverse: ggplot2\n",
      "Loading tidyverse: tibble\n",
      "Loading tidyverse: tidyr\n",
      "Loading tidyverse: readr\n",
      "Loading tidyverse: purrr\n",
      "Loading tidyverse: dplyr\n",
      "Conflicts with tidy packages ---------------------------------------------------\n",
      "filter(): dplyr, stats\n",
      "lag():    dplyr, stats\n",
      "\n",
      "Attaching package: 'lubridate'\n",
      "\n",
      "The following object is masked from 'package:base':\n",
      "\n",
      "    date\n",
      "\n"
     ]
    }
   ],
   "source": [
    "library(tidyverse)\n",
    "library(tidytext)\n",
    "library(stringr)\n",
    "library(lubridate)\n",
    "\n",
    "options(repr.plot.width=4, repr.plot.height=3) # set plot size in the notebook"
   ]
  },
  {
   "cell_type": "markdown",
   "metadata": {},
   "source": [
    "Next, we load the .RData file containing the tweets and get the data into tidy text format. These are the same operations we did in the previous notebook, so go back to that notebook if you need more details about what is happening below."
   ]
  },
  {
   "cell_type": "code",
   "execution_count": 5,
   "metadata": {
    "collapsed": true
   },
   "outputs": [],
   "source": [
    "load(\"data/trump-tweets.RData\")\n",
    "\n",
    "# make data a tibble\n",
    "tweets <- as.tibble(tweets)\n",
    "\n",
    "# parse the date and add some date related variables\n",
    "tweets <- tweets %>% \n",
    "  mutate(date = parse_datetime(str_sub(tweets$created_at,5,30), \"%b %d %H:%M:%S %z %Y\")) %>% \n",
    "  mutate(is_prez = (date > ymd(20161108))) %>%\n",
    "  mutate(month = make_date(year(date), month(date)))\n",
    "\n",
    "# turn into tidy text \n",
    "replace_reg <- \"https://t.co/[A-Za-z\\\\d]+|http://[A-Za-z\\\\d]+|&amp;|&lt;|&gt;|RT|https\"\n",
    "unnest_reg <- \"([^A-Za-z_\\\\d#@']|'(?![A-Za-z_\\\\d#@]))\"\n",
    "tidy_tweets <- tweets %>% \n",
    "  filter(!str_detect(text, \"^RT\")) %>% # remove retweets\n",
    "  mutate(text = str_replace_all(text, replace_reg, \"\")) %>% # remove stuff we don't want like links\n",
    "  unnest_tokens(word, text, token = \"regex\", pattern = unnest_reg) %>% # tokenize\n",
    "  filter(!word %in% stop_words$word, str_detect(word, \"[a-z]\")) %>% # remove stop words\n",
    "  select(date,word,is_prez,favorite_count,id_str,month) # choose the variables we need"
   ]
  },
  {
   "cell_type": "code",
   "execution_count": 6,
   "metadata": {
    "collapsed": false
   },
   "outputs": [
    {
     "data": {
      "text/html": [
       "<table>\n",
       "<thead><tr><th scope=col>date</th><th scope=col>word</th><th scope=col>is_prez</th><th scope=col>favorite_count</th><th scope=col>id_str</th><th scope=col>month</th></tr></thead>\n",
       "<tbody>\n",
       "\t<tr><td>2012-10-23 21:10:21</td><td>media              </td><td>FALSE              </td><td>160                </td><td>260850671576829952 </td><td>2012-10-01         </td></tr>\n",
       "\t<tr><td>2012-10-23 21:10:21</td><td>event              </td><td>FALSE              </td><td>160                </td><td>260850671576829952 </td><td>2012-10-01         </td></tr>\n",
       "\t<tr><td>2012-10-23 21:10:21</td><td>donald             </td><td>FALSE              </td><td>160                </td><td>260850671576829952 </td><td>2012-10-01         </td></tr>\n",
       "\t<tr><td>2012-10-23 21:10:21</td><td>trump              </td><td>FALSE              </td><td>160                </td><td>260850671576829952 </td><td>2012-10-01         </td></tr>\n",
       "\t<tr><td>2012-10-23 21:10:21</td><td>united             </td><td>FALSE              </td><td>160                </td><td>260850671576829952 </td><td>2012-10-01         </td></tr>\n",
       "\t<tr><td>2012-10-23 21:10:21</td><td>america            </td><td>FALSE              </td><td>160                </td><td>260850671576829952 </td><td>2012-10-01         </td></tr>\n",
       "\t<tr><td>2012-10-23 21:10:21</td><td>rxtnzi1o           </td><td>FALSE              </td><td>160                </td><td>260850671576829952 </td><td>2012-10-01         </td></tr>\n",
       "\t<tr><td>2012-10-24 16:15:36</td><td>stated             </td><td>FALSE              </td><td>654                </td><td>261138885466267648 </td><td>2012-10-01         </td></tr>\n",
       "\t<tr><td>2012-10-24 16:15:36</td><td>press              </td><td>FALSE              </td><td>654                </td><td>261138885466267648 </td><td>2012-10-01         </td></tr>\n",
       "\t<tr><td>2012-10-24 16:15:36</td><td>release            </td><td>FALSE              </td><td>654                </td><td>261138885466267648 </td><td>2012-10-01         </td></tr>\n",
       "\t<tr><td>2012-10-24 16:15:36</td><td>fjnq2ijw           </td><td>FALSE              </td><td>654                </td><td>261138885466267648 </td><td>2012-10-01         </td></tr>\n",
       "\t<tr><td>2012-10-24 16:49:40</td><td>response           </td><td>FALSE              </td><td>390                </td><td>261147459739336705 </td><td>2012-10-01         </td></tr>\n",
       "\t<tr><td>2012-10-24 16:49:40</td><td>fantastic          </td><td>FALSE              </td><td>390                </td><td>261147459739336705 </td><td>2012-10-01         </td></tr>\n",
       "\t<tr><td>2012-10-24 16:49:40</td><td>overwhelming       </td><td>FALSE              </td><td>390                </td><td>261147459739336705 </td><td>2012-10-01         </td></tr>\n",
       "\t<tr><td>2012-10-24 19:49:39</td><td>virtually          </td><td>FALSE              </td><td> 92                </td><td>261192751935279104 </td><td>2012-10-01         </td></tr>\n",
       "\t<tr><td>2012-10-24 19:49:39</td><td>presidents         </td><td>FALSE              </td><td> 92                </td><td>261192751935279104 </td><td>2012-10-01         </td></tr>\n",
       "\t<tr><td>2012-10-24 19:49:39</td><td>candidates         </td><td>FALSE              </td><td> 92                </td><td>261192751935279104 </td><td>2012-10-01         </td></tr>\n",
       "\t<tr><td>2012-10-24 19:49:39</td><td>including          </td><td>FALSE              </td><td> 92                </td><td>261192751935279104 </td><td>2012-10-01         </td></tr>\n",
       "\t<tr><td>2012-10-24 19:49:39</td><td>john               </td><td>FALSE              </td><td> 92                </td><td>261192751935279104 </td><td>2012-10-01         </td></tr>\n",
       "\t<tr><td>2012-10-24 19:49:39</td><td>mccain             </td><td>FALSE              </td><td> 92                </td><td>261192751935279104 </td><td>2012-10-01         </td></tr>\n",
       "\t<tr><td>2012-10-24 19:49:39</td><td>bill               </td><td>FALSE              </td><td> 92                </td><td>261192751935279104 </td><td>2012-10-01         </td></tr>\n",
       "\t<tr><td>2012-10-24 19:49:39</td><td>clinton            </td><td>FALSE              </td><td> 92                </td><td>261192751935279104 </td><td>2012-10-01         </td></tr>\n",
       "\t<tr><td>2012-10-24 19:49:39</td><td>george             </td><td>FALSE              </td><td> 92                </td><td>261192751935279104 </td><td>2012-10-01         </td></tr>\n",
       "\t<tr><td>2012-10-24 19:49:39</td><td>bush               </td><td>FALSE              </td><td> 92                </td><td>261192751935279104 </td><td>2012-10-01         </td></tr>\n",
       "\t<tr><td>2012-10-24 19:49:39</td><td>george             </td><td>FALSE              </td><td> 92                </td><td>261192751935279104 </td><td>2012-10-01         </td></tr>\n",
       "\t<tr><td>2012-10-24 19:49:39</td><td>bush               </td><td>FALSE              </td><td> 92                </td><td>261192751935279104 </td><td>2012-10-01         </td></tr>\n",
       "\t<tr><td>2012-10-24 19:49:39</td><td>v6vjbfzt           </td><td>FALSE              </td><td> 92                </td><td>261192751935279104 </td><td>2012-10-01         </td></tr>\n",
       "\t<tr><td>2012-10-25 17:58:07</td><td>response           </td><td>FALSE              </td><td> 85                </td><td>261527071220699136 </td><td>2012-10-01         </td></tr>\n",
       "\t<tr><td>2012-10-25 17:58:07</td><td>wednesday          </td><td>FALSE              </td><td> 85                </td><td>261527071220699136 </td><td>2012-10-01         </td></tr>\n",
       "\t<tr><td>2012-10-25 17:58:07</td><td>obama              </td><td>FALSE              </td><td> 85                </td><td>261527071220699136 </td><td>2012-10-01         </td></tr>\n",
       "\t<tr><td>...</td><td>...</td><td>...</td><td>...</td><td>...</td><td>...</td></tr>\n",
       "\t<tr><td>2013-07-26 15:55:04</td><td>#trumpvine         </td><td>FALSE              </td><td>141                </td><td>360790379806732289 </td><td>2013-07-01         </td></tr>\n",
       "\t<tr><td>2013-07-26 15:55:04</td><td>message            </td><td>FALSE              </td><td>141                </td><td>360790379806732289 </td><td>2013-07-01         </td></tr>\n",
       "\t<tr><td>2013-07-26 15:55:04</td><td>@anthonyweiner     </td><td>FALSE              </td><td>141                </td><td>360790379806732289 </td><td>2013-07-01         </td></tr>\n",
       "\t<tr><td>2013-08-01 14:35:46</td><td>#trumpvine         </td><td>FALSE              </td><td>230                </td><td>362944749616893952 </td><td>2013-08-01         </td></tr>\n",
       "\t<tr><td>2013-08-01 14:35:46</td><td>@arod              </td><td>FALSE              </td><td>230                </td><td>362944749616893952 </td><td>2013-08-01         </td></tr>\n",
       "\t<tr><td>2013-08-01 14:35:46</td><td>sucks              </td><td>FALSE              </td><td>230                </td><td>362944749616893952 </td><td>2013-08-01         </td></tr>\n",
       "\t<tr><td>2013-08-07 14:38:26</td><td>#trumpvine         </td><td>FALSE              </td><td>210                </td><td>365119748528279552 </td><td>2013-08-01         </td></tr>\n",
       "\t<tr><td>2013-08-07 14:38:26</td><td>weiner             </td><td>FALSE              </td><td>210                </td><td>365119748528279552 </td><td>2013-08-01         </td></tr>\n",
       "\t<tr><td>2013-08-07 14:38:26</td><td>joke               </td><td>FALSE              </td><td>210                </td><td>365119748528279552 </td><td>2013-08-01         </td></tr>\n",
       "\t<tr><td>2013-08-15 14:38:22</td><td>#trumpvine         </td><td>FALSE              </td><td>501                </td><td>368018835645157376 </td><td>2013-08-01         </td></tr>\n",
       "\t<tr><td>2013-08-15 14:38:22</td><td>money              </td><td>FALSE              </td><td>501                </td><td>368018835645157376 </td><td>2013-08-01         </td></tr>\n",
       "\t<tr><td>2013-08-15 14:38:22</td><td>@macmiller         </td><td>FALSE              </td><td>501                </td><td>368018835645157376 </td><td>2013-08-01         </td></tr>\n",
       "\t<tr><td>2013-08-19 18:17:28</td><td>#trumpvine         </td><td>FALSE              </td><td> 72                </td><td>369523525817602048 </td><td>2013-08-01         </td></tr>\n",
       "\t<tr><td>2013-08-19 18:17:28</td><td>opinion            </td><td>FALSE              </td><td> 72                </td><td>369523525817602048 </td><td>2013-08-01         </td></tr>\n",
       "\t<tr><td>2013-08-19 18:17:28</td><td>egypt              </td><td>FALSE              </td><td> 72                </td><td>369523525817602048 </td><td>2013-08-01         </td></tr>\n",
       "\t<tr><td>2013-08-29 19:05:43</td><td>#trumpvine         </td><td>FALSE              </td><td>281                </td><td>373159546526924800 </td><td>2013-08-01         </td></tr>\n",
       "\t<tr><td>2013-08-29 19:05:43</td><td>message            </td><td>FALSE              </td><td>281                </td><td>373159546526924800 </td><td>2013-08-01         </td></tr>\n",
       "\t<tr><td>2013-08-29 19:05:43</td><td>hotel              </td><td>FALSE              </td><td>281                </td><td>373159546526924800 </td><td>2013-08-01         </td></tr>\n",
       "\t<tr><td>2013-08-29 19:05:43</td><td>guest              </td><td>FALSE              </td><td>281                </td><td>373159546526924800 </td><td>2013-08-01         </td></tr>\n",
       "\t<tr><td>2013-08-29 19:05:43</td><td>@mileycyrus        </td><td>FALSE              </td><td>281                </td><td>373159546526924800 </td><td>2013-08-01         </td></tr>\n",
       "\t<tr><td>2013-09-10 12:28:25</td><td>#trumpvine         </td><td>FALSE              </td><td>307                </td><td>377408215233073152 </td><td>2013-09-01         </td></tr>\n",
       "\t<tr><td>2013-09-12 20:58:29</td><td>wow                </td><td>FALSE              </td><td> 31                </td><td>378261357160058881 </td><td>2013-09-01         </td></tr>\n",
       "\t<tr><td>2013-09-12 20:58:29</td><td>talk               </td><td>FALSE              </td><td> 31                </td><td>378261357160058881 </td><td>2013-09-01         </td></tr>\n",
       "\t<tr><td>2013-09-12 20:58:29</td><td>@missuniverse      </td><td>FALSE              </td><td> 31                </td><td>378261357160058881 </td><td>2013-09-01         </td></tr>\n",
       "\t<tr><td>2013-09-12 20:58:29</td><td>russia             </td><td>FALSE              </td><td> 31                </td><td>378261357160058881 </td><td>2013-09-01         </td></tr>\n",
       "\t<tr><td>2013-09-12 20:58:29</td><td>november           </td><td>FALSE              </td><td> 31                </td><td>378261357160058881 </td><td>2013-09-01         </td></tr>\n",
       "\t<tr><td>2013-09-12 20:58:29</td><td>9th                </td><td>FALSE              </td><td> 31                </td><td>378261357160058881 </td><td>2013-09-01         </td></tr>\n",
       "\t<tr><td>2013-11-05 14:52:14</td><td>#trumpvine         </td><td>FALSE              </td><td>276                </td><td>397738132181090304 </td><td>2013-11-01         </td></tr>\n",
       "\t<tr><td>2013-11-05 14:52:14</td><td>obamacare          </td><td>FALSE              </td><td>276                </td><td>397738132181090304 </td><td>2013-11-01         </td></tr>\n",
       "\t<tr><td>2013-11-05 14:52:14</td><td>website            </td><td>FALSE              </td><td>276                </td><td>397738132181090304 </td><td>2013-11-01         </td></tr>\n",
       "</tbody>\n",
       "</table>\n"
      ],
      "text/latex": [
       "\\begin{tabular}{r|llllll}\n",
       " date & word & is\\_prez & favorite\\_count & id\\_str & month\\\\\n",
       "\\hline\n",
       "\t 2012-10-23 21:10:21 & media               & FALSE               & 160                 & 260850671576829952  & 2012-10-01         \\\\\n",
       "\t 2012-10-23 21:10:21 & event               & FALSE               & 160                 & 260850671576829952  & 2012-10-01         \\\\\n",
       "\t 2012-10-23 21:10:21 & donald              & FALSE               & 160                 & 260850671576829952  & 2012-10-01         \\\\\n",
       "\t 2012-10-23 21:10:21 & trump               & FALSE               & 160                 & 260850671576829952  & 2012-10-01         \\\\\n",
       "\t 2012-10-23 21:10:21 & united              & FALSE               & 160                 & 260850671576829952  & 2012-10-01         \\\\\n",
       "\t 2012-10-23 21:10:21 & america             & FALSE               & 160                 & 260850671576829952  & 2012-10-01         \\\\\n",
       "\t 2012-10-23 21:10:21 & rxtnzi1o            & FALSE               & 160                 & 260850671576829952  & 2012-10-01         \\\\\n",
       "\t 2012-10-24 16:15:36 & stated              & FALSE               & 654                 & 261138885466267648  & 2012-10-01         \\\\\n",
       "\t 2012-10-24 16:15:36 & press               & FALSE               & 654                 & 261138885466267648  & 2012-10-01         \\\\\n",
       "\t 2012-10-24 16:15:36 & release             & FALSE               & 654                 & 261138885466267648  & 2012-10-01         \\\\\n",
       "\t 2012-10-24 16:15:36 & fjnq2ijw            & FALSE               & 654                 & 261138885466267648  & 2012-10-01         \\\\\n",
       "\t 2012-10-24 16:49:40 & response            & FALSE               & 390                 & 261147459739336705  & 2012-10-01         \\\\\n",
       "\t 2012-10-24 16:49:40 & fantastic           & FALSE               & 390                 & 261147459739336705  & 2012-10-01         \\\\\n",
       "\t 2012-10-24 16:49:40 & overwhelming        & FALSE               & 390                 & 261147459739336705  & 2012-10-01         \\\\\n",
       "\t 2012-10-24 19:49:39 & virtually           & FALSE               &  92                 & 261192751935279104  & 2012-10-01         \\\\\n",
       "\t 2012-10-24 19:49:39 & presidents          & FALSE               &  92                 & 261192751935279104  & 2012-10-01         \\\\\n",
       "\t 2012-10-24 19:49:39 & candidates          & FALSE               &  92                 & 261192751935279104  & 2012-10-01         \\\\\n",
       "\t 2012-10-24 19:49:39 & including           & FALSE               &  92                 & 261192751935279104  & 2012-10-01         \\\\\n",
       "\t 2012-10-24 19:49:39 & john                & FALSE               &  92                 & 261192751935279104  & 2012-10-01         \\\\\n",
       "\t 2012-10-24 19:49:39 & mccain              & FALSE               &  92                 & 261192751935279104  & 2012-10-01         \\\\\n",
       "\t 2012-10-24 19:49:39 & bill                & FALSE               &  92                 & 261192751935279104  & 2012-10-01         \\\\\n",
       "\t 2012-10-24 19:49:39 & clinton             & FALSE               &  92                 & 261192751935279104  & 2012-10-01         \\\\\n",
       "\t 2012-10-24 19:49:39 & george              & FALSE               &  92                 & 261192751935279104  & 2012-10-01         \\\\\n",
       "\t 2012-10-24 19:49:39 & bush                & FALSE               &  92                 & 261192751935279104  & 2012-10-01         \\\\\n",
       "\t 2012-10-24 19:49:39 & george              & FALSE               &  92                 & 261192751935279104  & 2012-10-01         \\\\\n",
       "\t 2012-10-24 19:49:39 & bush                & FALSE               &  92                 & 261192751935279104  & 2012-10-01         \\\\\n",
       "\t 2012-10-24 19:49:39 & v6vjbfzt            & FALSE               &  92                 & 261192751935279104  & 2012-10-01         \\\\\n",
       "\t 2012-10-25 17:58:07 & response            & FALSE               &  85                 & 261527071220699136  & 2012-10-01         \\\\\n",
       "\t 2012-10-25 17:58:07 & wednesday           & FALSE               &  85                 & 261527071220699136  & 2012-10-01         \\\\\n",
       "\t 2012-10-25 17:58:07 & obama               & FALSE               &  85                 & 261527071220699136  & 2012-10-01         \\\\\n",
       "\t ... & ... & ... & ... & ... & ...\\\\\n",
       "\t 2013-07-26 15:55:04 & \\#trumpvine        & FALSE               & 141                 & 360790379806732289  & 2013-07-01         \\\\\n",
       "\t 2013-07-26 15:55:04 & message             & FALSE               & 141                 & 360790379806732289  & 2013-07-01         \\\\\n",
       "\t 2013-07-26 15:55:04 & @anthonyweiner      & FALSE               & 141                 & 360790379806732289  & 2013-07-01         \\\\\n",
       "\t 2013-08-01 14:35:46 & \\#trumpvine        & FALSE               & 230                 & 362944749616893952  & 2013-08-01         \\\\\n",
       "\t 2013-08-01 14:35:46 & @arod               & FALSE               & 230                 & 362944749616893952  & 2013-08-01         \\\\\n",
       "\t 2013-08-01 14:35:46 & sucks               & FALSE               & 230                 & 362944749616893952  & 2013-08-01         \\\\\n",
       "\t 2013-08-07 14:38:26 & \\#trumpvine        & FALSE               & 210                 & 365119748528279552  & 2013-08-01         \\\\\n",
       "\t 2013-08-07 14:38:26 & weiner              & FALSE               & 210                 & 365119748528279552  & 2013-08-01         \\\\\n",
       "\t 2013-08-07 14:38:26 & joke                & FALSE               & 210                 & 365119748528279552  & 2013-08-01         \\\\\n",
       "\t 2013-08-15 14:38:22 & \\#trumpvine        & FALSE               & 501                 & 368018835645157376  & 2013-08-01         \\\\\n",
       "\t 2013-08-15 14:38:22 & money               & FALSE               & 501                 & 368018835645157376  & 2013-08-01         \\\\\n",
       "\t 2013-08-15 14:38:22 & @macmiller          & FALSE               & 501                 & 368018835645157376  & 2013-08-01         \\\\\n",
       "\t 2013-08-19 18:17:28 & \\#trumpvine        & FALSE               &  72                 & 369523525817602048  & 2013-08-01         \\\\\n",
       "\t 2013-08-19 18:17:28 & opinion             & FALSE               &  72                 & 369523525817602048  & 2013-08-01         \\\\\n",
       "\t 2013-08-19 18:17:28 & egypt               & FALSE               &  72                 & 369523525817602048  & 2013-08-01         \\\\\n",
       "\t 2013-08-29 19:05:43 & \\#trumpvine        & FALSE               & 281                 & 373159546526924800  & 2013-08-01         \\\\\n",
       "\t 2013-08-29 19:05:43 & message             & FALSE               & 281                 & 373159546526924800  & 2013-08-01         \\\\\n",
       "\t 2013-08-29 19:05:43 & hotel               & FALSE               & 281                 & 373159546526924800  & 2013-08-01         \\\\\n",
       "\t 2013-08-29 19:05:43 & guest               & FALSE               & 281                 & 373159546526924800  & 2013-08-01         \\\\\n",
       "\t 2013-08-29 19:05:43 & @mileycyrus         & FALSE               & 281                 & 373159546526924800  & 2013-08-01         \\\\\n",
       "\t 2013-09-10 12:28:25 & \\#trumpvine        & FALSE               & 307                 & 377408215233073152  & 2013-09-01         \\\\\n",
       "\t 2013-09-12 20:58:29 & wow                 & FALSE               &  31                 & 378261357160058881  & 2013-09-01         \\\\\n",
       "\t 2013-09-12 20:58:29 & talk                & FALSE               &  31                 & 378261357160058881  & 2013-09-01         \\\\\n",
       "\t 2013-09-12 20:58:29 & @missuniverse       & FALSE               &  31                 & 378261357160058881  & 2013-09-01         \\\\\n",
       "\t 2013-09-12 20:58:29 & russia              & FALSE               &  31                 & 378261357160058881  & 2013-09-01         \\\\\n",
       "\t 2013-09-12 20:58:29 & november            & FALSE               &  31                 & 378261357160058881  & 2013-09-01         \\\\\n",
       "\t 2013-09-12 20:58:29 & 9th                 & FALSE               &  31                 & 378261357160058881  & 2013-09-01         \\\\\n",
       "\t 2013-11-05 14:52:14 & \\#trumpvine        & FALSE               & 276                 & 397738132181090304  & 2013-11-01         \\\\\n",
       "\t 2013-11-05 14:52:14 & obamacare           & FALSE               & 276                 & 397738132181090304  & 2013-11-01         \\\\\n",
       "\t 2013-11-05 14:52:14 & website             & FALSE               & 276                 & 397738132181090304  & 2013-11-01         \\\\\n",
       "\\end{tabular}\n"
      ],
      "text/markdown": [
       "\n",
       "date | word | is_prez | favorite_count | id_str | month | \n",
       "|---|---|---|---|---|---|---|---|---|---|---|---|---|---|---|---|---|---|---|---|---|---|---|---|---|---|---|---|---|---|---|---|---|---|---|---|---|---|---|---|---|---|---|---|---|---|---|---|---|---|---|---|---|---|---|---|---|---|---|---|---|\n",
       "| 2012-10-23 21:10:21 | media               | FALSE               | 160                 | 260850671576829952  | 2012-10-01          | \n",
       "| 2012-10-23 21:10:21 | event               | FALSE               | 160                 | 260850671576829952  | 2012-10-01          | \n",
       "| 2012-10-23 21:10:21 | donald              | FALSE               | 160                 | 260850671576829952  | 2012-10-01          | \n",
       "| 2012-10-23 21:10:21 | trump               | FALSE               | 160                 | 260850671576829952  | 2012-10-01          | \n",
       "| 2012-10-23 21:10:21 | united              | FALSE               | 160                 | 260850671576829952  | 2012-10-01          | \n",
       "| 2012-10-23 21:10:21 | america             | FALSE               | 160                 | 260850671576829952  | 2012-10-01          | \n",
       "| 2012-10-23 21:10:21 | rxtnzi1o            | FALSE               | 160                 | 260850671576829952  | 2012-10-01          | \n",
       "| 2012-10-24 16:15:36 | stated              | FALSE               | 654                 | 261138885466267648  | 2012-10-01          | \n",
       "| 2012-10-24 16:15:36 | press               | FALSE               | 654                 | 261138885466267648  | 2012-10-01          | \n",
       "| 2012-10-24 16:15:36 | release             | FALSE               | 654                 | 261138885466267648  | 2012-10-01          | \n",
       "| 2012-10-24 16:15:36 | fjnq2ijw            | FALSE               | 654                 | 261138885466267648  | 2012-10-01          | \n",
       "| 2012-10-24 16:49:40 | response            | FALSE               | 390                 | 261147459739336705  | 2012-10-01          | \n",
       "| 2012-10-24 16:49:40 | fantastic           | FALSE               | 390                 | 261147459739336705  | 2012-10-01          | \n",
       "| 2012-10-24 16:49:40 | overwhelming        | FALSE               | 390                 | 261147459739336705  | 2012-10-01          | \n",
       "| 2012-10-24 19:49:39 | virtually           | FALSE               |  92                 | 261192751935279104  | 2012-10-01          | \n",
       "| 2012-10-24 19:49:39 | presidents          | FALSE               |  92                 | 261192751935279104  | 2012-10-01          | \n",
       "| 2012-10-24 19:49:39 | candidates          | FALSE               |  92                 | 261192751935279104  | 2012-10-01          | \n",
       "| 2012-10-24 19:49:39 | including           | FALSE               |  92                 | 261192751935279104  | 2012-10-01          | \n",
       "| 2012-10-24 19:49:39 | john                | FALSE               |  92                 | 261192751935279104  | 2012-10-01          | \n",
       "| 2012-10-24 19:49:39 | mccain              | FALSE               |  92                 | 261192751935279104  | 2012-10-01          | \n",
       "| 2012-10-24 19:49:39 | bill                | FALSE               |  92                 | 261192751935279104  | 2012-10-01          | \n",
       "| 2012-10-24 19:49:39 | clinton             | FALSE               |  92                 | 261192751935279104  | 2012-10-01          | \n",
       "| 2012-10-24 19:49:39 | george              | FALSE               |  92                 | 261192751935279104  | 2012-10-01          | \n",
       "| 2012-10-24 19:49:39 | bush                | FALSE               |  92                 | 261192751935279104  | 2012-10-01          | \n",
       "| 2012-10-24 19:49:39 | george              | FALSE               |  92                 | 261192751935279104  | 2012-10-01          | \n",
       "| 2012-10-24 19:49:39 | bush                | FALSE               |  92                 | 261192751935279104  | 2012-10-01          | \n",
       "| 2012-10-24 19:49:39 | v6vjbfzt            | FALSE               |  92                 | 261192751935279104  | 2012-10-01          | \n",
       "| 2012-10-25 17:58:07 | response            | FALSE               |  85                 | 261527071220699136  | 2012-10-01          | \n",
       "| 2012-10-25 17:58:07 | wednesday           | FALSE               |  85                 | 261527071220699136  | 2012-10-01          | \n",
       "| 2012-10-25 17:58:07 | obama               | FALSE               |  85                 | 261527071220699136  | 2012-10-01          | \n",
       "| ... | ... | ... | ... | ... | ... | \n",
       "| 2013-07-26 15:55:04 | #trumpvine          | FALSE               | 141                 | 360790379806732289  | 2013-07-01          | \n",
       "| 2013-07-26 15:55:04 | message             | FALSE               | 141                 | 360790379806732289  | 2013-07-01          | \n",
       "| 2013-07-26 15:55:04 | @anthonyweiner      | FALSE               | 141                 | 360790379806732289  | 2013-07-01          | \n",
       "| 2013-08-01 14:35:46 | #trumpvine          | FALSE               | 230                 | 362944749616893952  | 2013-08-01          | \n",
       "| 2013-08-01 14:35:46 | @arod               | FALSE               | 230                 | 362944749616893952  | 2013-08-01          | \n",
       "| 2013-08-01 14:35:46 | sucks               | FALSE               | 230                 | 362944749616893952  | 2013-08-01          | \n",
       "| 2013-08-07 14:38:26 | #trumpvine          | FALSE               | 210                 | 365119748528279552  | 2013-08-01          | \n",
       "| 2013-08-07 14:38:26 | weiner              | FALSE               | 210                 | 365119748528279552  | 2013-08-01          | \n",
       "| 2013-08-07 14:38:26 | joke                | FALSE               | 210                 | 365119748528279552  | 2013-08-01          | \n",
       "| 2013-08-15 14:38:22 | #trumpvine          | FALSE               | 501                 | 368018835645157376  | 2013-08-01          | \n",
       "| 2013-08-15 14:38:22 | money               | FALSE               | 501                 | 368018835645157376  | 2013-08-01          | \n",
       "| 2013-08-15 14:38:22 | @macmiller          | FALSE               | 501                 | 368018835645157376  | 2013-08-01          | \n",
       "| 2013-08-19 18:17:28 | #trumpvine          | FALSE               |  72                 | 369523525817602048  | 2013-08-01          | \n",
       "| 2013-08-19 18:17:28 | opinion             | FALSE               |  72                 | 369523525817602048  | 2013-08-01          | \n",
       "| 2013-08-19 18:17:28 | egypt               | FALSE               |  72                 | 369523525817602048  | 2013-08-01          | \n",
       "| 2013-08-29 19:05:43 | #trumpvine          | FALSE               | 281                 | 373159546526924800  | 2013-08-01          | \n",
       "| 2013-08-29 19:05:43 | message             | FALSE               | 281                 | 373159546526924800  | 2013-08-01          | \n",
       "| 2013-08-29 19:05:43 | hotel               | FALSE               | 281                 | 373159546526924800  | 2013-08-01          | \n",
       "| 2013-08-29 19:05:43 | guest               | FALSE               | 281                 | 373159546526924800  | 2013-08-01          | \n",
       "| 2013-08-29 19:05:43 | @mileycyrus         | FALSE               | 281                 | 373159546526924800  | 2013-08-01          | \n",
       "| 2013-09-10 12:28:25 | #trumpvine          | FALSE               | 307                 | 377408215233073152  | 2013-09-01          | \n",
       "| 2013-09-12 20:58:29 | wow                 | FALSE               |  31                 | 378261357160058881  | 2013-09-01          | \n",
       "| 2013-09-12 20:58:29 | talk                | FALSE               |  31                 | 378261357160058881  | 2013-09-01          | \n",
       "| 2013-09-12 20:58:29 | @missuniverse       | FALSE               |  31                 | 378261357160058881  | 2013-09-01          | \n",
       "| 2013-09-12 20:58:29 | russia              | FALSE               |  31                 | 378261357160058881  | 2013-09-01          | \n",
       "| 2013-09-12 20:58:29 | november            | FALSE               |  31                 | 378261357160058881  | 2013-09-01          | \n",
       "| 2013-09-12 20:58:29 | 9th                 | FALSE               |  31                 | 378261357160058881  | 2013-09-01          | \n",
       "| 2013-11-05 14:52:14 | #trumpvine          | FALSE               | 276                 | 397738132181090304  | 2013-11-01          | \n",
       "| 2013-11-05 14:52:14 | obamacare           | FALSE               | 276                 | 397738132181090304  | 2013-11-01          | \n",
       "| 2013-11-05 14:52:14 | website             | FALSE               | 276                 | 397738132181090304  | 2013-11-01          | \n",
       "\n",
       "\n"
      ],
      "text/plain": [
       "       date                word           is_prez favorite_count\n",
       "1      2012-10-23 21:10:21 media          FALSE   160           \n",
       "2      2012-10-23 21:10:21 event          FALSE   160           \n",
       "3      2012-10-23 21:10:21 donald         FALSE   160           \n",
       "4      2012-10-23 21:10:21 trump          FALSE   160           \n",
       "5      2012-10-23 21:10:21 united         FALSE   160           \n",
       "6      2012-10-23 21:10:21 america        FALSE   160           \n",
       "7      2012-10-23 21:10:21 rxtnzi1o       FALSE   160           \n",
       "8      2012-10-24 16:15:36 stated         FALSE   654           \n",
       "9      2012-10-24 16:15:36 press          FALSE   654           \n",
       "10     2012-10-24 16:15:36 release        FALSE   654           \n",
       "11     2012-10-24 16:15:36 fjnq2ijw       FALSE   654           \n",
       "12     2012-10-24 16:49:40 response       FALSE   390           \n",
       "13     2012-10-24 16:49:40 fantastic      FALSE   390           \n",
       "14     2012-10-24 16:49:40 overwhelming   FALSE   390           \n",
       "15     2012-10-24 19:49:39 virtually      FALSE    92           \n",
       "16     2012-10-24 19:49:39 presidents     FALSE    92           \n",
       "17     2012-10-24 19:49:39 candidates     FALSE    92           \n",
       "18     2012-10-24 19:49:39 including      FALSE    92           \n",
       "19     2012-10-24 19:49:39 john           FALSE    92           \n",
       "20     2012-10-24 19:49:39 mccain         FALSE    92           \n",
       "21     2012-10-24 19:49:39 bill           FALSE    92           \n",
       "22     2012-10-24 19:49:39 clinton        FALSE    92           \n",
       "23     2012-10-24 19:49:39 george         FALSE    92           \n",
       "24     2012-10-24 19:49:39 bush           FALSE    92           \n",
       "25     2012-10-24 19:49:39 george         FALSE    92           \n",
       "26     2012-10-24 19:49:39 bush           FALSE    92           \n",
       "27     2012-10-24 19:49:39 v6vjbfzt       FALSE    92           \n",
       "28     2012-10-25 17:58:07 response       FALSE    85           \n",
       "29     2012-10-25 17:58:07 wednesday      FALSE    85           \n",
       "30     2012-10-25 17:58:07 obama          FALSE    85           \n",
       "...    ...                 ...            ...     ...           \n",
       "234145 2013-07-26 15:55:04 #trumpvine     FALSE   141           \n",
       "234146 2013-07-26 15:55:04 message        FALSE   141           \n",
       "234147 2013-07-26 15:55:04 @anthonyweiner FALSE   141           \n",
       "234148 2013-08-01 14:35:46 #trumpvine     FALSE   230           \n",
       "234149 2013-08-01 14:35:46 @arod          FALSE   230           \n",
       "234150 2013-08-01 14:35:46 sucks          FALSE   230           \n",
       "234151 2013-08-07 14:38:26 #trumpvine     FALSE   210           \n",
       "234152 2013-08-07 14:38:26 weiner         FALSE   210           \n",
       "234153 2013-08-07 14:38:26 joke           FALSE   210           \n",
       "234154 2013-08-15 14:38:22 #trumpvine     FALSE   501           \n",
       "234155 2013-08-15 14:38:22 money          FALSE   501           \n",
       "234156 2013-08-15 14:38:22 @macmiller     FALSE   501           \n",
       "234157 2013-08-19 18:17:28 #trumpvine     FALSE    72           \n",
       "234158 2013-08-19 18:17:28 opinion        FALSE    72           \n",
       "234159 2013-08-19 18:17:28 egypt          FALSE    72           \n",
       "234160 2013-08-29 19:05:43 #trumpvine     FALSE   281           \n",
       "234161 2013-08-29 19:05:43 message        FALSE   281           \n",
       "234162 2013-08-29 19:05:43 hotel          FALSE   281           \n",
       "234163 2013-08-29 19:05:43 guest          FALSE   281           \n",
       "234164 2013-08-29 19:05:43 @mileycyrus    FALSE   281           \n",
       "234165 2013-09-10 12:28:25 #trumpvine     FALSE   307           \n",
       "234166 2013-09-12 20:58:29 wow            FALSE    31           \n",
       "234167 2013-09-12 20:58:29 talk           FALSE    31           \n",
       "234168 2013-09-12 20:58:29 @missuniverse  FALSE    31           \n",
       "234169 2013-09-12 20:58:29 russia         FALSE    31           \n",
       "234170 2013-09-12 20:58:29 november       FALSE    31           \n",
       "234171 2013-09-12 20:58:29 9th            FALSE    31           \n",
       "234172 2013-11-05 14:52:14 #trumpvine     FALSE   276           \n",
       "234173 2013-11-05 14:52:14 obamacare      FALSE   276           \n",
       "234174 2013-11-05 14:52:14 website        FALSE   276           \n",
       "       id_str             month     \n",
       "1      260850671576829952 2012-10-01\n",
       "2      260850671576829952 2012-10-01\n",
       "3      260850671576829952 2012-10-01\n",
       "4      260850671576829952 2012-10-01\n",
       "5      260850671576829952 2012-10-01\n",
       "6      260850671576829952 2012-10-01\n",
       "7      260850671576829952 2012-10-01\n",
       "8      261138885466267648 2012-10-01\n",
       "9      261138885466267648 2012-10-01\n",
       "10     261138885466267648 2012-10-01\n",
       "11     261138885466267648 2012-10-01\n",
       "12     261147459739336705 2012-10-01\n",
       "13     261147459739336705 2012-10-01\n",
       "14     261147459739336705 2012-10-01\n",
       "15     261192751935279104 2012-10-01\n",
       "16     261192751935279104 2012-10-01\n",
       "17     261192751935279104 2012-10-01\n",
       "18     261192751935279104 2012-10-01\n",
       "19     261192751935279104 2012-10-01\n",
       "20     261192751935279104 2012-10-01\n",
       "21     261192751935279104 2012-10-01\n",
       "22     261192751935279104 2012-10-01\n",
       "23     261192751935279104 2012-10-01\n",
       "24     261192751935279104 2012-10-01\n",
       "25     261192751935279104 2012-10-01\n",
       "26     261192751935279104 2012-10-01\n",
       "27     261192751935279104 2012-10-01\n",
       "28     261527071220699136 2012-10-01\n",
       "29     261527071220699136 2012-10-01\n",
       "30     261527071220699136 2012-10-01\n",
       "...    ...                ...       \n",
       "234145 360790379806732289 2013-07-01\n",
       "234146 360790379806732289 2013-07-01\n",
       "234147 360790379806732289 2013-07-01\n",
       "234148 362944749616893952 2013-08-01\n",
       "234149 362944749616893952 2013-08-01\n",
       "234150 362944749616893952 2013-08-01\n",
       "234151 365119748528279552 2013-08-01\n",
       "234152 365119748528279552 2013-08-01\n",
       "234153 365119748528279552 2013-08-01\n",
       "234154 368018835645157376 2013-08-01\n",
       "234155 368018835645157376 2013-08-01\n",
       "234156 368018835645157376 2013-08-01\n",
       "234157 369523525817602048 2013-08-01\n",
       "234158 369523525817602048 2013-08-01\n",
       "234159 369523525817602048 2013-08-01\n",
       "234160 373159546526924800 2013-08-01\n",
       "234161 373159546526924800 2013-08-01\n",
       "234162 373159546526924800 2013-08-01\n",
       "234163 373159546526924800 2013-08-01\n",
       "234164 373159546526924800 2013-08-01\n",
       "234165 377408215233073152 2013-09-01\n",
       "234166 378261357160058881 2013-09-01\n",
       "234167 378261357160058881 2013-09-01\n",
       "234168 378261357160058881 2013-09-01\n",
       "234169 378261357160058881 2013-09-01\n",
       "234170 378261357160058881 2013-09-01\n",
       "234171 378261357160058881 2013-09-01\n",
       "234172 397738132181090304 2013-11-01\n",
       "234173 397738132181090304 2013-11-01\n",
       "234174 397738132181090304 2013-11-01"
      ]
     },
     "metadata": {},
     "output_type": "display_data"
    }
   ],
   "source": [
    "#load(\"data/trump-tweets.RData\")\n",
    "#tweets\n",
    "\n",
    "tidy_tweets"
   ]
  },
  {
   "cell_type": "markdown",
   "metadata": {},
   "source": [
    "## Using sentiment lexicons\n",
    "\n",
    "The **tidytext** package comes with a three existing sentiment lexicons or dictionaries. These describe the emotional content of individual words in different formats, and have been put together manually.\n",
    "\n",
    "* *afinn*: a list of words given a positivity score between minus five (negative) and plus five (positive). The words have been manually labelled by Finn Arup Nielsen. See [here](https://finnaarupnielsen.wordpress.com/2011/03/16/afinn-a-new-word-list-for-sentiment-analysis/) and [here](http://www2.imm.dtu.dk/pubdb/views/publication_details.php?id=6010) for more details.\n",
    "* *bing*: a sentiment lexicon created by Bing Liu and collaborators. A list of words are labelled as \"positive\" or \"negative\". More details [here](https://www.cs.uic.edu/~liub/FBS/sentiment-analysis.html).\n",
    "* *nrc*: a sentiment lexicon put together by Saif Mohammad and Peter Turney using crowdsourcing on Amazon Mechanical Turk. Words are labelled as \"positive\" or \"negative\", but also as \"anger\", \"anticipation\", \"disgust\", \"fear\", \"joy\", \"sadness\", \"surprise\", or \"trust\". A word can receive multiple labels. More details [here](http://saifmohammad.com/WebPages/lexicons.html)."
   ]
  },
  {
   "cell_type": "code",
   "execution_count": 4,
   "metadata": {
    "collapsed": false
   },
   "outputs": [
    {
     "data": {
      "text/html": [
       "<table>\n",
       "<thead><tr><th scope=col>word</th><th scope=col>score</th></tr></thead>\n",
       "<tbody>\n",
       "\t<tr><td>abandon   </td><td>-2        </td></tr>\n",
       "\t<tr><td>abandoned </td><td>-2        </td></tr>\n",
       "\t<tr><td>abandons  </td><td>-2        </td></tr>\n",
       "\t<tr><td>abducted  </td><td>-2        </td></tr>\n",
       "\t<tr><td>abduction </td><td>-2        </td></tr>\n",
       "\t<tr><td>abductions</td><td>-2        </td></tr>\n",
       "\t<tr><td>abhor     </td><td>-3        </td></tr>\n",
       "\t<tr><td>abhorred  </td><td>-3        </td></tr>\n",
       "\t<tr><td>abhorrent </td><td>-3        </td></tr>\n",
       "\t<tr><td>abhors    </td><td>-3        </td></tr>\n",
       "</tbody>\n",
       "</table>\n"
      ],
      "text/latex": [
       "\\begin{tabular}{r|ll}\n",
       " word & score\\\\\n",
       "\\hline\n",
       "\t abandon    & -2        \\\\\n",
       "\t abandoned  & -2        \\\\\n",
       "\t abandons   & -2        \\\\\n",
       "\t abducted   & -2        \\\\\n",
       "\t abduction  & -2        \\\\\n",
       "\t abductions & -2        \\\\\n",
       "\t abhor      & -3        \\\\\n",
       "\t abhorred   & -3        \\\\\n",
       "\t abhorrent  & -3        \\\\\n",
       "\t abhors     & -3        \\\\\n",
       "\\end{tabular}\n"
      ],
      "text/markdown": [
       "\n",
       "word | score | \n",
       "|---|---|---|---|---|---|---|---|---|---|\n",
       "| abandon    | -2         | \n",
       "| abandoned  | -2         | \n",
       "| abandons   | -2         | \n",
       "| abducted   | -2         | \n",
       "| abduction  | -2         | \n",
       "| abductions | -2         | \n",
       "| abhor      | -3         | \n",
       "| abhorred   | -3         | \n",
       "| abhorrent  | -3         | \n",
       "| abhors     | -3         | \n",
       "\n",
       "\n"
      ],
      "text/plain": [
       "   word       score\n",
       "1  abandon    -2   \n",
       "2  abandoned  -2   \n",
       "3  abandons   -2   \n",
       "4  abducted   -2   \n",
       "5  abduction  -2   \n",
       "6  abductions -2   \n",
       "7  abhor      -3   \n",
       "8  abhorred   -3   \n",
       "9  abhorrent  -3   \n",
       "10 abhors     -3   "
      ]
     },
     "metadata": {},
     "output_type": "display_data"
    },
    {
     "data": {
      "text/html": [
       "<table>\n",
       "<thead><tr><th scope=col>word</th><th scope=col>sentiment</th></tr></thead>\n",
       "<tbody>\n",
       "\t<tr><td>2-faced    </td><td>negative   </td></tr>\n",
       "\t<tr><td>2-faces    </td><td>negative   </td></tr>\n",
       "\t<tr><td>a+         </td><td>positive   </td></tr>\n",
       "\t<tr><td>abnormal   </td><td>negative   </td></tr>\n",
       "\t<tr><td>abolish    </td><td>negative   </td></tr>\n",
       "\t<tr><td>abominable </td><td>negative   </td></tr>\n",
       "\t<tr><td>abominably </td><td>negative   </td></tr>\n",
       "\t<tr><td>abominate  </td><td>negative   </td></tr>\n",
       "\t<tr><td>abomination</td><td>negative   </td></tr>\n",
       "\t<tr><td>abort      </td><td>negative   </td></tr>\n",
       "</tbody>\n",
       "</table>\n"
      ],
      "text/latex": [
       "\\begin{tabular}{r|ll}\n",
       " word & sentiment\\\\\n",
       "\\hline\n",
       "\t 2-faced     & negative   \\\\\n",
       "\t 2-faces     & negative   \\\\\n",
       "\t a+          & positive   \\\\\n",
       "\t abnormal    & negative   \\\\\n",
       "\t abolish     & negative   \\\\\n",
       "\t abominable  & negative   \\\\\n",
       "\t abominably  & negative   \\\\\n",
       "\t abominate   & negative   \\\\\n",
       "\t abomination & negative   \\\\\n",
       "\t abort       & negative   \\\\\n",
       "\\end{tabular}\n"
      ],
      "text/markdown": [
       "\n",
       "word | sentiment | \n",
       "|---|---|---|---|---|---|---|---|---|---|\n",
       "| 2-faced     | negative    | \n",
       "| 2-faces     | negative    | \n",
       "| a+          | positive    | \n",
       "| abnormal    | negative    | \n",
       "| abolish     | negative    | \n",
       "| abominable  | negative    | \n",
       "| abominably  | negative    | \n",
       "| abominate   | negative    | \n",
       "| abomination | negative    | \n",
       "| abort       | negative    | \n",
       "\n",
       "\n"
      ],
      "text/plain": [
       "   word        sentiment\n",
       "1  2-faced     negative \n",
       "2  2-faces     negative \n",
       "3  a+          positive \n",
       "4  abnormal    negative \n",
       "5  abolish     negative \n",
       "6  abominable  negative \n",
       "7  abominably  negative \n",
       "8  abominate   negative \n",
       "9  abomination negative \n",
       "10 abort       negative "
      ]
     },
     "metadata": {},
     "output_type": "display_data"
    },
    {
     "data": {
      "text/html": [
       "<table>\n",
       "<thead><tr><th scope=col>word</th><th scope=col>sentiment</th></tr></thead>\n",
       "<tbody>\n",
       "\t<tr><td>abacus     </td><td>trust      </td></tr>\n",
       "\t<tr><td>abandon    </td><td>fear       </td></tr>\n",
       "\t<tr><td>abandon    </td><td>negative   </td></tr>\n",
       "\t<tr><td>abandon    </td><td>sadness    </td></tr>\n",
       "\t<tr><td>abandoned  </td><td>anger      </td></tr>\n",
       "\t<tr><td>abandoned  </td><td>fear       </td></tr>\n",
       "\t<tr><td>abandoned  </td><td>negative   </td></tr>\n",
       "\t<tr><td>abandoned  </td><td>sadness    </td></tr>\n",
       "\t<tr><td>abandonment</td><td>anger      </td></tr>\n",
       "\t<tr><td>abandonment</td><td>fear       </td></tr>\n",
       "</tbody>\n",
       "</table>\n"
      ],
      "text/latex": [
       "\\begin{tabular}{r|ll}\n",
       " word & sentiment\\\\\n",
       "\\hline\n",
       "\t abacus      & trust      \\\\\n",
       "\t abandon     & fear       \\\\\n",
       "\t abandon     & negative   \\\\\n",
       "\t abandon     & sadness    \\\\\n",
       "\t abandoned   & anger      \\\\\n",
       "\t abandoned   & fear       \\\\\n",
       "\t abandoned   & negative   \\\\\n",
       "\t abandoned   & sadness    \\\\\n",
       "\t abandonment & anger      \\\\\n",
       "\t abandonment & fear       \\\\\n",
       "\\end{tabular}\n"
      ],
      "text/markdown": [
       "\n",
       "word | sentiment | \n",
       "|---|---|---|---|---|---|---|---|---|---|\n",
       "| abacus      | trust       | \n",
       "| abandon     | fear        | \n",
       "| abandon     | negative    | \n",
       "| abandon     | sadness     | \n",
       "| abandoned   | anger       | \n",
       "| abandoned   | fear        | \n",
       "| abandoned   | negative    | \n",
       "| abandoned   | sadness     | \n",
       "| abandonment | anger       | \n",
       "| abandonment | fear        | \n",
       "\n",
       "\n"
      ],
      "text/plain": [
       "   word        sentiment\n",
       "1  abacus      trust    \n",
       "2  abandon     fear     \n",
       "3  abandon     negative \n",
       "4  abandon     sadness  \n",
       "5  abandoned   anger    \n",
       "6  abandoned   fear     \n",
       "7  abandoned   negative \n",
       "8  abandoned   sadness  \n",
       "9  abandonment anger    \n",
       "10 abandonment fear     "
      ]
     },
     "metadata": {},
     "output_type": "display_data"
    }
   ],
   "source": [
    "get_sentiments(\"afinn\") %>% head(10)\n",
    "get_sentiments(\"bing\") %>% head(10)\n",
    "get_sentiments(\"nrc\") %>% head(10)"
   ]
  },
  {
   "cell_type": "markdown",
   "metadata": {},
   "source": [
    "Below we use the *bing* lexicon to add a new variable indicating whether each word in our `tidy_tweets` data frame is positive or negative. We use a left join here, which keeps *all* the words in `tidy_tweets`. Words appearing in our tweets but not in the *bing* lexicon will appear as `NA`. We rename these \"neutral\", but need to be a bit careful here. No sentiment lexicon contains all words, so some words that are *actually* positive or negative will be labelled as `NA` and hence \"neutral\". We can avoid this problem by using an inner join rather than a left join, by filtering out neutral words later on, or by just keeping in mind that \"neutral\" doesn't really mean \"neutral\".\n",
    "\n",
    "There's one last issue: in the *bing* lexicon the word \"trump\" is positive, which will obviously skew the sentiment of Trump's tweets, particularly bearing in mind he often tweets about himself! We (rather generously I think) manually recode the sentiment of this word to \"neutral\"."
   ]
  },
  {
   "cell_type": "code",
   "execution_count": 5,
   "metadata": {
    "collapsed": false
   },
   "outputs": [
    {
     "name": "stderr",
     "output_type": "stream",
     "text": [
      "Joining, by = \"word\"\n"
     ]
    }
   ],
   "source": [
    "tidy_tweets <- tidy_tweets %>% \n",
    "  left_join(get_sentiments(\"bing\")) %>% # add sentiments (pos or neg)\n",
    "  select(word,sentiment,everything()) %>%\n",
    "  mutate(sentiment = ifelse(word == \"trump\", NA, sentiment)) %>% # \"trump\" is a positive word in the bing lexicon!\n",
    "  mutate(sentiment = ifelse(is.na(sentiment), \"neutral\", sentiment))"
   ]
  },
  {
   "cell_type": "markdown",
   "metadata": {},
   "source": [
    "Let's look at Trump's 20 most common positive words:"
   ]
  },
  {
   "cell_type": "code",
   "execution_count": 6,
   "metadata": {
    "collapsed": false
   },
   "outputs": [
    {
     "data": {},
     "metadata": {},
     "output_type": "display_data"
    },
    {
     "data": {
      "image/png": "[encoded data removed]",
      "text/plain": [
       "plot without title"
      ]
     },
     "metadata": {},
     "output_type": "display_data"
    }
   ],
   "source": [
    "tidy_tweets %>%\n",
    "  filter(sentiment == \"positive\") %>%\n",
    "  count(word) %>%\n",
    "  arrange(desc(n)) %>%\n",
    "  filter(rank(desc(n)) <= 20) %>%\n",
    "  ggplot(aes(reorder(word,n),n)) + geom_col() + coord_flip() + xlab(\"\")"
   ]
  },
  {
   "cell_type": "markdown",
   "metadata": {},
   "source": [
    "and the 20 most common negative words:"
   ]
  },
  {
   "cell_type": "code",
   "execution_count": 7,
   "metadata": {
    "collapsed": false
   },
   "outputs": [
    {
     "data": {},
     "metadata": {},
     "output_type": "display_data"
    },
    {
     "data": {
      "image/png": "[encoded data removed]",
      "text/plain": [
       "plot without title"
      ]
     },
     "metadata": {},
     "output_type": "display_data"
    }
   ],
   "source": [
    "tidy_tweets %>%\n",
    "  filter(sentiment == \"negative\") %>%\n",
    "  count(word) %>%\n",
    "  arrange(desc(n)) %>%\n",
    "  filter(rank(desc(n)) <= 20) %>%\n",
    "  ggplot(aes(reorder(word,n),n)) + geom_col() + coord_flip() + xlab(\"\")"
   ]
  },
  {
   "cell_type": "markdown",
   "metadata": {},
   "source": [
    "## Changes in sentiment over time\n",
    "\n",
    "Once we have attached sentiments to words in our data frame, we can analyze these in various ways. For example, we can examine trends in sentiment over time. Here we count the number of positive, negative and neutral words used each month and plot these. Because the neutral words dominate, its difficult to see any trends with them included (try this and see for yourself). We therefore remove the neutral words before plotting."
   ]
  },
  {
   "cell_type": "code",
   "execution_count": 8,
   "metadata": {
    "collapsed": true
   },
   "outputs": [],
   "source": [
    "sentiments_per_month <- tidy_tweets %>%\n",
    "  group_by(month, sentiment) %>%\n",
    "  summarize(n = n()) "
   ]
  },
  {
   "cell_type": "code",
   "execution_count": 9,
   "metadata": {
    "collapsed": false
   },
   "outputs": [
    {
     "data": {},
     "metadata": {},
     "output_type": "display_data"
    },
    {
     "data": {
      "image/png": "[encoded data removed]",
      "text/plain": [
       "plot without title"
      ]
     },
     "metadata": {},
     "output_type": "display_data"
    }
   ],
   "source": [
    "ggplot(filter(sentiments_per_month, sentiment != \"neutral\"), aes(x = month, y = n, fill = sentiment)) +\n",
    "  geom_col() "
   ]
  },
  {
   "cell_type": "markdown",
   "metadata": {},
   "source": [
    "There doesn't seem to be any very clear trend here, but the variation in the number of tweets made each month makes it difficult to see. We can improve the visualization by plotting the *proportion* of all words tweeted in a month that were positive or negative. The plot shows the raw proportions as well as smoothed versions of these. "
   ]
  },
  {
   "cell_type": "code",
   "execution_count": 10,
   "metadata": {
    "collapsed": false
   },
   "outputs": [
    {
     "name": "stderr",
     "output_type": "stream",
     "text": [
      "Joining, by = \"month\"\n"
     ]
    }
   ],
   "source": [
    "sentiments_per_month <- sentiments_per_month %>% \n",
    "  left_join(sentiments_per_month %>% \n",
    "            group_by(month) %>% \n",
    "            summarise(total = sum(n))) %>%\n",
    "  mutate(freq = n/total) "
   ]
  },
  {
   "cell_type": "code",
   "execution_count": 11,
   "metadata": {
    "collapsed": false
   },
   "outputs": [
    {
     "name": "stderr",
     "output_type": "stream",
     "text": [
      "`geom_smooth()` using method = 'loess'\n"
     ]
    },
    {
     "data": {},
     "metadata": {},
     "output_type": "display_data"
    },
    {
     "data": {
      "image/png": "[encoded data removed]",
      "text/plain": [
       "plot without title"
      ]
     },
     "metadata": {},
     "output_type": "display_data"
    }
   ],
   "source": [
    "sentiments_per_month %>% filter(sentiment != \"neutral\") %>%\n",
    "  ggplot(aes(x = month, y = freq, colour = sentiment)) +\n",
    "  geom_line() + \n",
    "  geom_smooth(aes(colour = sentiment))"
   ]
  },
  {
   "cell_type": "markdown",
   "metadata": {},
   "source": [
    "We can fit a simple linear model to check with the proportion of negative words has increased over time. Strictly speaking the linear model is not appropriate as the response is bounded to lie between 0 and 1 - you could try fitting e.g. a binomial GLM instead."
   ]
  },
  {
   "cell_type": "code",
   "execution_count": 12,
   "metadata": {
    "collapsed": false
   },
   "outputs": [
    {
     "data": {
      "text/plain": [
       "\n",
       "Call:\n",
       "lm(formula = freq ~ month, data = subset(sentiments_per_month, \n",
       "    sentiment == \"negative\"))\n",
       "\n",
       "Residuals:\n",
       "      Min        1Q    Median        3Q       Max \n",
       "-0.044389 -0.016194 -0.000743  0.016303  0.050656 \n",
       "\n",
       "Coefficients:\n",
       "              Estimate Std. Error t value Pr(>|t|)    \n",
       "(Intercept) -2.202e-01  4.301e-02  -5.119 1.76e-06 ***\n",
       "month        1.764e-05  2.687e-06   6.565 3.37e-09 ***\n",
       "---\n",
       "Signif. codes:  0 '***' 0.001 '**' 0.01 '*' 0.05 '.' 0.1 ' ' 1\n",
       "\n",
       "Residual standard error: 0.02137 on 89 degrees of freedom\n",
       "Multiple R-squared:  0.3263,\tAdjusted R-squared:  0.3187 \n",
       "F-statistic:  43.1 on 1 and 89 DF,  p-value: 3.373e-09\n"
      ]
     },
     "metadata": {},
     "output_type": "display_data"
    }
   ],
   "source": [
    "model <- lm(freq ~ month, data = subset(sentiments_per_month, sentiment == \"negative\"))\n",
    "summary(model)"
   ]
  },
  {
   "cell_type": "markdown",
   "metadata": {},
   "source": [
    "## Aggregating sentiment over words\n",
    "\n",
    "So far we've looked at the sentiment of individual words. How can we assess the sentiment of longer sequences of text, like bigrams, sentences or entire tweets. One approach is to attach sentiments to each word in the longer sequence, and then add up the sentiments over words. This isn't the only way, but it is relatively easy to do and fits in nicely with the use of tidy text data. \n",
    "\n",
    "Suppose we want to analyze the sentiment of entire tweets. We'll measure the positivity of a tweet by the difference in the number of positive and negative words used in the tweet."
   ]
  },
  {
   "cell_type": "code",
   "execution_count": 13,
   "metadata": {
    "collapsed": true
   },
   "outputs": [],
   "source": [
    "sentiments_per_tweet <- tidy_tweets %>%\n",
    "  group_by(id_str) %>%\n",
    "  summarize(net_sentiment = (sum(sentiment == \"positive\") - sum(sentiment == \"negative\")),\n",
    "            month = first(month))"
   ]
  },
  {
   "cell_type": "markdown",
   "metadata": {},
   "source": [
    "To see if the measure makes sense, let's have a look at the most negative tweets."
   ]
  },
  {
   "cell_type": "code",
   "execution_count": 14,
   "metadata": {
    "collapsed": false
   },
   "outputs": [
    {
     "name": "stderr",
     "output_type": "stream",
     "text": [
      "Joining, by = c(\"id_str\", \"month\")\n"
     ]
    },
    {
     "data": {
      "text/html": [
       "<table>\n",
       "<thead><tr><th scope=col>text</th><th scope=col>net_sentiment</th></tr></thead>\n",
       "<tbody>\n",
       "\t<tr><td>How come every time I show anger, disgust or impatience, enemies say I had a tantrum or meltdown—stupid or dishonest people?                    </td><td>-8                                                                                                                                              </td></tr>\n",
       "\t<tr><td>Hillary said \"I really deplore the tone and inflammatory rhetoric of his campaign.\" I deplore the death and destruction she caused-stupidity    </td><td>-7                                                                                                                                              </td></tr>\n",
       "\t<tr><td>The Fake News Media has never been so wrong or so dirty. Purposely incorrect stories and phony sources to meet their agenda of hate. Sad!       </td><td>-7                                                                                                                                              </td></tr>\n",
       "\t<tr><td>.@BarackObama is promoting ugly, inefficient, unreliable, bird-killing, noisy, neighborhood-destroying wind turbines. Big mistake.              </td><td>-6                                                                                                                                              </td></tr>\n",
       "\t<tr><td><span style=white-space:pre-wrap>\"@bx_bobby: @realDonaldTrump what was racist about that story?\"  The story wasn't racist, just inaccurate and wrong. Bryant is dumb &amp;amp; racist</span></td><td>-6                                                                                                                                                                                          </td></tr>\n",
       "\t<tr><td><span style=white-space:pre-wrap>I've just started blocking out some of the repetitive and boring (&amp;amp; dumb) haters and losers. They are a waste of time and energy!           </span></td><td>-6                                                                                                                                                                                          </td></tr>\n",
       "\t<tr><td>Really bad article about me in the dying (or dead) Esquire Magazine. Totally false - lots of hatred. When will this boring magazine close?      </td><td>-6                                                                                                                                              </td></tr>\n",
       "\t<tr><td>“I'm not afraid of failing. I don't like to fail. I hate to fail. But I'm not afraid of it.” - @VinceMcMahon                                    </td><td>-6                                                                                                                                              </td></tr>\n",
       "\t<tr><td>The virtually incompetent Republican Strategist who has had a failed career, Cheri Jacobus, is incoherent with anger that her puppets died!     </td><td>-6                                                                                                                                              </td></tr>\n",
       "\t<tr><td>.@KarlRove is a biased dope who wrote falsely about me re China and TPP. This moron wasted $430 million on political campaigns and lost 100%    </td><td>-6                                                                                                                                              </td></tr>\n",
       "</tbody>\n",
       "</table>\n"
      ],
      "text/latex": [
       "\\begin{tabular}{r|ll}\n",
       " text & net\\_sentiment\\\\\n",
       "\\hline\n",
       "\t How come every time I show anger, disgust or impatience, enemies say I had a tantrum or meltdown—stupid or dishonest people?                     & -8                                                                                                                                              \\\\\n",
       "\t Hillary said \"I really deplore the tone and inflammatory rhetoric of his campaign.\" I deplore the death and destruction she caused-stupidity     & -7                                                                                                                                              \\\\\n",
       "\t The Fake News Media has never been so wrong or so dirty. Purposely incorrect stories and phony sources to meet their agenda of hate. Sad!        & -7                                                                                                                                              \\\\\n",
       "\t .@BarackObama is promoting ugly, inefficient, unreliable, bird-killing, noisy, neighborhood-destroying wind turbines. Big mistake.               & -6                                                                                                                                              \\\\\n",
       "\t \"@bx\\_bobby: @realDonaldTrump what was racist about that story?\"  The story wasn't racist, just inaccurate and wrong. Bryant is dumb \\&amp; racist & -6                                                                                                                                                  \\\\\n",
       "\t I've just started blocking out some of the repetitive and boring (\\&amp; dumb) haters and losers. They are a waste of time and energy!            & -6                                                                                                                                                \\\\\n",
       "\t Really bad article about me in the dying (or dead) Esquire Magazine. Totally false - lots of hatred. When will this boring magazine close?       & -6                                                                                                                                              \\\\\n",
       "\t “I'm not afraid of failing. I don't like to fail. I hate to fail. But I'm not afraid of it.” - @VinceMcMahon                                     & -6                                                                                                                                              \\\\\n",
       "\t The virtually incompetent Republican Strategist who has had a failed career, Cheri Jacobus, is incoherent with anger that her puppets died!      & -6                                                                                                                                              \\\\\n",
       "\t .@KarlRove is a biased dope who wrote falsely about me re China and TPP. This moron wasted \\$430 million on political campaigns and lost 100\\%     & -6                                                                                                                                                  \\\\\n",
       "\\end{tabular}\n"
      ],
      "text/markdown": [
       "\n",
       "text | net_sentiment | \n",
       "|---|---|---|---|---|---|---|---|---|---|\n",
       "| How come every time I show anger, disgust or impatience, enemies say I had a tantrum or meltdown—stupid or dishonest people?                     | -8                                                                                                                                               | \n",
       "| Hillary said \"I really deplore the tone and inflammatory rhetoric of his campaign.\" I deplore the death and destruction she caused-stupidity     | -7                                                                                                                                               | \n",
       "| The Fake News Media has never been so wrong or so dirty. Purposely incorrect stories and phony sources to meet their agenda of hate. Sad!        | -7                                                                                                                                               | \n",
       "| .@BarackObama is promoting ugly, inefficient, unreliable, bird-killing, noisy, neighborhood-destroying wind turbines. Big mistake.               | -6                                                                                                                                               | \n",
       "| \"@bx_bobby: @realDonaldTrump what was racist about that story?\"  The story wasn't racist, just inaccurate and wrong. Bryant is dumb &amp; racist | -6                                                                                                                                               | \n",
       "| I've just started blocking out some of the repetitive and boring (&amp; dumb) haters and losers. They are a waste of time and energy!            | -6                                                                                                                                               | \n",
       "| Really bad article about me in the dying (or dead) Esquire Magazine. Totally false - lots of hatred. When will this boring magazine close?       | -6                                                                                                                                               | \n",
       "| “I'm not afraid of failing. I don't like to fail. I hate to fail. But I'm not afraid of it.” - @VinceMcMahon                                     | -6                                                                                                                                               | \n",
       "| The virtually incompetent Republican Strategist who has had a failed career, Cheri Jacobus, is incoherent with anger that her puppets died!      | -6                                                                                                                                               | \n",
       "| .@KarlRove is a biased dope who wrote falsely about me re China and TPP. This moron wasted $430 million on political campaigns and lost 100%     | -6                                                                                                                                               | \n",
       "\n",
       "\n"
      ],
      "text/plain": [
       "   text                                                                                                                                            \n",
       "1  How come every time I show anger, disgust or impatience, enemies say I had a tantrum or meltdownstupid or dishonest people?                    \n",
       "2  Hillary said \"I really deplore the tone and inflammatory rhetoric of his campaign.\" I deplore the death and destruction she caused-stupidity    \n",
       "3  The Fake News Media has never been so wrong or so dirty. Purposely incorrect stories and phony sources to meet their agenda of hate. Sad!       \n",
       "4  .@BarackObama is promoting ugly, inefficient, unreliable, bird-killing, noisy, neighborhood-destroying wind turbines. Big mistake.              \n",
       "5  \"@bx_bobby: @realDonaldTrump what was racist about that story?\"  The story wasn't racist, just inaccurate and wrong. Bryant is dumb &amp; racist\n",
       "6  I've just started blocking out some of the repetitive and boring (&amp; dumb) haters and losers. They are a waste of time and energy!           \n",
       "7  Really bad article about me in the dying (or dead) Esquire Magazine. Totally false - lots of hatred. When will this boring magazine close?      \n",
       "8  I'm not afraid of failing. I don't like to fail. I hate to fail. But I'm not afraid of it. - @VinceMcMahon                                    \n",
       "9  The virtually incompetent Republican Strategist who has had a failed career, Cheri Jacobus, is incoherent with anger that her puppets died!     \n",
       "10 .@KarlRove is a biased dope who wrote falsely about me re China and TPP. This moron wasted $430 million on political campaigns and lost 100%    \n",
       "   net_sentiment\n",
       "1  -8           \n",
       "2  -7           \n",
       "3  -7           \n",
       "4  -6           \n",
       "5  -6           \n",
       "6  -6           \n",
       "7  -6           \n",
       "8  -6           \n",
       "9  -6           \n",
       "10 -6           "
      ]
     },
     "metadata": {},
     "output_type": "display_data"
    }
   ],
   "source": [
    "tweets %>% \n",
    "    left_join(sentiments_per_tweet) %>% \n",
    "    arrange(net_sentiment) %>% \n",
    "    head(10) %>%\n",
    "    select(text, net_sentiment) "
   ]
  },
  {
   "cell_type": "markdown",
   "metadata": {},
   "source": [
    "And the most positive tweets:"
   ]
  },
  {
   "cell_type": "code",
   "execution_count": 15,
   "metadata": {
    "collapsed": false
   },
   "outputs": [
    {
     "name": "stderr",
     "output_type": "stream",
     "text": [
      "Joining, by = c(\"id_str\", \"month\")\n"
     ]
    },
    {
     "data": {
      "text/html": [
       "<table>\n",
       "<thead><tr><th scope=col>text</th><th scope=col>net_sentiment</th></tr></thead>\n",
       "<tbody>\n",
       "\t<tr><td>\"@HHShkMohd: To all people in the UAE: your support and enthusiasm fuelled our victory at Dubai #Expo2020. Congratulations, a fantastic win!  </td><td>6                                                                                                                                             </td></tr>\n",
       "\t<tr><td>\"Success is not the key to happiness. Happiness is the key to success. If you love what you are doing, you'll be a success.\" - A. Schweitzer  </td><td>6                                                                                                                                             </td></tr>\n",
       "\t<tr><td>Be tenacious. Being tenacious means you're tough and patient at once, so it's a formidable combination.                                       </td><td>5                                                                                                                                             </td></tr>\n",
       "\t<tr><td>Happy to hear that @ralphreed's Faith and Freedom chapters are at the @RNC convention supporting @MittRomney. We must be united to win!       </td><td>5                                                                                                                                             </td></tr>\n",
       "\t<tr><td>Work is fun, deals are fun, life is fun - but love of a great family makes it all come together. Go out there and make your family proud.     </td><td>5                                                                                                                                             </td></tr>\n",
       "\t<tr><td><span style=white-space:pre-wrap>Winner of the 5 Star Diamond Award, @TrumpGolfLA brings luxury &amp;amp; elite amenities to LA's top public golf course http://t.co/MYiwkyfiVU    </span></td><td>5                                                                                                                                                                                         </td></tr>\n",
       "\t<tr><td>“Build confidence starting with small successes that lead to greater and greater successes--there is nothing like winning.\" -Think Big        </td><td>5                                                                                                                                             </td></tr>\n",
       "\t<tr><td>Negotiation tip: Be reasonable &amp;amp; flexible. Being open to change could lead you into a fortunate situation and open the door to innovation.</td><td>5                                                                                                                                                 </td></tr>\n",
       "\t<tr><td>\"@barnard_sonja: @realDonaldTrump I wish I had your confidence!\"  WIN, WIN, WIN and you will develop great confidence!                        </td><td>5                                                                                                                                             </td></tr>\n",
       "\t<tr><td>\"Remember that things are cyclical, so be resilient, be patient, be creative, and remain positive.\" - Think Like a Champion                   </td><td>5                                                                                                                                             </td></tr>\n",
       "</tbody>\n",
       "</table>\n"
      ],
      "text/latex": [
       "\\begin{tabular}{r|ll}\n",
       " text & net\\_sentiment\\\\\n",
       "\\hline\n",
       "\t \"@HHShkMohd: To all people in the UAE: your support and enthusiasm fuelled our victory at Dubai \\#Expo2020. Congratulations, a fantastic win!   & 6                                                                                                                                               \\\\\n",
       "\t \"Success is not the key to happiness. Happiness is the key to success. If you love what you are doing, you'll be a success.\" - A. Schweitzer   & 6                                                                                                                                             \\\\\n",
       "\t Be tenacious. Being tenacious means you're tough and patient at once, so it's a formidable combination.                                        & 5                                                                                                                                             \\\\\n",
       "\t Happy to hear that @ralphreed's Faith and Freedom chapters are at the @RNC convention supporting @MittRomney. We must be united to win!        & 5                                                                                                                                             \\\\\n",
       "\t Work is fun, deals are fun, life is fun - but love of a great family makes it all come together. Go out there and make your family proud.      & 5                                                                                                                                             \\\\\n",
       "\t Winner of the 5 Star Diamond Award, @TrumpGolfLA brings luxury \\&amp; elite amenities to LA's top public golf course http://t.co/MYiwkyfiVU     & 5                                                                                                                                               \\\\\n",
       "\t “Build confidence starting with small successes that lead to greater and greater successes--there is nothing like winning.\" -Think Big         & 5                                                                                                                                             \\\\\n",
       "\t Negotiation tip: Be reasonable \\&amp; flexible. Being open to change could lead you into a fortunate situation and open the door to innovation. & 5                                                                                                                                               \\\\\n",
       "\t \"@barnard\\_sonja: @realDonaldTrump I wish I had your confidence!\"  WIN, WIN, WIN and you will develop great confidence!                         & 5                                                                                                                                               \\\\\n",
       "\t \"Remember that things are cyclical, so be resilient, be patient, be creative, and remain positive.\" - Think Like a Champion                    & 5                                                                                                                                             \\\\\n",
       "\\end{tabular}\n"
      ],
      "text/markdown": [
       "\n",
       "text | net_sentiment | \n",
       "|---|---|---|---|---|---|---|---|---|---|\n",
       "| \"@HHShkMohd: To all people in the UAE: your support and enthusiasm fuelled our victory at Dubai #Expo2020. Congratulations, a fantastic win!   | 6                                                                                                                                              | \n",
       "| \"Success is not the key to happiness. Happiness is the key to success. If you love what you are doing, you'll be a success.\" - A. Schweitzer   | 6                                                                                                                                              | \n",
       "| Be tenacious. Being tenacious means you're tough and patient at once, so it's a formidable combination.                                        | 5                                                                                                                                              | \n",
       "| Happy to hear that @ralphreed's Faith and Freedom chapters are at the @RNC convention supporting @MittRomney. We must be united to win!        | 5                                                                                                                                              | \n",
       "| Work is fun, deals are fun, life is fun - but love of a great family makes it all come together. Go out there and make your family proud.      | 5                                                                                                                                              | \n",
       "| Winner of the 5 Star Diamond Award, @TrumpGolfLA brings luxury &amp; elite amenities to LA's top public golf course http://t.co/MYiwkyfiVU     | 5                                                                                                                                              | \n",
       "| “Build confidence starting with small successes that lead to greater and greater successes--there is nothing like winning.\" -Think Big         | 5                                                                                                                                              | \n",
       "| Negotiation tip: Be reasonable &amp; flexible. Being open to change could lead you into a fortunate situation and open the door to innovation. | 5                                                                                                                                              | \n",
       "| \"@barnard_sonja: @realDonaldTrump I wish I had your confidence!\"  WIN, WIN, WIN and you will develop great confidence!                         | 5                                                                                                                                              | \n",
       "| \"Remember that things are cyclical, so be resilient, be patient, be creative, and remain positive.\" - Think Like a Champion                    | 5                                                                                                                                              | \n",
       "\n",
       "\n"
      ],
      "text/plain": [
       "   text                                                                                                                                          \n",
       "1  \"@HHShkMohd: To all people in the UAE: your support and enthusiasm fuelled our victory at Dubai #Expo2020. Congratulations, a fantastic win!  \n",
       "2  \"Success is not the key to happiness. Happiness is the key to success. If you love what you are doing, you'll be a success.\" - A. Schweitzer  \n",
       "3  Be tenacious. Being tenacious means you're tough and patient at once, so it's a formidable combination.                                       \n",
       "4  Happy to hear that @ralphreed's Faith and Freedom chapters are at the @RNC convention supporting @MittRomney. We must be united to win!       \n",
       "5  Work is fun, deals are fun, life is fun - but love of a great family makes it all come together. Go out there and make your family proud.     \n",
       "6  Winner of the 5 Star Diamond Award, @TrumpGolfLA brings luxury &amp; elite amenities to LA's top public golf course http://t.co/MYiwkyfiVU    \n",
       "7  Build confidence starting with small successes that lead to greater and greater successes--there is nothing like winning.\" -Think Big        \n",
       "8  Negotiation tip: Be reasonable &amp; flexible. Being open to change could lead you into a fortunate situation and open the door to innovation.\n",
       "9  \"@barnard_sonja: @realDonaldTrump I wish I had your confidence!\"  WIN, WIN, WIN and you will develop great confidence!                        \n",
       "10 \"Remember that things are cyclical, so be resilient, be patient, be creative, and remain positive.\" - Think Like a Champion                   \n",
       "   net_sentiment\n",
       "1  6            \n",
       "2  6            \n",
       "3  5            \n",
       "4  5            \n",
       "5  5            \n",
       "6  5            \n",
       "7  5            \n",
       "8  5            \n",
       "9  5            \n",
       "10 5            "
      ]
     },
     "metadata": {},
     "output_type": "display_data"
    }
   ],
   "source": [
    "tweets %>% \n",
    "  left_join(sentiments_per_tweet) %>% \n",
    "  arrange(desc(net_sentiment)) %>% \n",
    "    head(10) %>%\n",
    "  select(text, net_sentiment) "
   ]
  },
  {
   "cell_type": "markdown",
   "metadata": {},
   "source": [
    "We can also look at trends over time. The plot below shows the proportion of monthly tweets that were negative (i.e. where the number of negative words exceeded the number of positive ones)."
   ]
  },
  {
   "cell_type": "code",
   "execution_count": 16,
   "metadata": {
    "collapsed": false
   },
   "outputs": [
    {
     "name": "stderr",
     "output_type": "stream",
     "text": [
      "`geom_smooth()` using method = 'loess'\n"
     ]
    },
    {
     "data": {},
     "metadata": {},
     "output_type": "display_data"
    },
    {
     "data": {
      "image/png": "[encoded data removed]",
      "text/plain": [
       "plot without title"
      ]
     },
     "metadata": {},
     "output_type": "display_data"
    }
   ],
   "source": [
    "sentiments_per_tweet %>%\n",
    "  group_by(month) %>%\n",
    "  summarize(prop_neg = sum(net_sentiment < 0) / n()) %>%\n",
    "  ggplot(aes(x = month, y = prop_neg)) +\n",
    "  geom_line() + geom_smooth()"
   ]
  },
  {
   "cell_type": "markdown",
   "metadata": {},
   "source": [
    " ## Dealing with negation\n",
    " \n",
    "One problem we haven't considered yet is what to do with terms like \"not good\", where a positive word is negated by the use of \"not\" before it. We need to reverse the sentiment of words that are preceded by negation words like not, never, *etc*.\n",
    " \n",
    "We'll do this in the context of a sentiment analysis on bigrams. We start by creating the bigrams, and separating the two words making up each bigram. This is the same code used in the previous notebook."
   ]
  },
  {
   "cell_type": "code",
   "execution_count": 17,
   "metadata": {
    "collapsed": true
   },
   "outputs": [],
   "source": [
    "bigrams_separated  <- tweets %>%\n",
    "  filter(!str_detect(text, \"^RT\")) %>%\n",
    "  mutate(text = str_replace_all(text, replace_reg, \"\")) %>%\n",
    "  unnest_tokens(bigram, text, token = \"ngrams\", n = 2) %>%\n",
    "  separate(bigram, c(\"word1\", \"word2\"), sep = \" \")"
   ]
  },
  {
   "cell_type": "markdown",
   "metadata": {},
   "source": [
    "Then we use the *bing* sentiment dictionary to look up the sentiment of each word in each bigram. "
   ]
  },
  {
   "cell_type": "code",
   "execution_count": 18,
   "metadata": {
    "collapsed": true
   },
   "outputs": [],
   "source": [
    "bigrams_separated <- bigrams_separated %>% \n",
    "    # add sentiment for word 1\n",
    "    left_join(get_sentiments(\"bing\"), by = c(word1 = \"word\")) %>%\n",
    "    rename(sentiment1 = sentiment) %>%\n",
    "    mutate(sentiment1 = ifelse(word1 == \"trump\", NA, sentiment1)) %>%\n",
    "    mutate(sentiment1 = ifelse(is.na(sentiment1), \"neutral\", sentiment1)) %>%\n",
    "    \n",
    "    # add sentiment for word 1\n",
    "    left_join(get_sentiments(\"bing\"), by = c(word2 = \"word\")) %>%\n",
    "    rename(sentiment2 = sentiment) %>%\n",
    "    mutate(sentiment2 = ifelse(word2 == \"trump\", NA, sentiment2)) %>%\n",
    "    mutate(sentiment2 = ifelse(is.na(sentiment2), \"neutral\", sentiment2)) %>%\n",
    "    select(month,word1,word2,sentiment1,sentiment2,everything())"
   ]
  },
  {
   "cell_type": "markdown",
   "metadata": {},
   "source": [
    "Now we need a list of words that we consider to be negation words. I'll use the following set, taken from TMR [Chapter 4](http://tidytextmining.com/ngrams.html), and show a few examples."
   ]
  },
  {
   "cell_type": "code",
   "execution_count": 19,
   "metadata": {
    "collapsed": false
   },
   "outputs": [
    {
     "data": {
      "text/html": [
       "<table>\n",
       "<thead><tr><th scope=col>month</th><th scope=col>word1</th><th scope=col>word2</th><th scope=col>sentiment1</th><th scope=col>sentiment2</th></tr></thead>\n",
       "<tbody>\n",
       "\t<tr><td>2012-10-01</td><td>not       </td><td>a         </td><td>neutral   </td><td>neutral   </td></tr>\n",
       "\t<tr><td>2012-10-01</td><td>no        </td><td>check     </td><td>neutral   </td><td>neutral   </td></tr>\n",
       "\t<tr><td>2012-10-01</td><td>never     </td><td>properly  </td><td>neutral   </td><td>positive  </td></tr>\n",
       "\t<tr><td>2012-11-01</td><td>not       </td><td>show      </td><td>neutral   </td><td>neutral   </td></tr>\n",
       "\t<tr><td>2012-11-01</td><td>no        </td><td>talent    </td><td>neutral   </td><td>positive  </td></tr>\n",
       "\t<tr><td>2012-11-01</td><td>no        </td><td>persona   </td><td>neutral   </td><td>neutral   </td></tr>\n",
       "\t<tr><td>2013-02-01</td><td>no        </td><td>longer    </td><td>neutral   </td><td>neutral   </td></tr>\n",
       "\t<tr><td>2013-02-01</td><td>no        </td><td>money     </td><td>neutral   </td><td>neutral   </td></tr>\n",
       "\t<tr><td>2013-02-01</td><td>no        </td><td>comparison</td><td>neutral   </td><td>neutral   </td></tr>\n",
       "\t<tr><td>2013-03-01</td><td>not       </td><td>going     </td><td>neutral   </td><td>neutral   </td></tr>\n",
       "</tbody>\n",
       "</table>\n"
      ],
      "text/latex": [
       "\\begin{tabular}{r|lllll}\n",
       " month & word1 & word2 & sentiment1 & sentiment2\\\\\n",
       "\\hline\n",
       "\t 2012-10-01 & not        & a          & neutral    & neutral   \\\\\n",
       "\t 2012-10-01 & no         & check      & neutral    & neutral   \\\\\n",
       "\t 2012-10-01 & never      & properly   & neutral    & positive  \\\\\n",
       "\t 2012-11-01 & not        & show       & neutral    & neutral   \\\\\n",
       "\t 2012-11-01 & no         & talent     & neutral    & positive  \\\\\n",
       "\t 2012-11-01 & no         & persona    & neutral    & neutral   \\\\\n",
       "\t 2013-02-01 & no         & longer     & neutral    & neutral   \\\\\n",
       "\t 2013-02-01 & no         & money      & neutral    & neutral   \\\\\n",
       "\t 2013-02-01 & no         & comparison & neutral    & neutral   \\\\\n",
       "\t 2013-03-01 & not        & going      & neutral    & neutral   \\\\\n",
       "\\end{tabular}\n"
      ],
      "text/markdown": [
       "\n",
       "month | word1 | word2 | sentiment1 | sentiment2 | \n",
       "|---|---|---|---|---|---|---|---|---|---|\n",
       "| 2012-10-01 | not        | a          | neutral    | neutral    | \n",
       "| 2012-10-01 | no         | check      | neutral    | neutral    | \n",
       "| 2012-10-01 | never      | properly   | neutral    | positive   | \n",
       "| 2012-11-01 | not        | show       | neutral    | neutral    | \n",
       "| 2012-11-01 | no         | talent     | neutral    | positive   | \n",
       "| 2012-11-01 | no         | persona    | neutral    | neutral    | \n",
       "| 2013-02-01 | no         | longer     | neutral    | neutral    | \n",
       "| 2013-02-01 | no         | money      | neutral    | neutral    | \n",
       "| 2013-02-01 | no         | comparison | neutral    | neutral    | \n",
       "| 2013-03-01 | not        | going      | neutral    | neutral    | \n",
       "\n",
       "\n"
      ],
      "text/plain": [
       "   month      word1 word2      sentiment1 sentiment2\n",
       "1  2012-10-01 not   a          neutral    neutral   \n",
       "2  2012-10-01 no    check      neutral    neutral   \n",
       "3  2012-10-01 never properly   neutral    positive  \n",
       "4  2012-11-01 not   show       neutral    neutral   \n",
       "5  2012-11-01 no    talent     neutral    positive  \n",
       "6  2012-11-01 no    persona    neutral    neutral   \n",
       "7  2013-02-01 no    longer     neutral    neutral   \n",
       "8  2013-02-01 no    money      neutral    neutral   \n",
       "9  2013-02-01 no    comparison neutral    neutral   \n",
       "10 2013-03-01 not   going      neutral    neutral   "
      ]
     },
     "metadata": {},
     "output_type": "display_data"
    }
   ],
   "source": [
    "negation_words <- c(\"not\", \"no\", \"never\", \"without\")\n",
    "\n",
    "# show a few\n",
    "filter(bigrams_separated, word1 %in% negation_words) %>% \n",
    "    head(10) %>% select(month, word1, word2, sentiment1, sentiment2) # for display purposes"
   ]
  },
  {
   "cell_type": "markdown",
   "metadata": {},
   "source": [
    "We now reverse the sentiment of `word2` whenever it is preceded by a negation word, and then add up the number of positive and negative words within a bigram and take the difference. That difference (a score from -2 to +2) is the sentiment of the bigram.\n",
    "\n",
    "We do this in two steps for illustrative purposes. First we reverse the sentiment of the second word in the bigram if the first one is a negation word. "
   ]
  },
  {
   "cell_type": "code",
   "execution_count": 20,
   "metadata": {
    "collapsed": true
   },
   "outputs": [],
   "source": [
    "bigrams_separated <- bigrams_separated %>%\n",
    "\n",
    "    # create a variable that is the opposite of sentiment2\n",
    "    mutate(opp_sentiment2 = recode(sentiment2, \"positive\" = \"negative\",\n",
    "                                 \"negative\" = \"positive\",\n",
    "                                 \"neutral\" = \"neutral\")) %>%\n",
    "    \n",
    "    # reverse sentiment2 if word1 is a negation word\n",
    "    mutate(sentiment2 = ifelse(word1 %in% negation_words, opp_sentiment2, sentiment2)) %>%\n",
    "    \n",
    "    # remove the opposite sentiment variable, which we don't need any more\n",
    "    select(-opp_sentiment2)"
   ]
  },
  {
   "cell_type": "markdown",
   "metadata": {},
   "source": [
    "Next, we calculate the sentiment of each bigram and join up the words in the bigram again."
   ]
  },
  {
   "cell_type": "code",
   "execution_count": 21,
   "metadata": {
    "collapsed": true
   },
   "outputs": [],
   "source": [
    "bigrams_separated <- bigrams_separated %>%\n",
    "  mutate(net_sentiment = (sentiment1 == \"positive\") + (sentiment2 == \"positive\") - \n",
    "              (sentiment1 == \"negative\") - (sentiment2 == \"negative\")) %>%\n",
    "  unite(bigram, word1, word2, sep = \" \", remove = FALSE)"
   ]
  },
  {
   "cell_type": "markdown",
   "metadata": {},
   "source": [
    "Below we show Trump's most common positive and negative bigrams. "
   ]
  },
  {
   "cell_type": "code",
   "execution_count": 22,
   "metadata": {
    "collapsed": false
   },
   "outputs": [
    {
     "data": {},
     "metadata": {},
     "output_type": "display_data"
    },
    {
     "data": {
      "image/png": "[encoded data removed]",
      "text/plain": [
       "plot without title"
      ]
     },
     "metadata": {},
     "output_type": "display_data"
    }
   ],
   "source": [
    "bigrams_separated %>%\n",
    "  filter(net_sentiment > 0) %>% # get positive bigrams\n",
    "  count(bigram, sort = TRUE) %>%\n",
    "  filter(rank(desc(n)) < 20) %>%\n",
    "  ggplot(aes(reorder(bigram,n),n)) + geom_col() + coord_flip() + xlab(\"\")"
   ]
  },
  {
   "cell_type": "code",
   "execution_count": 23,
   "metadata": {
    "collapsed": false
   },
   "outputs": [
    {
     "data": {},
     "metadata": {},
     "output_type": "display_data"
    },
    {
     "data": {
      "image/png": "[encoded data removed]",
      "text/plain": [
       "plot without title"
      ]
     },
     "metadata": {},
     "output_type": "display_data"
    }
   ],
   "source": [
    "bigrams_separated %>%\n",
    "  filter(net_sentiment < 0) %>% # get negative bigrams\n",
    "  count(bigram, sort = TRUE) %>%\n",
    "  filter(rank(desc(n)) < 20) %>%\n",
    "  ggplot(aes(reorder(bigram,n),n)) + geom_col() + coord_flip() + xlab(\"\")"
   ]
  },
  {
   "cell_type": "markdown",
   "metadata": {},
   "source": [
    "None of the most common negative bigrams have negated words in them but some that are slightly less frequently used do. Notice that the most frequently used bigram below is \"no wonder\" - which is not really negative, although you can see how, using the approach we have, it has ended up classified as such. Cases like these would need to be handled on an individual basis."
   ]
  },
  {
   "cell_type": "code",
   "execution_count": 24,
   "metadata": {
    "collapsed": false
   },
   "outputs": [
    {
     "data": {},
     "metadata": {},
     "output_type": "display_data"
    },
    {
     "data": {
      "image/png": "[encoded data removed]",
      "text/plain": [
       "plot without title"
      ]
     },
     "metadata": {},
     "output_type": "display_data"
    }
   ],
   "source": [
    "bigrams_separated %>%\n",
    "    filter(net_sentiment < 0) %>% # get negative bigrams\n",
    "    filter(word1 %in% negation_words) %>% # get bigrams where first word is negation\n",
    "    count(bigram, sort = TRUE) %>%\n",
    "    filter(rank(desc(n)) < 20) %>%\n",
    "    ggplot(aes(reorder(bigram,n),n)) + geom_col() + coord_flip() + xlab(\"\")"
   ]
  },
  {
   "cell_type": "markdown",
   "metadata": {},
   "source": [
    "## Exercises\n",
    "\n",
    "1. Adverbs like \"very\", \"extremely\", \"totally\", \"really\", \"quite\", \"marginally\", *etc* increase or decrease the magnitude of the sentiment that follows them. Think of a few qualifiers and build these into the analyses above. What are they most positive and negative tweets once these qualifiers have been added? Does it affect the assessment of whether the sentiment of Trump's tweets has changed over time?\n",
    "2. Is there a relationship between the sentiment of a tweet and its popularity? Are negative tweets less popular than positive ones?\n",
    "3. Is there a \"day of the week\" effect on the number and sentiment of tweets? Are weekends any different to weekdays?\n",
    "4. Use the more nuanced *nrc* lexicon, which categorises words as \"anger\", \"fear\", *etc* to re-analyse Trump's tweets. Can you pick up anything interesting?\n",
    "5. Note the appearance of the bigrams \"miss usa\" and \"miss universe\" in the plot of most common negative bigrams in the notebook. This is a clear misinterpretation of \"miss\". How might you remove the ambiguity in these kinds of bigrams in a general way (either just think of a way or, better, implement it!)"
   ]
  }
 ],
 "metadata": {
  "anaconda-cloud": {},
  "kernelspec": {
   "display_name": "R",
   "language": "R",
   "name": "ir"
  },
  "language_info": {
   "codemirror_mode": "r",
   "file_extension": ".r",
   "mimetype": "text/x-r-source",
   "name": "R",
   "pygments_lexer": "r",
   "version": "3.4.1"
  }
 },
 "nbformat": 4,
 "nbformat_minor": 2
}
